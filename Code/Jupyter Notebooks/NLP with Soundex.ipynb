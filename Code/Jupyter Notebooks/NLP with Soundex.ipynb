{
 "cells": [
  {
   "cell_type": "code",
   "execution_count": 3,
   "metadata": {},
   "outputs": [],
   "source": [
    "import pandas as pd\n",
    "import matplotlib.pyplot as plt"
   ]
  },
  {
   "cell_type": "code",
   "execution_count": 14,
   "metadata": {},
   "outputs": [],
   "source": [
    "import jellyfish as j"
   ]
  },
  {
   "cell_type": "code",
   "execution_count": 7,
   "metadata": {},
   "outputs": [],
   "source": [
    "file = \"../../Sample tweets/noRTWT.csv\""
   ]
  },
  {
   "cell_type": "code",
   "execution_count": 9,
   "metadata": {},
   "outputs": [],
   "source": [
    "# df = pd.read_csv(file, error_bad_lines=False)"
   ]
  },
  {
   "cell_type": "code",
   "execution_count": 10,
   "metadata": {},
   "outputs": [
    {
     "data": {
      "text/html": [
       "<div>\n",
       "<style scoped>\n",
       "    .dataframe tbody tr th:only-of-type {\n",
       "        vertical-align: middle;\n",
       "    }\n",
       "\n",
       "    .dataframe tbody tr th {\n",
       "        vertical-align: top;\n",
       "    }\n",
       "\n",
       "    .dataframe thead th {\n",
       "        text-align: right;\n",
       "    }\n",
       "</style>\n",
       "<table border=\"1\" class=\"dataframe\">\n",
       "  <thead>\n",
       "    <tr style=\"text-align: right;\">\n",
       "      <th></th>\n",
       "      <th>username</th>\n",
       "      <th>tweet</th>\n",
       "      <th>location</th>\n",
       "      <th>followers_count</th>\n",
       "    </tr>\n",
       "  </thead>\n",
       "  <tbody>\n",
       "    <tr>\n",
       "      <th>0</th>\n",
       "      <td>ryanstruyk</td>\n",
       "      <td>64% of voters say they are *not satisfied* wit...</td>\n",
       "      <td>Washington, DC</td>\n",
       "      <td>76489</td>\n",
       "    </tr>\n",
       "    <tr>\n",
       "      <th>1</th>\n",
       "      <td>ThisWeekABC</td>\n",
       "      <td>Vice President Mike Pence says the U.S. is “sl...</td>\n",
       "      <td>NaN</td>\n",
       "      <td>194911</td>\n",
       "    </tr>\n",
       "    <tr>\n",
       "      <th>2</th>\n",
       "      <td>BrainiacBrands</td>\n",
       "      <td>How are you managing with little ones at home?...</td>\n",
       "      <td>United States</td>\n",
       "      <td>51378</td>\n",
       "    </tr>\n",
       "    <tr>\n",
       "      <th>3</th>\n",
       "      <td>dailystar</td>\n",
       "      <td>#Coronavirus turns Chinese doctors' skin black...</td>\n",
       "      <td>London</td>\n",
       "      <td>200708</td>\n",
       "    </tr>\n",
       "    <tr>\n",
       "      <th>4</th>\n",
       "      <td>TheDailyEdge</td>\n",
       "      <td>@NormOrnstein Tests per 1M/population:\\n\\n1. I...</td>\n",
       "      <td>Sign up for free email updates</td>\n",
       "      <td>185493</td>\n",
       "    </tr>\n",
       "  </tbody>\n",
       "</table>\n",
       "</div>"
      ],
      "text/plain": [
       "         username                                              tweet  \\\n",
       "0      ryanstruyk  64% of voters say they are *not satisfied* wit...   \n",
       "1     ThisWeekABC  Vice President Mike Pence says the U.S. is “sl...   \n",
       "2  BrainiacBrands  How are you managing with little ones at home?...   \n",
       "3       dailystar  #Coronavirus turns Chinese doctors' skin black...   \n",
       "4    TheDailyEdge  @NormOrnstein Tests per 1M/population:\\n\\n1. I...   \n",
       "\n",
       "                         location followers_count  \n",
       "0                  Washington, DC           76489  \n",
       "1                             NaN          194911  \n",
       "2                   United States           51378  \n",
       "3                          London          200708  \n",
       "4  Sign up for free email updates          185493  "
      ]
     },
     "execution_count": 10,
     "metadata": {},
     "output_type": "execute_result"
    }
   ],
   "source": [
    "df.head()"
   ]
  },
  {
   "cell_type": "code",
   "execution_count": 11,
   "metadata": {},
   "outputs": [
    {
     "data": {
      "text/plain": [
       "8693"
      ]
     },
     "execution_count": 11,
     "metadata": {},
     "output_type": "execute_result"
    }
   ],
   "source": [
    "len(df)"
   ]
  },
  {
   "cell_type": "code",
   "execution_count": 12,
   "metadata": {},
   "outputs": [],
   "source": [
    "df = df.dropna()"
   ]
  },
  {
   "cell_type": "code",
   "execution_count": 13,
   "metadata": {},
   "outputs": [
    {
     "data": {
      "text/html": [
       "<div>\n",
       "<style scoped>\n",
       "    .dataframe tbody tr th:only-of-type {\n",
       "        vertical-align: middle;\n",
       "    }\n",
       "\n",
       "    .dataframe tbody tr th {\n",
       "        vertical-align: top;\n",
       "    }\n",
       "\n",
       "    .dataframe thead th {\n",
       "        text-align: right;\n",
       "    }\n",
       "</style>\n",
       "<table border=\"1\" class=\"dataframe\">\n",
       "  <thead>\n",
       "    <tr style=\"text-align: right;\">\n",
       "      <th></th>\n",
       "      <th>username</th>\n",
       "      <th>tweet</th>\n",
       "      <th>location</th>\n",
       "      <th>followers_count</th>\n",
       "    </tr>\n",
       "  </thead>\n",
       "  <tbody>\n",
       "    <tr>\n",
       "      <th>0</th>\n",
       "      <td>ryanstruyk</td>\n",
       "      <td>64% of voters say they are *not satisfied* wit...</td>\n",
       "      <td>Washington, DC</td>\n",
       "      <td>76489</td>\n",
       "    </tr>\n",
       "    <tr>\n",
       "      <th>2</th>\n",
       "      <td>BrainiacBrands</td>\n",
       "      <td>How are you managing with little ones at home?...</td>\n",
       "      <td>United States</td>\n",
       "      <td>51378</td>\n",
       "    </tr>\n",
       "    <tr>\n",
       "      <th>3</th>\n",
       "      <td>dailystar</td>\n",
       "      <td>#Coronavirus turns Chinese doctors' skin black...</td>\n",
       "      <td>London</td>\n",
       "      <td>200708</td>\n",
       "    </tr>\n",
       "    <tr>\n",
       "      <th>4</th>\n",
       "      <td>TheDailyEdge</td>\n",
       "      <td>@NormOrnstein Tests per 1M/population:\\n\\n1. I...</td>\n",
       "      <td>Sign up for free email updates</td>\n",
       "      <td>185493</td>\n",
       "    </tr>\n",
       "    <tr>\n",
       "      <th>5</th>\n",
       "      <td>renoomokri</td>\n",
       "      <td>Now do you understand why @realFemiOtedola sol...</td>\n",
       "      <td>Currently on exile.</td>\n",
       "      <td>787939</td>\n",
       "    </tr>\n",
       "  </tbody>\n",
       "</table>\n",
       "</div>"
      ],
      "text/plain": [
       "         username                                              tweet  \\\n",
       "0      ryanstruyk  64% of voters say they are *not satisfied* wit...   \n",
       "2  BrainiacBrands  How are you managing with little ones at home?...   \n",
       "3       dailystar  #Coronavirus turns Chinese doctors' skin black...   \n",
       "4    TheDailyEdge  @NormOrnstein Tests per 1M/population:\\n\\n1. I...   \n",
       "5      renoomokri  Now do you understand why @realFemiOtedola sol...   \n",
       "\n",
       "                         location followers_count  \n",
       "0                  Washington, DC           76489  \n",
       "2                   United States           51378  \n",
       "3                          London          200708  \n",
       "4  Sign up for free email updates          185493  \n",
       "5             Currently on exile.          787939  "
      ]
     },
     "execution_count": 13,
     "metadata": {},
     "output_type": "execute_result"
    }
   ],
   "source": [
    "df.head()"
   ]
  },
  {
   "cell_type": "code",
   "execution_count": 19,
   "metadata": {},
   "outputs": [],
   "source": [
    "def soundex(word):\n",
    "    \"\"\"\n",
    "    Assign soundex code to words in order to find similar-sounding words\n",
    "    that may have identical meaning. For location, this could simplify extraction\n",
    "    of same areas that have different spellings, such ATX for Austin, Texas, or \n",
    "    TX for Texas, as soundex removes vowels.\n",
    "    \"\"\"\n",
    "    try:\n",
    "        result = j.soundex(word)\n",
    "        return result\n",
    "    except:\n",
    "        pass"
   ]
  },
  {
   "cell_type": "code",
   "execution_count": 22,
   "metadata": {},
   "outputs": [],
   "source": [
    "df['loc_sound'] = df.location.apply(soundex)"
   ]
  },
  {
   "cell_type": "code",
   "execution_count": 23,
   "metadata": {},
   "outputs": [
    {
     "data": {
      "text/html": [
       "<div>\n",
       "<style scoped>\n",
       "    .dataframe tbody tr th:only-of-type {\n",
       "        vertical-align: middle;\n",
       "    }\n",
       "\n",
       "    .dataframe tbody tr th {\n",
       "        vertical-align: top;\n",
       "    }\n",
       "\n",
       "    .dataframe thead th {\n",
       "        text-align: right;\n",
       "    }\n",
       "</style>\n",
       "<table border=\"1\" class=\"dataframe\">\n",
       "  <thead>\n",
       "    <tr style=\"text-align: right;\">\n",
       "      <th></th>\n",
       "      <th>username</th>\n",
       "      <th>tweet</th>\n",
       "      <th>location</th>\n",
       "      <th>followers_count</th>\n",
       "      <th>loc_sound</th>\n",
       "    </tr>\n",
       "  </thead>\n",
       "  <tbody>\n",
       "    <tr>\n",
       "      <th>0</th>\n",
       "      <td>ryanstruyk</td>\n",
       "      <td>64% of voters say they are *not satisfied* wit...</td>\n",
       "      <td>Washington, DC</td>\n",
       "      <td>76489</td>\n",
       "      <td>W252</td>\n",
       "    </tr>\n",
       "    <tr>\n",
       "      <th>2</th>\n",
       "      <td>BrainiacBrands</td>\n",
       "      <td>How are you managing with little ones at home?...</td>\n",
       "      <td>United States</td>\n",
       "      <td>51378</td>\n",
       "      <td>U533</td>\n",
       "    </tr>\n",
       "    <tr>\n",
       "      <th>3</th>\n",
       "      <td>dailystar</td>\n",
       "      <td>#Coronavirus turns Chinese doctors' skin black...</td>\n",
       "      <td>London</td>\n",
       "      <td>200708</td>\n",
       "      <td>L535</td>\n",
       "    </tr>\n",
       "    <tr>\n",
       "      <th>4</th>\n",
       "      <td>TheDailyEdge</td>\n",
       "      <td>@NormOrnstein Tests per 1M/population:\\n\\n1. I...</td>\n",
       "      <td>Sign up for free email updates</td>\n",
       "      <td>185493</td>\n",
       "      <td>S251</td>\n",
       "    </tr>\n",
       "    <tr>\n",
       "      <th>5</th>\n",
       "      <td>renoomokri</td>\n",
       "      <td>Now do you understand why @realFemiOtedola sol...</td>\n",
       "      <td>Currently on exile.</td>\n",
       "      <td>787939</td>\n",
       "      <td>C653</td>\n",
       "    </tr>\n",
       "  </tbody>\n",
       "</table>\n",
       "</div>"
      ],
      "text/plain": [
       "         username                                              tweet  \\\n",
       "0      ryanstruyk  64% of voters say they are *not satisfied* wit...   \n",
       "2  BrainiacBrands  How are you managing with little ones at home?...   \n",
       "3       dailystar  #Coronavirus turns Chinese doctors' skin black...   \n",
       "4    TheDailyEdge  @NormOrnstein Tests per 1M/population:\\n\\n1. I...   \n",
       "5      renoomokri  Now do you understand why @realFemiOtedola sol...   \n",
       "\n",
       "                         location followers_count loc_sound  \n",
       "0                  Washington, DC           76489      W252  \n",
       "2                   United States           51378      U533  \n",
       "3                          London          200708      L535  \n",
       "4  Sign up for free email updates          185493      S251  \n",
       "5             Currently on exile.          787939      C653  "
      ]
     },
     "execution_count": 23,
     "metadata": {},
     "output_type": "execute_result"
    }
   ],
   "source": [
    "df.head()"
   ]
  },
  {
   "cell_type": "code",
   "execution_count": 29,
   "metadata": {},
   "outputs": [
    {
     "name": "stderr",
     "output_type": "stream",
     "text": [
      "/Applications/anaconda3/lib/python3.6/site-packages/ipykernel_launcher.py:1: FutureWarning: Indexing with multiple keys (implicitly converted to a tuple of keys) will be deprecated, use a list instead.\n",
      "  \"\"\"Entry point for launching an IPython kernel.\n"
     ]
    },
    {
     "data": {
      "text/html": [
       "<div>\n",
       "<style scoped>\n",
       "    .dataframe tbody tr th:only-of-type {\n",
       "        vertical-align: middle;\n",
       "    }\n",
       "\n",
       "    .dataframe tbody tr th {\n",
       "        vertical-align: top;\n",
       "    }\n",
       "\n",
       "    .dataframe thead th {\n",
       "        text-align: right;\n",
       "    }\n",
       "</style>\n",
       "<table border=\"1\" class=\"dataframe\">\n",
       "  <thead>\n",
       "    <tr style=\"text-align: right;\">\n",
       "      <th></th>\n",
       "      <th>location</th>\n",
       "      <th>loc_sound</th>\n",
       "    </tr>\n",
       "    <tr>\n",
       "      <th>loc_sound</th>\n",
       "      <th></th>\n",
       "      <th></th>\n",
       "    </tr>\n",
       "  </thead>\n",
       "  <tbody>\n",
       "    <tr>\n",
       "      <th>U300</th>\n",
       "      <td>ÜT: 45.246915,-76.163963UtahÜT: 45.246915,-76....</td>\n",
       "      <td>U300U300U300U300U300U300U300U300U300U300U300U3...</td>\n",
       "    </tr>\n",
       "    <tr>\n",
       "      <th>V522</th>\n",
       "      <td>venice, ca + watermill, nyvenice, ca + watermi...</td>\n",
       "      <td>V522V522V522</td>\n",
       "    </tr>\n",
       "    <tr>\n",
       "      <th>S526</th>\n",
       "      <td>songWRITER</td>\n",
       "      <td>S526</td>\n",
       "    </tr>\n",
       "    <tr>\n",
       "      <th>S263</th>\n",
       "      <td>secretly here, late as always.</td>\n",
       "      <td>S263</td>\n",
       "    </tr>\n",
       "    <tr>\n",
       "      <th>R251</th>\n",
       "      <td>reasonabledoubtpodcast.com</td>\n",
       "      <td>R251</td>\n",
       "    </tr>\n",
       "    <tr>\n",
       "      <th>P623</th>\n",
       "      <td>press@discussingfilm.comPrestonPreston</td>\n",
       "      <td>P623P623P623</td>\n",
       "    </tr>\n",
       "    <tr>\n",
       "      <th>P414</th>\n",
       "      <td>pale blue dot</td>\n",
       "      <td>P414</td>\n",
       "    </tr>\n",
       "    <tr>\n",
       "      <th>O532</th>\n",
       "      <td>on the Jersey side (NYC area)Ohio and Kentucky...</td>\n",
       "      <td>O532O532O532O532O532O532O532</td>\n",
       "    </tr>\n",
       "    <tr>\n",
       "      <th>N262</th>\n",
       "      <td>new jerseyNew JerseyNew Jersey ShoreNew Jersey...</td>\n",
       "      <td>N262N262N262N262N262N262N262N262N262N262N262N2...</td>\n",
       "    </tr>\n",
       "    <tr>\n",
       "      <th>M510</th>\n",
       "      <td>mumbaiMumbaimumbaiMumbaiMumbaiMumbai</td>\n",
       "      <td>M510M510M510M510M510M510</td>\n",
       "    </tr>\n",
       "    <tr>\n",
       "      <th>L222</th>\n",
       "      <td>lagos city</td>\n",
       "      <td>L222</td>\n",
       "    </tr>\n",
       "    <tr>\n",
       "      <th>I563</th>\n",
       "      <td>in your head</td>\n",
       "      <td>I563</td>\n",
       "    </tr>\n",
       "    <tr>\n",
       "      <th>I532</th>\n",
       "      <td>in the simulation in the simulation</td>\n",
       "      <td>I532I532</td>\n",
       "    </tr>\n",
       "    <tr>\n",
       "      <th>I352</th>\n",
       "      <td>iTunes / Spotify / FACEBOOKiTunes / Spotify / ...</td>\n",
       "      <td>I352I352</td>\n",
       "    </tr>\n",
       "    <tr>\n",
       "      <th>I150</th>\n",
       "      <td>iPhone: 40.751663,-73.989670iPhone: 39.518032,...</td>\n",
       "      <td>I150I150I150I150I150I150I150</td>\n",
       "    </tr>\n",
       "    <tr>\n",
       "      <th>H312</th>\n",
       "      <td>http://goingredbook.com/http://ccp.digitalhttp...</td>\n",
       "      <td>H312H312H312</td>\n",
       "    </tr>\n",
       "    <tr>\n",
       "      <th>E252</th>\n",
       "      <td>eugene@coolquit.com</td>\n",
       "      <td>E252</td>\n",
       "    </tr>\n",
       "    <tr>\n",
       "      <th>A262</th>\n",
       "      <td>across the worldAcross Ireland 102-107FMAccra,...</td>\n",
       "      <td>A262A262A262A262A262A262A262A262A262A262A262A2...</td>\n",
       "    </tr>\n",
       "    <tr>\n",
       "      <th>Z620</th>\n",
       "      <td>ZurichZurich</td>\n",
       "      <td>Z620Z620</td>\n",
       "    </tr>\n",
       "    <tr>\n",
       "      <th>Z622</th>\n",
       "      <td>Zurich SwitzerlandZurich SwitzerlandZurich Swi...</td>\n",
       "      <td>Z622Z622Z622</td>\n",
       "    </tr>\n",
       "    <tr>\n",
       "      <th>Z511</th>\n",
       "      <td>ZimbabweZimbabwe</td>\n",
       "      <td>Z511Z511</td>\n",
       "    </tr>\n",
       "    <tr>\n",
       "      <th>Z521</th>\n",
       "      <td>Zanzibar</td>\n",
       "      <td>Z521</td>\n",
       "    </tr>\n",
       "    <tr>\n",
       "      <th>Z000</th>\n",
       "      <td>ZH</td>\n",
       "      <td>Z000</td>\n",
       "    </tr>\n",
       "    <tr>\n",
       "      <th>Y635</th>\n",
       "      <td>Your team. All the time.</td>\n",
       "      <td>Y635</td>\n",
       "    </tr>\n",
       "    <tr>\n",
       "      <th>Y626</th>\n",
       "      <td>Yorkshire, EnglandYorkshireYorkshireYorkshire ...</td>\n",
       "      <td>Y626Y626Y626Y626Y626Y626Y626Y626</td>\n",
       "    </tr>\n",
       "  </tbody>\n",
       "</table>\n",
       "</div>"
      ],
      "text/plain": [
       "                                                    location  \\\n",
       "loc_sound                                                      \n",
       "U300       ÜT: 45.246915,-76.163963UtahÜT: 45.246915,-76....   \n",
       "V522       venice, ca + watermill, nyvenice, ca + watermi...   \n",
       "S526                                              songWRITER   \n",
       "S263                          secretly here, late as always.   \n",
       "R251                              reasonabledoubtpodcast.com   \n",
       "P623                  press@discussingfilm.comPrestonPreston   \n",
       "P414                                           pale blue dot   \n",
       "O532       on the Jersey side (NYC area)Ohio and Kentucky...   \n",
       "N262       new jerseyNew JerseyNew Jersey ShoreNew Jersey...   \n",
       "M510                    mumbaiMumbaimumbaiMumbaiMumbaiMumbai   \n",
       "L222                                              lagos city   \n",
       "I563                                            in your head   \n",
       "I532                    in the simulation in the simulation    \n",
       "I352       iTunes / Spotify / FACEBOOKiTunes / Spotify / ...   \n",
       "I150       iPhone: 40.751663,-73.989670iPhone: 39.518032,...   \n",
       "H312       http://goingredbook.com/http://ccp.digitalhttp...   \n",
       "E252                                     eugene@coolquit.com   \n",
       "A262       across the worldAcross Ireland 102-107FMAccra,...   \n",
       "Z620                                            ZurichZurich   \n",
       "Z622       Zurich SwitzerlandZurich SwitzerlandZurich Swi...   \n",
       "Z511                                        ZimbabweZimbabwe   \n",
       "Z521                                                Zanzibar   \n",
       "Z000                                                      ZH   \n",
       "Y635                                Your team. All the time.   \n",
       "Y626       Yorkshire, EnglandYorkshireYorkshireYorkshire ...   \n",
       "\n",
       "                                                   loc_sound  \n",
       "loc_sound                                                     \n",
       "U300       U300U300U300U300U300U300U300U300U300U300U300U3...  \n",
       "V522                                            V522V522V522  \n",
       "S526                                                    S526  \n",
       "S263                                                    S263  \n",
       "R251                                                    R251  \n",
       "P623                                            P623P623P623  \n",
       "P414                                                    P414  \n",
       "O532                            O532O532O532O532O532O532O532  \n",
       "N262       N262N262N262N262N262N262N262N262N262N262N262N2...  \n",
       "M510                                M510M510M510M510M510M510  \n",
       "L222                                                    L222  \n",
       "I563                                                    I563  \n",
       "I532                                                I532I532  \n",
       "I352                                                I352I352  \n",
       "I150                            I150I150I150I150I150I150I150  \n",
       "H312                                            H312H312H312  \n",
       "E252                                                    E252  \n",
       "A262       A262A262A262A262A262A262A262A262A262A262A262A2...  \n",
       "Z620                                                Z620Z620  \n",
       "Z622                                            Z622Z622Z622  \n",
       "Z511                                                Z511Z511  \n",
       "Z521                                                    Z521  \n",
       "Z000                                                    Z000  \n",
       "Y635                                                    Y635  \n",
       "Y626                        Y626Y626Y626Y626Y626Y626Y626Y626  "
      ]
     },
     "execution_count": 29,
     "metadata": {},
     "output_type": "execute_result"
    }
   ],
   "source": [
    "df.groupby('loc_sound')['location', 'loc_sound'].sum().\\\n",
    "            sort_values(by='location', ascending=False).head(25)"
   ]
  },
  {
   "cell_type": "code",
   "execution_count": 31,
   "metadata": {},
   "outputs": [
    {
     "name": "stderr",
     "output_type": "stream",
     "text": [
      "/Applications/anaconda3/lib/python3.6/site-packages/ipykernel_launcher.py:1: FutureWarning: Indexing with multiple keys (implicitly converted to a tuple of keys) will be deprecated, use a list instead.\n",
      "  \"\"\"Entry point for launching an IPython kernel.\n"
     ]
    },
    {
     "data": {
      "text/html": [
       "<div>\n",
       "<style scoped>\n",
       "    .dataframe tbody tr th:only-of-type {\n",
       "        vertical-align: middle;\n",
       "    }\n",
       "\n",
       "    .dataframe tbody tr th {\n",
       "        vertical-align: top;\n",
       "    }\n",
       "\n",
       "    .dataframe thead th {\n",
       "        text-align: right;\n",
       "    }\n",
       "</style>\n",
       "<table border=\"1\" class=\"dataframe\">\n",
       "  <thead>\n",
       "    <tr style=\"text-align: right;\">\n",
       "      <th></th>\n",
       "      <th>location</th>\n",
       "      <th>loc_sound</th>\n",
       "    </tr>\n",
       "    <tr>\n",
       "      <th>location</th>\n",
       "      <th></th>\n",
       "      <th></th>\n",
       "    </tr>\n",
       "  </thead>\n",
       "  <tbody>\n",
       "    <tr>\n",
       "      <th></th>\n",
       "      <td></td>\n",
       "      <td>000 000</td>\n",
       "    </tr>\n",
       "    <tr>\n",
       "      <th>#China will emerge out as a benefactor and ever-trusted ally of #Pakistan</th>\n",
       "      <td>#China will emerge out as a benefactor and ev...</td>\n",
       "      <td>254</td>\n",
       "    </tr>\n",
       "    <tr>\n",
       "      <th>Dr. Manjeet Singh Riyat</th>\n",
       "      <td>Dr. Manjeet Singh Riyat</td>\n",
       "      <td>365</td>\n",
       "    </tr>\n",
       "    <tr>\n",
       "      <th>NY\"</th>\n",
       "      <td>NY\"</td>\n",
       "      <td>500</td>\n",
       "    </tr>\n",
       "    <tr>\n",
       "      <th>New York</th>\n",
       "      <td>New York</td>\n",
       "      <td>562</td>\n",
       "    </tr>\n",
       "    <tr>\n",
       "      <th>...</th>\n",
       "      <td>...</td>\n",
       "      <td>...</td>\n",
       "    </tr>\n",
       "    <tr>\n",
       "      <th>دولة الكويت</th>\n",
       "      <td>دولة الكويت</td>\n",
       "      <td>0</td>\n",
       "    </tr>\n",
       "    <tr>\n",
       "      <th>“MAGA Country”</th>\n",
       "      <td>“MAGA Country”</td>\n",
       "      <td>0</td>\n",
       "    </tr>\n",
       "    <tr>\n",
       "      <th>▼ Watch My Videos</th>\n",
       "      <td>▼ Watch My Videos</td>\n",
       "      <td>0</td>\n",
       "    </tr>\n",
       "    <tr>\n",
       "      <th>北京</th>\n",
       "      <td>北京</td>\n",
       "      <td>0</td>\n",
       "    </tr>\n",
       "    <tr>\n",
       "      <th>東京都千代田区</th>\n",
       "      <td>東京都千代田区</td>\n",
       "      <td>0</td>\n",
       "    </tr>\n",
       "  </tbody>\n",
       "</table>\n",
       "<p>1492 rows × 2 columns</p>\n",
       "</div>"
      ],
      "text/plain": [
       "                                                                                             location  \\\n",
       "location                                                                                                \n",
       "                                                                                                        \n",
       " #China will emerge out as a benefactor and eve...   #China will emerge out as a benefactor and ev...   \n",
       " Dr. Manjeet Singh Riyat                                                      Dr. Manjeet Singh Riyat   \n",
       " NY\"                                                                                              NY\"   \n",
       " New York                                                                                    New York   \n",
       "...                                                                                               ...   \n",
       "دولة الكويت                                                                               دولة الكويت   \n",
       "“MAGA Country”                                                                         “MAGA Country”   \n",
       "▼ Watch My Videos                                                                  ▼ Watch My Videos    \n",
       "北京                                                                                                 北京   \n",
       "東京都千代田区                                                                                       東京都千代田区   \n",
       "\n",
       "                                                   loc_sound  \n",
       "location                                                      \n",
       "                                                     000 000  \n",
       " #China will emerge out as a benefactor and eve...       254  \n",
       " Dr. Manjeet Singh Riyat                                 365  \n",
       " NY\"                                                     500  \n",
       " New York                                                562  \n",
       "...                                                      ...  \n",
       "دولة الكويت                                                0  \n",
       "“MAGA Country”                                             0  \n",
       "▼ Watch My Videos                                          0  \n",
       "北京                                                         0  \n",
       "東京都千代田区                                                    0  \n",
       "\n",
       "[1492 rows x 2 columns]"
      ]
     },
     "execution_count": 31,
     "metadata": {},
     "output_type": "execute_result"
    }
   ],
   "source": [
    "df.groupby('location')['location','loc_sound'].sum()"
   ]
  },
  {
   "cell_type": "code",
   "execution_count": 32,
   "metadata": {},
   "outputs": [
    {
     "data": {
      "text/html": [
       "<div>\n",
       "<style scoped>\n",
       "    .dataframe tbody tr th:only-of-type {\n",
       "        vertical-align: middle;\n",
       "    }\n",
       "\n",
       "    .dataframe tbody tr th {\n",
       "        vertical-align: top;\n",
       "    }\n",
       "\n",
       "    .dataframe thead th {\n",
       "        text-align: right;\n",
       "    }\n",
       "</style>\n",
       "<table border=\"1\" class=\"dataframe\">\n",
       "  <thead>\n",
       "    <tr style=\"text-align: right;\">\n",
       "      <th></th>\n",
       "      <th>username</th>\n",
       "      <th>tweet</th>\n",
       "      <th>location</th>\n",
       "      <th>followers_count</th>\n",
       "      <th>loc_sound</th>\n",
       "    </tr>\n",
       "  </thead>\n",
       "  <tbody>\n",
       "    <tr>\n",
       "      <th>0</th>\n",
       "      <td>ryanstruyk</td>\n",
       "      <td>64% of voters say they are *not satisfied* wit...</td>\n",
       "      <td>Washington, DC</td>\n",
       "      <td>76489</td>\n",
       "      <td>W252</td>\n",
       "    </tr>\n",
       "    <tr>\n",
       "      <th>2</th>\n",
       "      <td>BrainiacBrands</td>\n",
       "      <td>How are you managing with little ones at home?...</td>\n",
       "      <td>United States</td>\n",
       "      <td>51378</td>\n",
       "      <td>U533</td>\n",
       "    </tr>\n",
       "    <tr>\n",
       "      <th>3</th>\n",
       "      <td>dailystar</td>\n",
       "      <td>#Coronavirus turns Chinese doctors' skin black...</td>\n",
       "      <td>London</td>\n",
       "      <td>200708</td>\n",
       "      <td>L535</td>\n",
       "    </tr>\n",
       "    <tr>\n",
       "      <th>4</th>\n",
       "      <td>TheDailyEdge</td>\n",
       "      <td>@NormOrnstein Tests per 1M/population:\\n\\n1. I...</td>\n",
       "      <td>Sign up for free email updates</td>\n",
       "      <td>185493</td>\n",
       "      <td>S251</td>\n",
       "    </tr>\n",
       "    <tr>\n",
       "      <th>5</th>\n",
       "      <td>renoomokri</td>\n",
       "      <td>Now do you understand why @realFemiOtedola sol...</td>\n",
       "      <td>Currently on exile.</td>\n",
       "      <td>787939</td>\n",
       "      <td>C653</td>\n",
       "    </tr>\n",
       "  </tbody>\n",
       "</table>\n",
       "</div>"
      ],
      "text/plain": [
       "         username                                              tweet  \\\n",
       "0      ryanstruyk  64% of voters say they are *not satisfied* wit...   \n",
       "2  BrainiacBrands  How are you managing with little ones at home?...   \n",
       "3       dailystar  #Coronavirus turns Chinese doctors' skin black...   \n",
       "4    TheDailyEdge  @NormOrnstein Tests per 1M/population:\\n\\n1. I...   \n",
       "5      renoomokri  Now do you understand why @realFemiOtedola sol...   \n",
       "\n",
       "                         location followers_count loc_sound  \n",
       "0                  Washington, DC           76489      W252  \n",
       "2                   United States           51378      U533  \n",
       "3                          London          200708      L535  \n",
       "4  Sign up for free email updates          185493      S251  \n",
       "5             Currently on exile.          787939      C653  "
      ]
     },
     "execution_count": 32,
     "metadata": {},
     "output_type": "execute_result"
    }
   ],
   "source": [
    "df.head()"
   ]
  },
  {
   "cell_type": "code",
   "execution_count": 42,
   "metadata": {},
   "outputs": [
    {
     "data": {
      "text/plain": [
       "7486"
      ]
     },
     "execution_count": 42,
     "metadata": {},
     "output_type": "execute_result"
    }
   ],
   "source": [
    "df.location.count()"
   ]
  },
  {
   "cell_type": "code",
   "execution_count": 45,
   "metadata": {},
   "outputs": [
    {
     "data": {
      "text/plain": [
       "location\n",
       "                                                                              2\n",
       " #China will emerge out as a benefactor and ever-trusted ally of #Pakistan    1\n",
       " Dr. Manjeet Singh Riyat                                                      1\n",
       " NY\"                                                                          1\n",
       " New York                                                                     1\n",
       "                                                                             ..\n",
       "دولة الكويت                                                                   1\n",
       "“MAGA Country”                                                                1\n",
       "▼ Watch My Videos                                                             1\n",
       "北京                                                                            1\n",
       "東京都千代田区                                                                       1\n",
       "Name: location, Length: 1492, dtype: int64"
      ]
     },
     "execution_count": 45,
     "metadata": {},
     "output_type": "execute_result"
    }
   ],
   "source": [
    "df.groupby('location')['location'].count()"
   ]
  },
  {
   "cell_type": "code",
   "execution_count": 47,
   "metadata": {},
   "outputs": [
    {
     "data": {
      "text/html": [
       "<div>\n",
       "<style scoped>\n",
       "    .dataframe tbody tr th:only-of-type {\n",
       "        vertical-align: middle;\n",
       "    }\n",
       "\n",
       "    .dataframe tbody tr th {\n",
       "        vertical-align: top;\n",
       "    }\n",
       "\n",
       "    .dataframe thead th {\n",
       "        text-align: right;\n",
       "    }\n",
       "</style>\n",
       "<table border=\"1\" class=\"dataframe\">\n",
       "  <thead>\n",
       "    <tr style=\"text-align: right;\">\n",
       "      <th></th>\n",
       "      <th>username</th>\n",
       "      <th>tweet</th>\n",
       "      <th>location</th>\n",
       "      <th>followers_count</th>\n",
       "      <th>loc_sound</th>\n",
       "    </tr>\n",
       "  </thead>\n",
       "  <tbody>\n",
       "    <tr>\n",
       "      <th>2351</th>\n",
       "      <td>aiww</td>\n",
       "      <td>Refugees in Europe Find Their Fate on Hold htt...</td>\n",
       "      <td>北京</td>\n",
       "      <td>377404</td>\n",
       "      <td>None</td>\n",
       "    </tr>\n",
       "  </tbody>\n",
       "</table>\n",
       "</div>"
      ],
      "text/plain": [
       "     username                                              tweet location  \\\n",
       "2351     aiww  Refugees in Europe Find Their Fate on Hold htt...       北京   \n",
       "\n",
       "     followers_count loc_sound  \n",
       "2351          377404      None  "
      ]
     },
     "execution_count": 47,
     "metadata": {},
     "output_type": "execute_result"
    }
   ],
   "source": [
    "df[df['location']=='北京']"
   ]
  },
  {
   "cell_type": "code",
   "execution_count": 53,
   "metadata": {},
   "outputs": [
    {
     "data": {
      "text/html": [
       "<div>\n",
       "<style scoped>\n",
       "    .dataframe tbody tr th:only-of-type {\n",
       "        vertical-align: middle;\n",
       "    }\n",
       "\n",
       "    .dataframe tbody tr th {\n",
       "        vertical-align: top;\n",
       "    }\n",
       "\n",
       "    .dataframe thead th {\n",
       "        text-align: right;\n",
       "    }\n",
       "</style>\n",
       "<table border=\"1\" class=\"dataframe\">\n",
       "  <thead>\n",
       "    <tr style=\"text-align: right;\">\n",
       "      <th></th>\n",
       "      <th>username</th>\n",
       "      <th>tweet</th>\n",
       "      <th>location</th>\n",
       "      <th>followers_count</th>\n",
       "      <th>loc_sound</th>\n",
       "    </tr>\n",
       "  </thead>\n",
       "  <tbody>\n",
       "    <tr>\n",
       "      <th>5104</th>\n",
       "      <td>ChinaUSFocus</td>\n",
       "      <td>Rather than facing the blame of starting the #...</td>\n",
       "      <td>#China will emerge out as a benefactor and ev...</td>\n",
       "      <td>in the minds of the Pakistani public.\"</td>\n",
       "      <td>254</td>\n",
       "    </tr>\n",
       "  </tbody>\n",
       "</table>\n",
       "</div>"
      ],
      "text/plain": [
       "          username                                              tweet  \\\n",
       "5104  ChinaUSFocus  Rather than facing the blame of starting the #...   \n",
       "\n",
       "                                               location  \\\n",
       "5104   #China will emerge out as a benefactor and ev...   \n",
       "\n",
       "                              followers_count loc_sound  \n",
       "5104   in the minds of the Pakistani public.\"       254  "
      ]
     },
     "execution_count": 53,
     "metadata": {},
     "output_type": "execute_result"
    }
   ],
   "source": [
    "df[df['location']==' #China will emerge out as a benefactor and ever-trusted ally of #Pakistan']"
   ]
  },
  {
   "cell_type": "code",
   "execution_count": 51,
   "metadata": {},
   "outputs": [
    {
     "data": {
      "text/html": [
       "<div>\n",
       "<style scoped>\n",
       "    .dataframe tbody tr th:only-of-type {\n",
       "        vertical-align: middle;\n",
       "    }\n",
       "\n",
       "    .dataframe tbody tr th {\n",
       "        vertical-align: top;\n",
       "    }\n",
       "\n",
       "    .dataframe thead th {\n",
       "        text-align: right;\n",
       "    }\n",
       "</style>\n",
       "<table border=\"1\" class=\"dataframe\">\n",
       "  <thead>\n",
       "    <tr style=\"text-align: right;\">\n",
       "      <th></th>\n",
       "      <th>username</th>\n",
       "      <th>tweet</th>\n",
       "      <th>location</th>\n",
       "      <th>followers_count</th>\n",
       "      <th>loc_sound</th>\n",
       "    </tr>\n",
       "  </thead>\n",
       "  <tbody>\n",
       "    <tr>\n",
       "      <th>1009</th>\n",
       "      <td>SinghLions</td>\n",
       "      <td>Hugely Respected\" accident and Emergency consu...</td>\n",
       "      <td>Dr. Manjeet Singh Riyat</td>\n",
       "      <td>who was well-known across the UK has died aft...</td>\n",
       "      <td>365</td>\n",
       "    </tr>\n",
       "  </tbody>\n",
       "</table>\n",
       "</div>"
      ],
      "text/plain": [
       "        username                                              tweet  \\\n",
       "1009  SinghLions  Hugely Respected\" accident and Emergency consu...   \n",
       "\n",
       "                      location  \\\n",
       "1009   Dr. Manjeet Singh Riyat   \n",
       "\n",
       "                                        followers_count loc_sound  \n",
       "1009   who was well-known across the UK has died aft...       365  "
      ]
     },
     "execution_count": 51,
     "metadata": {},
     "output_type": "execute_result"
    }
   ],
   "source": [
    "df[df['location']==' Dr. Manjeet Singh Riyat']"
   ]
  },
  {
   "cell_type": "code",
   "execution_count": 65,
   "metadata": {},
   "outputs": [
    {
     "ename": "ProgrammingError",
     "evalue": "1045 (28000): Access denied for user 'root'@'localhost' (using password: NO)",
     "output_type": "error",
     "traceback": [
      "\u001b[0;31m---------------------------------------------------------------------------\u001b[0m",
      "\u001b[0;31mProgrammingError\u001b[0m                          Traceback (most recent call last)",
      "\u001b[0;32m<ipython-input-65-ca5cddff51e4>\u001b[0m in \u001b[0;36m<module>\u001b[0;34m()\u001b[0m\n\u001b[1;32m      2\u001b[0m \u001b[0;32mimport\u001b[0m \u001b[0mmysql\u001b[0m\u001b[0;34m.\u001b[0m\u001b[0mconnector\u001b[0m\u001b[0;34m\u001b[0m\u001b[0;34m\u001b[0m\u001b[0m\n\u001b[1;32m      3\u001b[0m \u001b[0;34m\u001b[0m\u001b[0m\n\u001b[0;32m----> 4\u001b[0;31m \u001b[0mcnx\u001b[0m \u001b[0;34m=\u001b[0m \u001b[0mmysql\u001b[0m\u001b[0;34m.\u001b[0m\u001b[0mconnector\u001b[0m\u001b[0;34m.\u001b[0m\u001b[0mconnect\u001b[0m\u001b[0;34m(\u001b[0m\u001b[0muser\u001b[0m\u001b[0;34m=\u001b[0m\u001b[0;34m'root'\u001b[0m\u001b[0;34m,\u001b[0m \u001b[0mdatabase\u001b[0m\u001b[0;34m=\u001b[0m\u001b[0;34m'TwitterTest'\u001b[0m\u001b[0;34m)\u001b[0m\u001b[0;34m\u001b[0m\u001b[0;34m\u001b[0m\u001b[0m\n\u001b[0m\u001b[1;32m      5\u001b[0m \u001b[0mcursor\u001b[0m \u001b[0;34m=\u001b[0m \u001b[0mcnx\u001b[0m\u001b[0;34m.\u001b[0m\u001b[0mcursor\u001b[0m\u001b[0;34m(\u001b[0m\u001b[0;34m)\u001b[0m\u001b[0;34m\u001b[0m\u001b[0;34m\u001b[0m\u001b[0m\n\u001b[1;32m      6\u001b[0m \u001b[0;34m\u001b[0m\u001b[0m\n",
      "\u001b[0;32m/Applications/anaconda3/lib/python3.6/site-packages/mysql/connector/__init__.py\u001b[0m in \u001b[0;36mconnect\u001b[0;34m(*args, **kwargs)\u001b[0m\n\u001b[1;32m    177\u001b[0m                 \u001b[0;34m'host'\u001b[0m\u001b[0;34m:\u001b[0m \u001b[0msrv\u001b[0m\u001b[0;34m.\u001b[0m\u001b[0mtarget\u001b[0m\u001b[0;34m.\u001b[0m\u001b[0mto_text\u001b[0m\u001b[0;34m(\u001b[0m\u001b[0momit_final_dot\u001b[0m\u001b[0;34m=\u001b[0m\u001b[0;32mTrue\u001b[0m\u001b[0;34m)\u001b[0m\u001b[0;34m,\u001b[0m\u001b[0;34m\u001b[0m\u001b[0;34m\u001b[0m\u001b[0m\n\u001b[1;32m    178\u001b[0m                 \u001b[0;34m'port'\u001b[0m\u001b[0;34m:\u001b[0m \u001b[0msrv\u001b[0m\u001b[0;34m.\u001b[0m\u001b[0mport\u001b[0m\u001b[0;34m,\u001b[0m\u001b[0;34m\u001b[0m\u001b[0;34m\u001b[0m\u001b[0m\n\u001b[0;32m--> 179\u001b[0;31m                 \u001b[0;34m'priority'\u001b[0m\u001b[0;34m:\u001b[0m \u001b[0msrv\u001b[0m\u001b[0;34m.\u001b[0m\u001b[0mpriority\u001b[0m\u001b[0;34m,\u001b[0m\u001b[0;34m\u001b[0m\u001b[0;34m\u001b[0m\u001b[0m\n\u001b[0m\u001b[1;32m    180\u001b[0m                 \u001b[0;34m'weight'\u001b[0m\u001b[0;34m:\u001b[0m \u001b[0msrv\u001b[0m\u001b[0;34m.\u001b[0m\u001b[0mweight\u001b[0m\u001b[0;34m\u001b[0m\u001b[0;34m\u001b[0m\u001b[0m\n\u001b[1;32m    181\u001b[0m             })\n",
      "\u001b[0;32m/Applications/anaconda3/lib/python3.6/site-packages/mysql/connector/connection.py\u001b[0m in \u001b[0;36m__init__\u001b[0;34m(self, *args, **kwargs)\u001b[0m\n\u001b[1;32m     93\u001b[0m \u001b[0;34m\u001b[0m\u001b[0m\n\u001b[1;32m     94\u001b[0m         \u001b[0mself\u001b[0m\u001b[0;34m.\u001b[0m\u001b[0m_prepared_statements\u001b[0m \u001b[0;34m=\u001b[0m \u001b[0;32mNone\u001b[0m\u001b[0;34m\u001b[0m\u001b[0;34m\u001b[0m\u001b[0m\n\u001b[0;32m---> 95\u001b[0;31m \u001b[0;34m\u001b[0m\u001b[0m\n\u001b[0m\u001b[1;32m     96\u001b[0m         \u001b[0mself\u001b[0m\u001b[0;34m.\u001b[0m\u001b[0m_ssl_active\u001b[0m \u001b[0;34m=\u001b[0m \u001b[0;32mFalse\u001b[0m\u001b[0;34m\u001b[0m\u001b[0;34m\u001b[0m\u001b[0m\n\u001b[1;32m     97\u001b[0m         \u001b[0mself\u001b[0m\u001b[0;34m.\u001b[0m\u001b[0m_auth_plugin\u001b[0m \u001b[0;34m=\u001b[0m \u001b[0;32mNone\u001b[0m\u001b[0;34m\u001b[0m\u001b[0;34m\u001b[0m\u001b[0m\n",
      "\u001b[0;32m/Applications/anaconda3/lib/python3.6/site-packages/mysql/connector/abstracts.py\u001b[0m in \u001b[0;36mconnect\u001b[0;34m(self, **kwargs)\u001b[0m\n\u001b[1;32m    714\u001b[0m     \u001b[0;34m@\u001b[0m\u001b[0mabstractmethod\u001b[0m\u001b[0;34m\u001b[0m\u001b[0;34m\u001b[0m\u001b[0m\n\u001b[1;32m    715\u001b[0m     \u001b[0;32mdef\u001b[0m \u001b[0minfo_query\u001b[0m\u001b[0;34m(\u001b[0m\u001b[0mself\u001b[0m\u001b[0;34m,\u001b[0m \u001b[0mquery\u001b[0m\u001b[0;34m)\u001b[0m\u001b[0;34m:\u001b[0m\u001b[0;34m\u001b[0m\u001b[0;34m\u001b[0m\u001b[0m\n\u001b[0;32m--> 716\u001b[0;31m         \u001b[0;34m\"\"\"Send a query which only returns 1 row\"\"\"\u001b[0m\u001b[0;34m\u001b[0m\u001b[0;34m\u001b[0m\u001b[0m\n\u001b[0m\u001b[1;32m    717\u001b[0m         \u001b[0;32mpass\u001b[0m\u001b[0;34m\u001b[0m\u001b[0;34m\u001b[0m\u001b[0m\n\u001b[1;32m    718\u001b[0m \u001b[0;34m\u001b[0m\u001b[0m\n",
      "\u001b[0;32m/Applications/anaconda3/lib/python3.6/site-packages/mysql/connector/connection.py\u001b[0m in \u001b[0;36m_open_connection\u001b[0;34m(self)\u001b[0m\n\u001b[1;32m    208\u001b[0m             \u001b[0mssl_enabled\u001b[0m\u001b[0;34m=\u001b[0m\u001b[0mself\u001b[0m\u001b[0;34m.\u001b[0m\u001b[0m_ssl_active\u001b[0m\u001b[0;34m,\u001b[0m\u001b[0;34m\u001b[0m\u001b[0;34m\u001b[0m\u001b[0m\n\u001b[1;32m    209\u001b[0m             \u001b[0mauth_plugin\u001b[0m\u001b[0;34m=\u001b[0m\u001b[0mself\u001b[0m\u001b[0;34m.\u001b[0m\u001b[0m_auth_plugin\u001b[0m\u001b[0;34m,\u001b[0m\u001b[0;34m\u001b[0m\u001b[0;34m\u001b[0m\u001b[0m\n\u001b[0;32m--> 210\u001b[0;31m             conn_attrs=conn_attrs)\n\u001b[0m\u001b[1;32m    211\u001b[0m         \u001b[0mself\u001b[0m\u001b[0;34m.\u001b[0m\u001b[0m_socket\u001b[0m\u001b[0;34m.\u001b[0m\u001b[0msend\u001b[0m\u001b[0;34m(\u001b[0m\u001b[0mpacket\u001b[0m\u001b[0;34m)\u001b[0m\u001b[0;34m\u001b[0m\u001b[0;34m\u001b[0m\u001b[0m\n\u001b[1;32m    212\u001b[0m         \u001b[0mself\u001b[0m\u001b[0;34m.\u001b[0m\u001b[0m_auth_switch_request\u001b[0m\u001b[0;34m(\u001b[0m\u001b[0musername\u001b[0m\u001b[0;34m,\u001b[0m \u001b[0mpassword\u001b[0m\u001b[0;34m)\u001b[0m\u001b[0;34m\u001b[0m\u001b[0;34m\u001b[0m\u001b[0m\n",
      "\u001b[0;32m/Applications/anaconda3/lib/python3.6/site-packages/mysql/connector/connection.py\u001b[0m in \u001b[0;36m_do_auth\u001b[0;34m(self, username, password, database, client_flags, charset, ssl_options)\u001b[0m\n\u001b[1;32m    142\u001b[0m         \u001b[0mself\u001b[0m\u001b[0;34m.\u001b[0m\u001b[0m_conn_attrs\u001b[0m\u001b[0;34m.\u001b[0m\u001b[0mupdate\u001b[0m\u001b[0;34m(\u001b[0m\u001b[0;34m(\u001b[0m\u001b[0mdefault_conn_attrs\u001b[0m\u001b[0;34m)\u001b[0m\u001b[0;34m)\u001b[0m\u001b[0;34m\u001b[0m\u001b[0;34m\u001b[0m\u001b[0m\n\u001b[1;32m    143\u001b[0m \u001b[0;34m\u001b[0m\u001b[0m\n\u001b[0;32m--> 144\u001b[0;31m     \u001b[0;32mdef\u001b[0m \u001b[0m_do_handshake\u001b[0m\u001b[0;34m(\u001b[0m\u001b[0mself\u001b[0m\u001b[0;34m)\u001b[0m\u001b[0;34m:\u001b[0m\u001b[0;34m\u001b[0m\u001b[0;34m\u001b[0m\u001b[0m\n\u001b[0m\u001b[1;32m    145\u001b[0m         \u001b[0;34m\"\"\"Get the handshake from the MySQL server\"\"\"\u001b[0m\u001b[0;34m\u001b[0m\u001b[0;34m\u001b[0m\u001b[0m\n\u001b[1;32m    146\u001b[0m         \u001b[0mpacket\u001b[0m \u001b[0;34m=\u001b[0m \u001b[0mself\u001b[0m\u001b[0;34m.\u001b[0m\u001b[0m_socket\u001b[0m\u001b[0;34m.\u001b[0m\u001b[0mrecv\u001b[0m\u001b[0;34m(\u001b[0m\u001b[0;34m)\u001b[0m\u001b[0;34m\u001b[0m\u001b[0;34m\u001b[0m\u001b[0m\n",
      "\u001b[0;32m/Applications/anaconda3/lib/python3.6/site-packages/mysql/connector/connection.py\u001b[0m in \u001b[0;36m_auth_switch_request\u001b[0;34m(self, username, password)\u001b[0m\n\u001b[1;32m    175\u001b[0m                  client_flags=0, charset=45, ssl_options=None, conn_attrs=None):\n\u001b[1;32m    176\u001b[0m         \"\"\"Authenticate with the MySQL server\n\u001b[0;32m--> 177\u001b[0;31m \u001b[0;34m\u001b[0m\u001b[0m\n\u001b[0m\u001b[1;32m    178\u001b[0m         \u001b[0mAuthentication\u001b[0m \u001b[0mhappens\u001b[0m \u001b[0;32min\u001b[0m \u001b[0mtwo\u001b[0m \u001b[0mparts\u001b[0m\u001b[0;34m.\u001b[0m \u001b[0mWe\u001b[0m \u001b[0mfirst\u001b[0m \u001b[0msend\u001b[0m \u001b[0ma\u001b[0m \u001b[0mresponse\u001b[0m \u001b[0mto\u001b[0m \u001b[0mthe\u001b[0m\u001b[0;34m\u001b[0m\u001b[0;34m\u001b[0m\u001b[0m\n\u001b[1;32m    179\u001b[0m         \u001b[0mhandshake\u001b[0m\u001b[0;34m.\u001b[0m \u001b[0mThe\u001b[0m \u001b[0mMySQL\u001b[0m \u001b[0mserver\u001b[0m \u001b[0mwill\u001b[0m \u001b[0mthen\u001b[0m \u001b[0msend\u001b[0m \u001b[0meither\u001b[0m \u001b[0man\u001b[0m \u001b[0mAuthSwitchRequest\u001b[0m\u001b[0;34m\u001b[0m\u001b[0;34m\u001b[0m\u001b[0m\n",
      "\u001b[0;31mProgrammingError\u001b[0m: 1045 (28000): Access denied for user 'root'@'localhost' (using password: NO)"
     ]
    }
   ],
   "source": [
    "import datetime\n",
    "import mysql.connector\n",
    "\n",
    "cnx = mysql.connector.connect(user='root', database='TwitterTest')\n",
    "cursor = cnx.cursor()\n",
    "\n",
    "query = (\"SELECT first_name, last_name, hire_date FROM employees \"\n",
    "         \"WHERE hire_date BETWEEN %s AND %s\")\n",
    "\n",
    "hire_start = datetime.date(1999, 1, 1)\n",
    "hire_end = datetime.date(1999, 12, 31)\n",
    "\n",
    "cursor.execute(query, (hire_start, hire_end))\n",
    "\n",
    "for (first_name, last_name, hire_date) in cursor:\n",
    "  print(\"{}, {} was hired on {:%d %b %Y}\".format(\n",
    "    last_name, first_name, hire_date))\n",
    "\n",
    "cursor.close()\n",
    "cnx.close()"
   ]
  },
  {
   "cell_type": "code",
   "execution_count": 89,
   "metadata": {},
   "outputs": [
    {
     "ename": "ProgrammingError",
     "evalue": "1049 (42000): Unknown database 'twittertest'",
     "output_type": "error",
     "traceback": [
      "\u001b[0;31m---------------------------------------------------------------------------\u001b[0m",
      "\u001b[0;31mProgrammingError\u001b[0m                          Traceback (most recent call last)",
      "\u001b[0;32m<ipython-input-89-412ceb83acf6>\u001b[0m in \u001b[0;36m<module>\u001b[0;34m()\u001b[0m\n\u001b[1;32m      1\u001b[0m mysql.connector.connect(user='newuser', password='2020TwitterProject!!!',\n\u001b[1;32m      2\u001b[0m                         \u001b[0mdatabase\u001b[0m\u001b[0;34m=\u001b[0m\u001b[0;34m'TwitterTest'\u001b[0m\u001b[0;34m,\u001b[0m \u001b[0mhost\u001b[0m\u001b[0;34m=\u001b[0m\u001b[0;34m'127.0.0.1'\u001b[0m\u001b[0;34m,\u001b[0m\u001b[0;34m\u001b[0m\u001b[0;34m\u001b[0m\u001b[0m\n\u001b[0;32m----> 3\u001b[0;31m                        auth_plugin='mysql_native_password')\n\u001b[0m",
      "\u001b[0;32m/Applications/anaconda3/lib/python3.6/site-packages/mysql/connector/__init__.py\u001b[0m in \u001b[0;36mconnect\u001b[0;34m(*args, **kwargs)\u001b[0m\n\u001b[1;32m    177\u001b[0m                 \u001b[0;34m'host'\u001b[0m\u001b[0;34m:\u001b[0m \u001b[0msrv\u001b[0m\u001b[0;34m.\u001b[0m\u001b[0mtarget\u001b[0m\u001b[0;34m.\u001b[0m\u001b[0mto_text\u001b[0m\u001b[0;34m(\u001b[0m\u001b[0momit_final_dot\u001b[0m\u001b[0;34m=\u001b[0m\u001b[0;32mTrue\u001b[0m\u001b[0;34m)\u001b[0m\u001b[0;34m,\u001b[0m\u001b[0;34m\u001b[0m\u001b[0;34m\u001b[0m\u001b[0m\n\u001b[1;32m    178\u001b[0m                 \u001b[0;34m'port'\u001b[0m\u001b[0;34m:\u001b[0m \u001b[0msrv\u001b[0m\u001b[0;34m.\u001b[0m\u001b[0mport\u001b[0m\u001b[0;34m,\u001b[0m\u001b[0;34m\u001b[0m\u001b[0;34m\u001b[0m\u001b[0m\n\u001b[0;32m--> 179\u001b[0;31m                 \u001b[0;34m'priority'\u001b[0m\u001b[0;34m:\u001b[0m \u001b[0msrv\u001b[0m\u001b[0;34m.\u001b[0m\u001b[0mpriority\u001b[0m\u001b[0;34m,\u001b[0m\u001b[0;34m\u001b[0m\u001b[0;34m\u001b[0m\u001b[0m\n\u001b[0m\u001b[1;32m    180\u001b[0m                 \u001b[0;34m'weight'\u001b[0m\u001b[0;34m:\u001b[0m \u001b[0msrv\u001b[0m\u001b[0;34m.\u001b[0m\u001b[0mweight\u001b[0m\u001b[0;34m\u001b[0m\u001b[0;34m\u001b[0m\u001b[0m\n\u001b[1;32m    181\u001b[0m             })\n",
      "\u001b[0;32m/Applications/anaconda3/lib/python3.6/site-packages/mysql/connector/connection.py\u001b[0m in \u001b[0;36m__init__\u001b[0;34m(self, *args, **kwargs)\u001b[0m\n\u001b[1;32m     93\u001b[0m \u001b[0;34m\u001b[0m\u001b[0m\n\u001b[1;32m     94\u001b[0m         \u001b[0mself\u001b[0m\u001b[0;34m.\u001b[0m\u001b[0m_prepared_statements\u001b[0m \u001b[0;34m=\u001b[0m \u001b[0;32mNone\u001b[0m\u001b[0;34m\u001b[0m\u001b[0;34m\u001b[0m\u001b[0m\n\u001b[0;32m---> 95\u001b[0;31m \u001b[0;34m\u001b[0m\u001b[0m\n\u001b[0m\u001b[1;32m     96\u001b[0m         \u001b[0mself\u001b[0m\u001b[0;34m.\u001b[0m\u001b[0m_ssl_active\u001b[0m \u001b[0;34m=\u001b[0m \u001b[0;32mFalse\u001b[0m\u001b[0;34m\u001b[0m\u001b[0;34m\u001b[0m\u001b[0m\n\u001b[1;32m     97\u001b[0m         \u001b[0mself\u001b[0m\u001b[0;34m.\u001b[0m\u001b[0m_auth_plugin\u001b[0m \u001b[0;34m=\u001b[0m \u001b[0;32mNone\u001b[0m\u001b[0;34m\u001b[0m\u001b[0;34m\u001b[0m\u001b[0m\n",
      "\u001b[0;32m/Applications/anaconda3/lib/python3.6/site-packages/mysql/connector/abstracts.py\u001b[0m in \u001b[0;36mconnect\u001b[0;34m(self, **kwargs)\u001b[0m\n\u001b[1;32m    714\u001b[0m     \u001b[0;34m@\u001b[0m\u001b[0mabstractmethod\u001b[0m\u001b[0;34m\u001b[0m\u001b[0;34m\u001b[0m\u001b[0m\n\u001b[1;32m    715\u001b[0m     \u001b[0;32mdef\u001b[0m \u001b[0minfo_query\u001b[0m\u001b[0;34m(\u001b[0m\u001b[0mself\u001b[0m\u001b[0;34m,\u001b[0m \u001b[0mquery\u001b[0m\u001b[0;34m)\u001b[0m\u001b[0;34m:\u001b[0m\u001b[0;34m\u001b[0m\u001b[0;34m\u001b[0m\u001b[0m\n\u001b[0;32m--> 716\u001b[0;31m         \u001b[0;34m\"\"\"Send a query which only returns 1 row\"\"\"\u001b[0m\u001b[0;34m\u001b[0m\u001b[0;34m\u001b[0m\u001b[0m\n\u001b[0m\u001b[1;32m    717\u001b[0m         \u001b[0;32mpass\u001b[0m\u001b[0;34m\u001b[0m\u001b[0;34m\u001b[0m\u001b[0m\n\u001b[1;32m    718\u001b[0m \u001b[0;34m\u001b[0m\u001b[0m\n",
      "\u001b[0;32m/Applications/anaconda3/lib/python3.6/site-packages/mysql/connector/connection.py\u001b[0m in \u001b[0;36m_open_connection\u001b[0;34m(self)\u001b[0m\n\u001b[1;32m    208\u001b[0m             \u001b[0mssl_enabled\u001b[0m\u001b[0;34m=\u001b[0m\u001b[0mself\u001b[0m\u001b[0;34m.\u001b[0m\u001b[0m_ssl_active\u001b[0m\u001b[0;34m,\u001b[0m\u001b[0;34m\u001b[0m\u001b[0;34m\u001b[0m\u001b[0m\n\u001b[1;32m    209\u001b[0m             \u001b[0mauth_plugin\u001b[0m\u001b[0;34m=\u001b[0m\u001b[0mself\u001b[0m\u001b[0;34m.\u001b[0m\u001b[0m_auth_plugin\u001b[0m\u001b[0;34m,\u001b[0m\u001b[0;34m\u001b[0m\u001b[0;34m\u001b[0m\u001b[0m\n\u001b[0;32m--> 210\u001b[0;31m             conn_attrs=conn_attrs)\n\u001b[0m\u001b[1;32m    211\u001b[0m         \u001b[0mself\u001b[0m\u001b[0;34m.\u001b[0m\u001b[0m_socket\u001b[0m\u001b[0;34m.\u001b[0m\u001b[0msend\u001b[0m\u001b[0;34m(\u001b[0m\u001b[0mpacket\u001b[0m\u001b[0;34m)\u001b[0m\u001b[0;34m\u001b[0m\u001b[0;34m\u001b[0m\u001b[0m\n\u001b[1;32m    212\u001b[0m         \u001b[0mself\u001b[0m\u001b[0;34m.\u001b[0m\u001b[0m_auth_switch_request\u001b[0m\u001b[0;34m(\u001b[0m\u001b[0musername\u001b[0m\u001b[0;34m,\u001b[0m \u001b[0mpassword\u001b[0m\u001b[0;34m)\u001b[0m\u001b[0;34m\u001b[0m\u001b[0;34m\u001b[0m\u001b[0m\n",
      "\u001b[0;32m/Applications/anaconda3/lib/python3.6/site-packages/mysql/connector/connection.py\u001b[0m in \u001b[0;36m_do_auth\u001b[0;34m(self, username, password, database, client_flags, charset, ssl_options)\u001b[0m\n\u001b[1;32m    142\u001b[0m         \u001b[0mself\u001b[0m\u001b[0;34m.\u001b[0m\u001b[0m_conn_attrs\u001b[0m\u001b[0;34m.\u001b[0m\u001b[0mupdate\u001b[0m\u001b[0;34m(\u001b[0m\u001b[0;34m(\u001b[0m\u001b[0mdefault_conn_attrs\u001b[0m\u001b[0;34m)\u001b[0m\u001b[0;34m)\u001b[0m\u001b[0;34m\u001b[0m\u001b[0;34m\u001b[0m\u001b[0m\n\u001b[1;32m    143\u001b[0m \u001b[0;34m\u001b[0m\u001b[0m\n\u001b[0;32m--> 144\u001b[0;31m     \u001b[0;32mdef\u001b[0m \u001b[0m_do_handshake\u001b[0m\u001b[0;34m(\u001b[0m\u001b[0mself\u001b[0m\u001b[0;34m)\u001b[0m\u001b[0;34m:\u001b[0m\u001b[0;34m\u001b[0m\u001b[0;34m\u001b[0m\u001b[0m\n\u001b[0m\u001b[1;32m    145\u001b[0m         \u001b[0;34m\"\"\"Get the handshake from the MySQL server\"\"\"\u001b[0m\u001b[0;34m\u001b[0m\u001b[0;34m\u001b[0m\u001b[0m\n\u001b[1;32m    146\u001b[0m         \u001b[0mpacket\u001b[0m \u001b[0;34m=\u001b[0m \u001b[0mself\u001b[0m\u001b[0;34m.\u001b[0m\u001b[0m_socket\u001b[0m\u001b[0;34m.\u001b[0m\u001b[0mrecv\u001b[0m\u001b[0;34m(\u001b[0m\u001b[0;34m)\u001b[0m\u001b[0;34m\u001b[0m\u001b[0;34m\u001b[0m\u001b[0m\n",
      "\u001b[0;32m/Applications/anaconda3/lib/python3.6/site-packages/mysql/connector/connection.py\u001b[0m in \u001b[0;36m_auth_switch_request\u001b[0;34m(self, username, password)\u001b[0m\n\u001b[1;32m    171\u001b[0m \u001b[0;34m\u001b[0m\u001b[0m\n\u001b[1;32m    172\u001b[0m         \u001b[0mself\u001b[0m\u001b[0;34m.\u001b[0m\u001b[0m_handshake\u001b[0m \u001b[0;34m=\u001b[0m \u001b[0mhandshake\u001b[0m\u001b[0;34m\u001b[0m\u001b[0;34m\u001b[0m\u001b[0m\n\u001b[0;32m--> 173\u001b[0;31m \u001b[0;34m\u001b[0m\u001b[0m\n\u001b[0m\u001b[1;32m    174\u001b[0m     def _do_auth(self, username=None, password=None, database=None,\n\u001b[1;32m    175\u001b[0m                  client_flags=0, charset=45, ssl_options=None, conn_attrs=None):\n",
      "\u001b[0;32m/Applications/anaconda3/lib/python3.6/site-packages/mysql/connector/connection.py\u001b[0m in \u001b[0;36m_handle_ok\u001b[0;34m(self, packet)\u001b[0m\n\u001b[1;32m    329\u001b[0m \u001b[0;34m\u001b[0m\u001b[0m\n\u001b[1;32m    330\u001b[0m         \u001b[0mThis\u001b[0m \u001b[0mmethod\u001b[0m \u001b[0msends\u001b[0m \u001b[0ma\u001b[0m \u001b[0mcommand\u001b[0m \u001b[0;32mwith\u001b[0m \u001b[0man\u001b[0m \u001b[0moptional\u001b[0m \u001b[0margument\u001b[0m\u001b[0;34m.\u001b[0m\u001b[0;34m\u001b[0m\u001b[0;34m\u001b[0m\u001b[0m\n\u001b[0;32m--> 331\u001b[0;31m         \u001b[0mIf\u001b[0m \u001b[0mpacket\u001b[0m \u001b[0;32mis\u001b[0m \u001b[0;32mnot\u001b[0m \u001b[0;32mNone\u001b[0m\u001b[0;34m,\u001b[0m \u001b[0mit\u001b[0m \u001b[0mwill\u001b[0m \u001b[0mbe\u001b[0m \u001b[0msent\u001b[0m \u001b[0;32mand\u001b[0m \u001b[0mthe\u001b[0m \u001b[0margument\u001b[0m \u001b[0mwill\u001b[0m \u001b[0mbe\u001b[0m\u001b[0;34m\u001b[0m\u001b[0;34m\u001b[0m\u001b[0m\n\u001b[0m\u001b[1;32m    332\u001b[0m         \u001b[0mignored\u001b[0m\u001b[0;34m.\u001b[0m\u001b[0;34m\u001b[0m\u001b[0;34m\u001b[0m\u001b[0m\n\u001b[1;32m    333\u001b[0m \u001b[0;34m\u001b[0m\u001b[0m\n",
      "\u001b[0;31mProgrammingError\u001b[0m: 1049 (42000): Unknown database 'twittertest'"
     ]
    }
   ],
   "source": [
    "mysql.connector.connect(user='newuser', password='2020TwitterProject!!!',\n",
    "                        database='TwitterTest', host='127.0.0.1',\n",
    "                       auth_plugin='mysql_native_password')"
   ]
  },
  {
   "cell_type": "code",
   "execution_count": 169,
   "metadata": {},
   "outputs": [],
   "source": [
    "def fibonacci(n):\n",
    "    x, y = 0, 1\n",
    "    for i in range(n):\n",
    "        x, y = y, x + y\n",
    "    return x"
   ]
  },
  {
   "cell_type": "code",
   "execution_count": 180,
   "metadata": {},
   "outputs": [
    {
     "data": {
      "text/plain": [
       "94393418122056124388097485130017012168421205337414208162146401481374060347905289865933168590480815538804951560284181429442575920074964835280540085608644366759962699307508408289926860263296584740517991940493574852889712068198772212910603592977565118194745278274320"
      ]
     },
     "execution_count": 180,
     "metadata": {},
     "output_type": "execute_result"
    }
   ],
   "source": [
    "fibonacci(1260)"
   ]
  },
  {
   "cell_type": "code",
   "execution_count": 193,
   "metadata": {},
   "outputs": [],
   "source": [
    "nums = [1, 2, 3, 4, 5, 6, 7, 8, 9, 10, 11, 12, 13, 14, 15, 16, 17, 18, 19, 20]"
   ]
  },
  {
   "cell_type": "code",
   "execution_count": 194,
   "metadata": {},
   "outputs": [
    {
     "name": "stdout",
     "output_type": "stream",
     "text": [
      "Fib(1) = 1\n",
      "Fib(2) = 1\n",
      "Fib(3) = 2\n",
      "Fib(4) = 3\n",
      "Fib(5) = 5\n",
      "Fib(6) = 8\n",
      "Fib(7) = 13\n",
      "Fib(8) = 21\n",
      "Fib(9) = 34\n",
      "Fib(10) = 55\n",
      "Fib(11) = 89\n",
      "Fib(12) = 144\n",
      "Fib(13) = 233\n",
      "Fib(14) = 377\n",
      "Fib(15) = 610\n",
      "Fib(16) = 987\n",
      "Fib(17) = 1597\n",
      "Fib(18) = 2584\n",
      "Fib(19) = 4181\n",
      "Fib(20) = 6765\n"
     ]
    }
   ],
   "source": [
    "for num in nums:\n",
    "    print(f'Fib({num}) = {fibonacci(num)}')"
   ]
  },
  {
   "cell_type": "code",
   "execution_count": 173,
   "metadata": {},
   "outputs": [
    {
     "data": {
      "text/plain": [
       "3"
      ]
     },
     "execution_count": 173,
     "metadata": {},
     "output_type": "execute_result"
    }
   ],
   "source": [
    "fibonacci(4)"
   ]
  },
  {
   "cell_type": "code",
   "execution_count": null,
   "metadata": {},
   "outputs": [],
   "source": []
  }
 ],
 "metadata": {
  "kernelspec": {
   "display_name": "Python 3",
   "language": "python",
   "name": "python3"
  },
  "language_info": {
   "codemirror_mode": {
    "name": "ipython",
    "version": 3
   },
   "file_extension": ".py",
   "mimetype": "text/x-python",
   "name": "python",
   "nbconvert_exporter": "python",
   "pygments_lexer": "ipython3",
   "version": "3.6.9"
  }
 },
 "nbformat": 4,
 "nbformat_minor": 2
}
