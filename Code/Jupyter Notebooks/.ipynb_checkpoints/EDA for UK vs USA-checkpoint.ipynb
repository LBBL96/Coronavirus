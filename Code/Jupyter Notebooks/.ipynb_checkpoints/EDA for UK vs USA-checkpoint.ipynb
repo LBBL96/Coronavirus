{
 "cells": [
  {
   "cell_type": "code",
   "execution_count": 2,
   "metadata": {},
   "outputs": [],
   "source": [
    "import pandas as pd\n",
    "import datetime\n",
    "import matplotlib.pyplot as plt\n",
    "import seaborn as sns"
   ]
  },
  {
   "cell_type": "markdown",
   "metadata": {},
   "source": [
    "## Exploratory Data Analysis of Tweet Location by Time\n",
    "\n",
    "I hypothesize that the time at which a tweet is sent will be a significant factor in teasing out the location of the sender. If it's 7:00 am on a Tuesday in London, who is more likely to be tweeting: a Brit or an American? \n",
    "\n",
    "| Time Zone | Time    | Location |\n",
    "|--- |----------| ------|\n",
    "| PDT | midnight  | Los Angeles |\n",
    "| MDT | 1:00 am | Denver |\n",
    "| CDT | 2:00 am | Chicago |\n",
    "| EDT | 3:00 am| New York City |\n",
    "| BST | 7:00 am| London|\n",
    "\n",
    "\n",
    "While Angelenos may still be up at midnight and tweeting, it seems unlikely that the average New Yorker will be tweeting at 3 in the morning. At 7 am, however, the average Londoner is awake and moving into their day. If my only data point were the time of day, I would predict that at 7:00 UTC -- Coordinated Universal Time, the time zone Twitter uses -- the tweeter would more likely come from the UK than from the US.\n",
    "\n",
    "From my database of 10.7 million tweets about coronavirus, I queried self-reported locations of: UK, USA, England, Scotland, London, Liverpool, Edinburgh, New York, Texas, California, New York City, Chicago, Los Angeles, Houston, Dallas, Austin, Denver, and Atlanta. This is by no means a complete or even (necessarily) representative sample of the total number of tweets from the United States and the United Kingdom, but it was enough to allow some exploratory data analysis of the relationship of location to time. The initial dataset from this query contained 319,127 tweets. It ranged from March 19-24, 2020, after Daylight Savings Time started in the US but before British Summer Time began in the UK."
   ]
  },
  {
   "cell_type": "code",
   "execution_count": 171,
   "metadata": {},
   "outputs": [],
   "source": [
    "# The file name says 200K, but there were more than 300,000 rows.\n",
    "file = '../200K_US_UK.csv'\n",
    "df = pd.read_csv(file, error_bad_lines=False)"
   ]
  },
  {
   "cell_type": "markdown",
   "metadata": {},
   "source": [
    "### Taking a first look\n",
    "There's something weird going on with the `place` column. It has only 1,991 non-null entries and only 91 unique entries."
   ]
  },
  {
   "cell_type": "code",
   "execution_count": 172,
   "metadata": {},
   "outputs": [
    {
     "data": {
      "text/plain": [
       "pk                 319127\n",
       "username           318669\n",
       "created_at         315696\n",
       "tweet              318209\n",
       "location           312574\n",
       "place                1991\n",
       "followers_count    311817\n",
       "dtype: int64"
      ]
     },
     "execution_count": 172,
     "metadata": {},
     "output_type": "execute_result"
    }
   ],
   "source": [
    "df.count()"
   ]
  },
  {
   "cell_type": "code",
   "execution_count": 173,
   "metadata": {},
   "outputs": [
    {
     "data": {
      "text/plain": [
       "pk                 316775\n",
       "username            92640\n",
       "created_at         170745\n",
       "tweet              150976\n",
       "location              704\n",
       "place                  91\n",
       "followers_count     25700\n",
       "dtype: int64"
      ]
     },
     "execution_count": 173,
     "metadata": {},
     "output_type": "execute_result"
    }
   ],
   "source": [
    "df.nunique()"
   ]
  },
  {
   "cell_type": "code",
   "execution_count": 427,
   "metadata": {},
   "outputs": [
    {
     "data": {
      "text/plain": [
       "Timestamp('2020-03-24 02:21:10')"
      ]
     },
     "execution_count": 427,
     "metadata": {},
     "output_type": "execute_result"
    }
   ],
   "source": [
    "df.date.max()"
   ]
  },
  {
   "cell_type": "markdown",
   "metadata": {},
   "source": [
    "I have no idea what's going on with `place`. It looks like spillover from another column perhaps. "
   ]
  },
  {
   "cell_type": "code",
   "execution_count": 176,
   "metadata": {},
   "outputs": [
    {
     "data": {
      "text/plain": [
       "312539                         INCINERATED!!!\n",
       "312549                         INCINERATED!!!\n",
       "312551                         INCINERATED!!!\n",
       "312864                         INCINERATED!!!\n",
       "271342                                  May 2\n",
       "56872                                   TEST\"\n",
       "117096                                  TEST\"\n",
       "116151                                   TLB \n",
       "176754              according to the source.\"\n",
       "88850      and alleviates challenges we have\"\n",
       "Name: place, dtype: object"
      ]
     },
     "execution_count": 176,
     "metadata": {},
     "output_type": "execute_result"
    }
   ],
   "source": [
    "df.place.sort_values().head(10)"
   ]
  },
  {
   "cell_type": "code",
   "execution_count": 177,
   "metadata": {},
   "outputs": [],
   "source": [
    "# Time to drop it\n",
    "df = df.drop(columns='place')"
   ]
  },
  {
   "cell_type": "code",
   "execution_count": 178,
   "metadata": {},
   "outputs": [
    {
     "data": {
      "text/html": [
       "<div>\n",
       "<style scoped>\n",
       "    .dataframe tbody tr th:only-of-type {\n",
       "        vertical-align: middle;\n",
       "    }\n",
       "\n",
       "    .dataframe tbody tr th {\n",
       "        vertical-align: top;\n",
       "    }\n",
       "\n",
       "    .dataframe thead th {\n",
       "        text-align: right;\n",
       "    }\n",
       "</style>\n",
       "<table border=\"1\" class=\"dataframe\">\n",
       "  <thead>\n",
       "    <tr style=\"text-align: right;\">\n",
       "      <th></th>\n",
       "      <th>pk</th>\n",
       "      <th>username</th>\n",
       "      <th>created_at</th>\n",
       "      <th>tweet</th>\n",
       "      <th>location</th>\n",
       "      <th>followers_count</th>\n",
       "    </tr>\n",
       "  </thead>\n",
       "  <tbody>\n",
       "    <tr>\n",
       "      <th>0</th>\n",
       "      <td>10571759</td>\n",
       "      <td>nytimes</td>\n",
       "      <td>Tue Mar 24 00:42:34 +0000 2020</td>\n",
       "      <td>If it were possible to wave a magic wand and m...</td>\n",
       "      <td>New York City</td>\n",
       "      <td>45746727</td>\n",
       "    </tr>\n",
       "    <tr>\n",
       "      <th>1</th>\n",
       "      <td>10005992</td>\n",
       "      <td>nytimes</td>\n",
       "      <td>Mon Mar 23 21:20:02 +0000 2020</td>\n",
       "      <td>Joe Biden on Monday criticized President Trump...</td>\n",
       "      <td>New York City</td>\n",
       "      <td>45743620</td>\n",
       "    </tr>\n",
       "  </tbody>\n",
       "</table>\n",
       "</div>"
      ],
      "text/plain": [
       "         pk username                      created_at  \\\n",
       "0  10571759  nytimes  Tue Mar 24 00:42:34 +0000 2020   \n",
       "1  10005992  nytimes  Mon Mar 23 21:20:02 +0000 2020   \n",
       "\n",
       "                                               tweet       location  \\\n",
       "0  If it were possible to wave a magic wand and m...  New York City   \n",
       "1  Joe Biden on Monday criticized President Trump...  New York City   \n",
       "\n",
       "  followers_count  \n",
       "0        45746727  \n",
       "1        45743620  "
      ]
     },
     "execution_count": 178,
     "metadata": {},
     "output_type": "execute_result"
    }
   ],
   "source": [
    "df.head(2)"
   ]
  },
  {
   "cell_type": "markdown",
   "metadata": {},
   "source": [
    "### Dropping nulls\n",
    "These tweets are only useful for this analysis if they contain both the date/time they were created and the location from which they were tweeted. Any rows with null values in one or both of these columns can be dropped."
   ]
  },
  {
   "cell_type": "code",
   "execution_count": 179,
   "metadata": {},
   "outputs": [],
   "source": [
    "df = df.dropna(subset=['created_at', 'location'])"
   ]
  },
  {
   "cell_type": "code",
   "execution_count": 181,
   "metadata": {},
   "outputs": [
    {
     "data": {
      "text/plain": [
       "pk                 312574\n",
       "username           312574\n",
       "created_at         312574\n",
       "tweet              312144\n",
       "location           312574\n",
       "followers_count    311817\n",
       "dtype: int64"
      ]
     },
     "execution_count": 181,
     "metadata": {},
     "output_type": "execute_result"
    }
   ],
   "source": [
    "# It looks like the only null values left are in the followers_count, but those nulls\n",
    "# should have no effect on my hypothesis, so I'm leaving them in\n",
    "df.count()"
   ]
  },
  {
   "cell_type": "code",
   "execution_count": 185,
   "metadata": {},
   "outputs": [
    {
     "data": {
      "text/plain": [
       "pk                 object\n",
       "username           object\n",
       "created_at         object\n",
       "tweet              object\n",
       "location           object\n",
       "followers_count    object\n",
       "dtype: object"
      ]
     },
     "execution_count": 185,
     "metadata": {},
     "output_type": "execute_result"
    }
   ],
   "source": [
    "# Every data type is an object. I want `created_at` to be a datetime object.\n",
    "df.dtypes"
   ]
  },
  {
   "cell_type": "markdown",
   "metadata": {},
   "source": [
    "### Working with time values\n",
    "When I initially ran the `pd.to_datetime` function for the `created_at` column, it errored out. I sorted the dataframe to see what was going on. It turns out that there are some weird values in some places. It looks like things may have gotten shifted incorrectly for a few rows in the original data pull from Twitter or in the query from MySQL. I re-ran the function to coerce errors into null values that I could drop and to format the expected values into the correct datetime object."
   ]
  },
  {
   "cell_type": "code",
   "execution_count": 183,
   "metadata": {},
   "outputs": [
    {
     "data": {
      "text/html": [
       "<div>\n",
       "<style scoped>\n",
       "    .dataframe tbody tr th:only-of-type {\n",
       "        vertical-align: middle;\n",
       "    }\n",
       "\n",
       "    .dataframe tbody tr th {\n",
       "        vertical-align: top;\n",
       "    }\n",
       "\n",
       "    .dataframe thead th {\n",
       "        text-align: right;\n",
       "    }\n",
       "</style>\n",
       "<table border=\"1\" class=\"dataframe\">\n",
       "  <thead>\n",
       "    <tr style=\"text-align: right;\">\n",
       "      <th></th>\n",
       "      <th>pk</th>\n",
       "      <th>username</th>\n",
       "      <th>created_at</th>\n",
       "      <th>tweet</th>\n",
       "      <th>location</th>\n",
       "      <th>followers_count</th>\n",
       "    </tr>\n",
       "  </thead>\n",
       "  <tbody>\n",
       "    <tr>\n",
       "      <th>58926</th>\n",
       "      <td>There is a reason for why China</td>\n",
       "      <td>South Korea</td>\n",
       "      <td>Japan</td>\n",
       "      <td>Singapore &amp;amp; Taiwan…\"</td>\n",
       "      <td>USA</td>\n",
       "      <td>4611</td>\n",
       "    </tr>\n",
       "    <tr>\n",
       "      <th>263001</th>\n",
       "      <td>There is a reason for why China</td>\n",
       "      <td>South Korea</td>\n",
       "      <td>Japan</td>\n",
       "      <td>Singapore &amp;amp; Taiwan…\"</td>\n",
       "      <td>USA</td>\n",
       "      <td>148</td>\n",
       "    </tr>\n",
       "    <tr>\n",
       "      <th>293315</th>\n",
       "      <td>- @jhalamka</td>\n",
       "      <td>President</td>\n",
       "      <td>Mayo Clinic Platform</td>\n",
       "      <td>and…\"</td>\n",
       "      <td>USA</td>\n",
       "      <td>61</td>\n",
       "    </tr>\n",
       "    <tr>\n",
       "      <th>72761</th>\n",
       "      <td>Italy</td>\n",
       "      <td>Spain</td>\n",
       "      <td>and France have tested a total of at LEAST 100</td>\n",
       "      <td>… https://t.co/5h3JLh6kn5\"</td>\n",
       "      <td>California</td>\n",
       "      <td>3638</td>\n",
       "    </tr>\n",
       "    <tr>\n",
       "      <th>96436</th>\n",
       "      <td>Waffle</td>\n",
       "      <td>waffle</td>\n",
       "      <td>bluster</td>\n",
       "      <td>bl…\"</td>\n",
       "      <td>UK</td>\n",
       "      <td>2412</td>\n",
       "    </tr>\n",
       "  </tbody>\n",
       "</table>\n",
       "</div>"
      ],
      "text/plain": [
       "                                     pk      username  \\\n",
       "58926   There is a reason for why China   South Korea   \n",
       "263001  There is a reason for why China   South Korea   \n",
       "293315                      - @jhalamka     President   \n",
       "72761                             Italy         Spain   \n",
       "96436                            Waffle        waffle   \n",
       "\n",
       "                                             created_at  \\\n",
       "58926                                             Japan   \n",
       "263001                                            Japan   \n",
       "293315                             Mayo Clinic Platform   \n",
       "72761    and France have tested a total of at LEAST 100   \n",
       "96436                                           bluster   \n",
       "\n",
       "                             tweet    location followers_count  \n",
       "58926     Singapore &amp; Taiwan…\"         USA            4611  \n",
       "263001    Singapore &amp; Taiwan…\"         USA             148  \n",
       "293315                       and…\"         USA              61  \n",
       "72761   … https://t.co/5h3JLh6kn5\"  California            3638  \n",
       "96436                         bl…\"          UK            2412  "
      ]
     },
     "execution_count": 183,
     "metadata": {},
     "output_type": "execute_result"
    }
   ],
   "source": [
    "df.sort_values('created_at').head()"
   ]
  },
  {
   "cell_type": "code",
   "execution_count": 189,
   "metadata": {},
   "outputs": [],
   "source": [
    "df['date'] = pd.to_datetime(df.created_at, \n",
    "                            errors='coerce',\n",
    "                            format='%a %b %d %H:%M:%S +0000 %Y')"
   ]
  },
  {
   "cell_type": "code",
   "execution_count": 190,
   "metadata": {},
   "outputs": [
    {
     "data": {
      "text/plain": [
       "pk                 0\n",
       "username           0\n",
       "created_at         0\n",
       "tweet              0\n",
       "location           0\n",
       "followers_count    0\n",
       "date               6\n",
       "dtype: int64"
      ]
     },
     "execution_count": 190,
     "metadata": {},
     "output_type": "execute_result"
    }
   ],
   "source": [
    "# Just a few NaN values in date\n",
    "df.isna().sum()"
   ]
  },
  {
   "cell_type": "code",
   "execution_count": 191,
   "metadata": {},
   "outputs": [],
   "source": [
    "# I've dropped all of the null values\n",
    "df = df.dropna()"
   ]
  },
  {
   "cell_type": "code",
   "execution_count": 193,
   "metadata": {},
   "outputs": [
    {
     "data": {
      "text/plain": [
       "pk                         object\n",
       "username                   object\n",
       "created_at                 object\n",
       "tweet                      object\n",
       "location                   object\n",
       "followers_count            object\n",
       "date               datetime64[ns]\n",
       "dtype: object"
      ]
     },
     "execution_count": 193,
     "metadata": {},
     "output_type": "execute_result"
    }
   ],
   "source": [
    "# And now date is a correctly formatted object that I can work with.\n",
    "df.dtypes"
   ]
  },
  {
   "cell_type": "markdown",
   "metadata": {},
   "source": [
    "### Date breakdown\n",
    "Now I'd like a couple of new columns: one for the hour of the day and one for the day of the week. I can use an attribute of the datetime object to get the former and a method to get the latter."
   ]
  },
  {
   "cell_type": "code",
   "execution_count": 234,
   "metadata": {},
   "outputs": [],
   "source": [
    "df['hour'] = df.date.apply(lambda x: x.hour)"
   ]
  },
  {
   "cell_type": "code",
   "execution_count": 227,
   "metadata": {},
   "outputs": [],
   "source": [
    "df['day'] = df.date.apply(lambda x: x.day_name())"
   ]
  },
  {
   "cell_type": "code",
   "execution_count": 235,
   "metadata": {},
   "outputs": [
    {
     "data": {
      "text/html": [
       "<div>\n",
       "<style scoped>\n",
       "    .dataframe tbody tr th:only-of-type {\n",
       "        vertical-align: middle;\n",
       "    }\n",
       "\n",
       "    .dataframe tbody tr th {\n",
       "        vertical-align: top;\n",
       "    }\n",
       "\n",
       "    .dataframe thead th {\n",
       "        text-align: right;\n",
       "    }\n",
       "</style>\n",
       "<table border=\"1\" class=\"dataframe\">\n",
       "  <thead>\n",
       "    <tr style=\"text-align: right;\">\n",
       "      <th></th>\n",
       "      <th>pk</th>\n",
       "      <th>username</th>\n",
       "      <th>created_at</th>\n",
       "      <th>tweet</th>\n",
       "      <th>location</th>\n",
       "      <th>followers_count</th>\n",
       "      <th>date</th>\n",
       "      <th>day</th>\n",
       "      <th>hour</th>\n",
       "    </tr>\n",
       "  </thead>\n",
       "  <tbody>\n",
       "    <tr>\n",
       "      <th>0</th>\n",
       "      <td>10571759</td>\n",
       "      <td>nytimes</td>\n",
       "      <td>Tue Mar 24 00:42:34 +0000 2020</td>\n",
       "      <td>If it were possible to wave a magic wand and m...</td>\n",
       "      <td>New York City</td>\n",
       "      <td>45746727</td>\n",
       "      <td>2020-03-24 00:42:34</td>\n",
       "      <td>Tuesday</td>\n",
       "      <td>0</td>\n",
       "    </tr>\n",
       "    <tr>\n",
       "      <th>1</th>\n",
       "      <td>10005992</td>\n",
       "      <td>nytimes</td>\n",
       "      <td>Mon Mar 23 21:20:02 +0000 2020</td>\n",
       "      <td>Joe Biden on Monday criticized President Trump...</td>\n",
       "      <td>New York City</td>\n",
       "      <td>45743620</td>\n",
       "      <td>2020-03-23 21:20:02</td>\n",
       "      <td>Monday</td>\n",
       "      <td>21</td>\n",
       "    </tr>\n",
       "    <tr>\n",
       "      <th>2</th>\n",
       "      <td>9875083</td>\n",
       "      <td>nytimes</td>\n",
       "      <td>Mon Mar 23 20:14:06 +0000 2020</td>\n",
       "      <td>RT @zwoolfe: BREAKING: The New York Philharmon...</td>\n",
       "      <td>New York City</td>\n",
       "      <td>45742242</td>\n",
       "      <td>2020-03-23 20:14:06</td>\n",
       "      <td>Monday</td>\n",
       "      <td>20</td>\n",
       "    </tr>\n",
       "    <tr>\n",
       "      <th>3</th>\n",
       "      <td>9857476</td>\n",
       "      <td>nytimes</td>\n",
       "      <td>Mon Mar 23 20:07:47 +0000 2020</td>\n",
       "      <td>Breaking News: Stocks on Wall Street dropped a...</td>\n",
       "      <td>New York City</td>\n",
       "      <td>45742108</td>\n",
       "      <td>2020-03-23 20:07:47</td>\n",
       "      <td>Monday</td>\n",
       "      <td>20</td>\n",
       "    </tr>\n",
       "    <tr>\n",
       "      <th>4</th>\n",
       "      <td>9641520</td>\n",
       "      <td>nytimes</td>\n",
       "      <td>Mon Mar 23 18:50:02 +0000 2020</td>\n",
       "      <td>RT @emmabgo: What does it look like to be a me...</td>\n",
       "      <td>New York City</td>\n",
       "      <td>45740677</td>\n",
       "      <td>2020-03-23 18:50:02</td>\n",
       "      <td>Monday</td>\n",
       "      <td>18</td>\n",
       "    </tr>\n",
       "  </tbody>\n",
       "</table>\n",
       "</div>"
      ],
      "text/plain": [
       "         pk username                      created_at  \\\n",
       "0  10571759  nytimes  Tue Mar 24 00:42:34 +0000 2020   \n",
       "1  10005992  nytimes  Mon Mar 23 21:20:02 +0000 2020   \n",
       "2   9875083  nytimes  Mon Mar 23 20:14:06 +0000 2020   \n",
       "3   9857476  nytimes  Mon Mar 23 20:07:47 +0000 2020   \n",
       "4   9641520  nytimes  Mon Mar 23 18:50:02 +0000 2020   \n",
       "\n",
       "                                               tweet       location  \\\n",
       "0  If it were possible to wave a magic wand and m...  New York City   \n",
       "1  Joe Biden on Monday criticized President Trump...  New York City   \n",
       "2  RT @zwoolfe: BREAKING: The New York Philharmon...  New York City   \n",
       "3  Breaking News: Stocks on Wall Street dropped a...  New York City   \n",
       "4  RT @emmabgo: What does it look like to be a me...  New York City   \n",
       "\n",
       "  followers_count                date      day  hour  \n",
       "0        45746727 2020-03-24 00:42:34  Tuesday     0  \n",
       "1        45743620 2020-03-23 21:20:02   Monday    21  \n",
       "2        45742242 2020-03-23 20:14:06   Monday    20  \n",
       "3        45742108 2020-03-23 20:07:47   Monday    20  \n",
       "4        45740677 2020-03-23 18:50:02   Monday    18  "
      ]
     },
     "execution_count": 235,
     "metadata": {},
     "output_type": "execute_result"
    }
   ],
   "source": [
    "# Looks pretty good to me\n",
    "df.head()"
   ]
  },
  {
   "cell_type": "code",
   "execution_count": 403,
   "metadata": {},
   "outputs": [
    {
     "data": {
      "text/plain": [
       "<matplotlib.axes._subplots.AxesSubplot at 0x1c05fdda0>"
      ]
     },
     "execution_count": 403,
     "metadata": {},
     "output_type": "execute_result"
    },
    {
     "data": {
      "image/png": "[encoded data removed]",
      "text/plain": [
       "<Figure size 576x432 with 1 Axes>"
      ]
     },
     "metadata": {
      "needs_background": "light"
     },
     "output_type": "display_data"
    }
   ],
   "source": [
    "# Quick plot shows that most of my dataset's tweets come from March 22, 2020\n",
    "days.size().plot(kind='bar', rot=45, title='Tweets per Day', figsize=(8,6))"
   ]
  },
  {
   "cell_type": "code",
   "execution_count": 232,
   "metadata": {},
   "outputs": [
    {
     "data": {
      "text/plain": [
       "Timedelta('4 days 05:49:38')"
      ]
     },
     "execution_count": 232,
     "metadata": {},
     "output_type": "execute_result"
    }
   ],
   "source": [
    "# The total length of the dataset is a little over four days\n",
    "df.date.max() - df.date.min()"
   ]
  },
  {
   "cell_type": "markdown",
   "metadata": {},
   "source": [
    "### Getting Clean Location Data\n",
    "This is the second critical part of my exploratory data analysis. I limited my query to those who only listed the USA or UK as their location or one of a few major cities and states. I ended up with 115 unique values, many of which are variant spellings of the same place, and a few of which aren't a place at all, like `' sailors'`. "
   ]
  },
  {
   "cell_type": "code",
   "execution_count": 240,
   "metadata": {},
   "outputs": [
    {
     "data": {
      "text/plain": [
       "array(['New York City', 'London', 'Los Angeles', 'England', 'New York',\n",
       "       'NYC', 'USA', 'LONDON', 'California', 'UK', 'United Kingdom',\n",
       "       'Atlanta', 'Boston', 'Liverpool', 'Texas', 'nyc', 'new york',\n",
       "       'los angeles', 'NEW YORK CITY', 'Ohio', 'chicago', 'Chicago',\n",
       "       'london', 'Nyc', ' sailors', 'Glasgow', 'england', 'Houston',\n",
       "       'usa', 'Dallas', 'uk', 'texas', 'ATLANTA', 'Austin', 'LOS ANGELES',\n",
       "       'Los angeles', 'austin', 'liverpool', 'TEXAS', 'new york city',\n",
       "       'atlanta', 'california', 'NEW YORK', 'HOUSTON', 'ohio', 'Usa',\n",
       "       'CALIFORNIA', 'glasgow', 'houston', 'Uk', 'BOSTON', 'CHICAGO',\n",
       "       'GLASGOW', 'boston', 'OHIO', 'New York CIty', 'New york',\n",
       "       'Los Ángeles', 'CHICAGØ', 'united kingdom', 'oHIo', 'USa',\n",
       "       'New York city', 'dallas', 'nYc', 'United kingdom', 'ⓊⓀ',\n",
       "       ' we did this', 'ENGLAND', 'LIVERPOOL', 'californiA',\n",
       "       'ˡᵒˢ ᵃⁿᵍᵉˡᵉˢ', 'DALLAS', 'uSA', 'UNITED KINGDOM', 'OHio', 'UsA',\n",
       "       'new York city', 'teXas', 'nÿc', 'ⓝⓨⓒ', 'New york City',\n",
       "       'los Angeles', 'new yoRk city', 'new York', 'OhIo', 'Løs Angeles',\n",
       "       'united Kingdom', 'daLLas', 'cAliFoRNiA', 'TeXas', 'New york city',\n",
       "       'b̸o̸s̸t̸o̸n̸', 'LOS ÁNGELES', ' learn more', 'AUSTIN',\n",
       "       'ｃａｌｉｆｏｒｎｉａ', 'TeXaS', 'tExas', 'Chĩcagö', 'Ｌｏｓ Ａｎｇｅｌｅｓ', 'Øhiø',\n",
       "       ' in fear that they may catch a cold or', 'LoNdOn', 'hoUSTon',\n",
       "       'NyC', ' folks.\" -Joe Biden on China', 'Los Angèles', 'TexAs',\n",
       "       'United KIngdom', 'CAlifornia', 'nEW yoRk', 'CaliforniA', 'BoStOn',\n",
       "       'LIverpool'], dtype=object)"
      ]
     },
     "execution_count": 240,
     "metadata": {},
     "output_type": "execute_result"
    }
   ],
   "source": [
    "df.location.unique()"
   ]
  },
  {
   "cell_type": "markdown",
   "metadata": {},
   "source": [
    "I created a lookup table in Python for each of these listed locations to map to a standardized location. Countries listed by themselves were mapped either to `USA` or `UK`. Cities or states were mapped as follows:\n",
    "\n",
    "    'London': 'England, UK',\n",
    "    'Austin': 'TX, USA',\n",
    "    ' folks.\"': None\n",
    "    \n",
    "I then imported the table so that I could create a new column called `state` to contain this standardized location. "
   ]
  },
  {
   "cell_type": "code",
   "execution_count": 247,
   "metadata": {},
   "outputs": [],
   "source": [
    "from locations import loc_names"
   ]
  },
  {
   "cell_type": "code",
   "execution_count": 249,
   "metadata": {},
   "outputs": [
    {
     "data": {
      "text/plain": [
       "'TX, USA'"
      ]
     },
     "execution_count": 249,
     "metadata": {},
     "output_type": "execute_result"
    }
   ],
   "source": [
    "# Quick test\n",
    "loc_names['TeXaS']"
   ]
  },
  {
   "cell_type": "code",
   "execution_count": 250,
   "metadata": {},
   "outputs": [],
   "source": [
    "# Creating a `state` column\n",
    "df['state'] = df.location.apply(lambda x: loc_names[x])"
   ]
  },
  {
   "cell_type": "code",
   "execution_count": 254,
   "metadata": {},
   "outputs": [
    {
     "data": {
      "text/plain": [
       "array(['NY, USA', 'England, UK', 'CA, USA', 'UK', 'USA', 'GA, USA',\n",
       "       'MA, USA', 'TX, USA', 'OH, USA', 'IL, USA', None, 'Scotland, UK'],\n",
       "      dtype=object)"
      ]
     },
     "execution_count": 254,
     "metadata": {},
     "output_type": "execute_result"
    }
   ],
   "source": [
    "# Unique locations include None type because I mapped non-location values to None\n",
    "df.state.unique()"
   ]
  },
  {
   "cell_type": "code",
   "execution_count": 256,
   "metadata": {},
   "outputs": [],
   "source": [
    "# Which allows me to drop them.\n",
    "df = df.dropna()"
   ]
  },
  {
   "cell_type": "code",
   "execution_count": 257,
   "metadata": {},
   "outputs": [
    {
     "data": {
      "text/plain": [
       "array(['NY, USA', 'England, UK', 'CA, USA', 'UK', 'USA', 'GA, USA',\n",
       "       'MA, USA', 'TX, USA', 'OH, USA', 'IL, USA', 'Scotland, UK'],\n",
       "      dtype=object)"
      ]
     },
     "execution_count": 257,
     "metadata": {},
     "output_type": "execute_result"
    }
   ],
   "source": [
    "# Now we can see that 11 unique locations are included.\n",
    "df.state.unique()"
   ]
  },
  {
   "cell_type": "code",
   "execution_count": 258,
   "metadata": {},
   "outputs": [
    {
     "data": {
      "text/plain": [
       "311801"
      ]
     },
     "execution_count": 258,
     "metadata": {},
     "output_type": "execute_result"
    }
   ],
   "source": [
    "# The dataframe should stay about this size from here forward\n",
    "len(df)"
   ]
  },
  {
   "cell_type": "markdown",
   "metadata": {},
   "source": [
    "### Making a Country Column\n",
    "I want to be able to do a binary either/or for the United States and the United Kingdom. To create the `country` column, I made a custom function that quickly outputs whether the corresponding value in the `state` column contains `USA` or `UK`."
   ]
  },
  {
   "cell_type": "code",
   "execution_count": 259,
   "metadata": {},
   "outputs": [],
   "source": [
    "def country(location):\n",
    "    \"\"\"\n",
    "    Returns either UK or USA\n",
    "    \"\"\"\n",
    "    if 'USA' in location:\n",
    "        return 'USA'\n",
    "    else:\n",
    "        return 'UK'"
   ]
  },
  {
   "cell_type": "code",
   "execution_count": 406,
   "metadata": {},
   "outputs": [],
   "source": [
    "df['country'] = df.state.apply(country)"
   ]
  },
  {
   "cell_type": "markdown",
   "metadata": {},
   "source": [
    "### How does the data split out? \n",
    "Roughly 64% of these 311,000 tweets originate in the US and the remainder in the UK."
   ]
  },
  {
   "cell_type": "code",
   "execution_count": 262,
   "metadata": {},
   "outputs": [
    {
     "data": {
      "text/html": [
       "<div>\n",
       "<style scoped>\n",
       "    .dataframe tbody tr th:only-of-type {\n",
       "        vertical-align: middle;\n",
       "    }\n",
       "\n",
       "    .dataframe tbody tr th {\n",
       "        vertical-align: top;\n",
       "    }\n",
       "\n",
       "    .dataframe thead th {\n",
       "        text-align: right;\n",
       "    }\n",
       "</style>\n",
       "<table border=\"1\" class=\"dataframe\">\n",
       "  <thead>\n",
       "    <tr style=\"text-align: right;\">\n",
       "      <th></th>\n",
       "      <th>hour</th>\n",
       "    </tr>\n",
       "    <tr>\n",
       "      <th>country</th>\n",
       "      <th></th>\n",
       "    </tr>\n",
       "  </thead>\n",
       "  <tbody>\n",
       "    <tr>\n",
       "      <th>UK</th>\n",
       "      <td>1464263</td>\n",
       "    </tr>\n",
       "    <tr>\n",
       "      <th>USA</th>\n",
       "      <td>2508529</td>\n",
       "    </tr>\n",
       "  </tbody>\n",
       "</table>\n",
       "</div>"
      ],
      "text/plain": [
       "            hour\n",
       "country         \n",
       "UK       1464263\n",
       "USA      2508529"
      ]
     },
     "execution_count": 262,
     "metadata": {},
     "output_type": "execute_result"
    }
   ],
   "source": [
    "df.groupby('country').sum()"
   ]
  },
  {
   "cell_type": "code",
   "execution_count": 274,
   "metadata": {},
   "outputs": [
    {
     "data": {
      "text/plain": [
       "0.34311307532689117"
      ]
     },
     "execution_count": 274,
     "metadata": {},
     "output_type": "execute_result"
    }
   ],
   "source": [
    "# 34% of these tweets originate in the UK\n",
    "\n",
    "len(df[df.country=='UK'])/len(df)"
   ]
  },
  {
   "cell_type": "markdown",
   "metadata": {},
   "source": [
    "### A quick look at content\n",
    "For future exploration, I'll be looking to see if retweets are a factor in determining location. I wanted to get a sense of their distribution in this dataset."
   ]
  },
  {
   "cell_type": "code",
   "execution_count": 282,
   "metadata": {},
   "outputs": [
    {
     "data": {
      "text/plain": [
       "0.47377012902460225"
      ]
     },
     "execution_count": 282,
     "metadata": {},
     "output_type": "execute_result"
    }
   ],
   "source": [
    "# Slightly fewer than half of the tweets are unique\n",
    "df.tweet.nunique()/len(df)"
   ]
  },
  {
   "cell_type": "code",
   "execution_count": 285,
   "metadata": {},
   "outputs": [
    {
     "data": {
      "text/plain": [
       "0.7781950667252511"
      ]
     },
     "execution_count": 285,
     "metadata": {},
     "output_type": "execute_result"
    }
   ],
   "source": [
    "# Yikes -- about 78% of all these tweets are actually retweets\n",
    "df.tweet.str.startswith('RT').sum()/len(df)"
   ]
  },
  {
   "cell_type": "code",
   "execution_count": 410,
   "metadata": {},
   "outputs": [
    {
     "data": {
      "text/plain": [
       "0.7389959152388698"
      ]
     },
     "execution_count": 410,
     "metadata": {},
     "output_type": "execute_result"
    }
   ],
   "source": [
    "# About 74% of British tweets are retweets\n",
    "df[df.country=='UK'].tweet.str.startswith('RT').sum()/len(df[df.country=='UK'])"
   ]
  },
  {
   "cell_type": "code",
   "execution_count": 411,
   "metadata": {},
   "outputs": [
    {
     "data": {
      "text/plain": [
       "0.7986700387661241"
      ]
     },
     "execution_count": 411,
     "metadata": {},
     "output_type": "execute_result"
    }
   ],
   "source": [
    "# About 80% of American tweets are retweets\n",
    "df[df.country=='USA'].tweet.str.startswith('RT').sum()/len(df[df.country=='USA'])"
   ]
  },
  {
   "cell_type": "code",
   "execution_count": 445,
   "metadata": {},
   "outputs": [
    {
     "data": {
      "text/plain": [
       "1"
      ]
     },
     "execution_count": 445,
     "metadata": {},
     "output_type": "execute_result"
    }
   ],
   "source": [
    "df[df.country=='USA'].tweet.str.startswith('RT').unique().sum()"
   ]
  },
  {
   "cell_type": "code",
   "execution_count": 451,
   "metadata": {},
   "outputs": [
    {
     "data": {
      "text/plain": [
       "68798"
      ]
     },
     "execution_count": 451,
     "metadata": {},
     "output_type": "execute_result"
    }
   ],
   "source": [
    "# Unique tweets that are not re-tweets count for only 68,798 of the 311,000 tweets\n",
    "df.tweet.drop_duplicates().count() - df.tweet.drop_duplicates().str.startswith('RT').sum()"
   ]
  },
  {
   "cell_type": "code",
   "execution_count": 452,
   "metadata": {},
   "outputs": [
    {
     "data": {
      "text/plain": [
       "0.22064714353064935"
      ]
     },
     "execution_count": 452,
     "metadata": {},
     "output_type": "execute_result"
    }
   ],
   "source": [
    "# Proportion of all tweets that are unique and not re-tweets\n",
    "68798/len(df)"
   ]
  },
  {
   "cell_type": "markdown",
   "metadata": {},
   "source": [
    "## Graphic Analysis\n",
    "I'll start off with grouping the data by hour and by country. Unfortunately, this graph is hard to read and doesn't make it clear which country leads each hour in tweeting."
   ]
  },
  {
   "cell_type": "code",
   "execution_count": 327,
   "metadata": {},
   "outputs": [
    {
     "data": {
      "text/plain": [
       "<matplotlib.axes._subplots.AxesSubplot at 0x1c5c43860>"
      ]
     },
     "execution_count": 327,
     "metadata": {},
     "output_type": "execute_result"
    },
    {
     "data": {
      "image/png": "[encoded data removed]",
      "text/plain": [
       "<Figure size 864x432 with 1 Axes>"
      ]
     },
     "metadata": {
      "needs_background": "light"
     },
     "output_type": "display_data"
    }
   ],
   "source": [
    "df.groupby(['hour', 'country']).size().plot(kind='bar', figsize=(12,6))"
   ]
  },
  {
   "cell_type": "markdown",
   "metadata": {},
   "source": [
    "A visual of the groupby numbers isn't that much more helpful."
   ]
  },
  {
   "cell_type": "code",
   "execution_count": 443,
   "metadata": {},
   "outputs": [
    {
     "data": {
      "text/plain": [
       "hour  country\n",
       "0     UK          3434\n",
       "      USA        13222\n",
       "1     UK          2334\n",
       "      USA        13944\n",
       "2     UK          1441\n",
       "      USA        12056\n",
       "3     UK          1207\n",
       "      USA        11580\n",
       "4     UK          1249\n",
       "      USA        10145\n",
       "Name: tweet, dtype: int64"
      ]
     },
     "execution_count": 443,
     "metadata": {},
     "output_type": "execute_result"
    }
   ],
   "source": [
    "df.groupby(['hour', 'country'])['tweet'].count().head(10)"
   ]
  },
  {
   "cell_type": "markdown",
   "metadata": {},
   "source": [
    "### Total Tweets per Hour\n",
    "Looking at total tweets per hour, we see a dip from 10 am to 2 pm UTC. Here's what that time frame looks like for this dataset.\n",
    "\n",
    "| Time    | Location |\n",
    "|----------| ------|\n",
    "| 3:00 am -  7 am| Los Angeles |\n",
    "| 4:00 am - 8 am| Denver |\n",
    "| 5:00 am - 9 am| Chicago |\n",
    "| 6:00 am - 10 am| New York City |\n",
    "| 10:00 am - 2 pm| London|"
   ]
  },
  {
   "cell_type": "code",
   "execution_count": 332,
   "metadata": {},
   "outputs": [
    {
     "data": {
      "text/plain": [
       "<matplotlib.axes._subplots.AxesSubplot at 0x1c6687b00>"
      ]
     },
     "execution_count": 332,
     "metadata": {},
     "output_type": "execute_result"
    },
    {
     "data": {
      "image/png": "[encoded data removed]",
      "text/plain": [
       "<Figure size 864x432 with 1 Axes>"
      ]
     },
     "metadata": {
      "needs_background": "light"
     },
     "output_type": "display_data"
    }
   ],
   "source": [
    "df.groupby('hour')['tweet'].count().plot(kind='bar', \n",
    "                                         rot=0,\n",
    "                                        title='Number of Tweets by Hour',\n",
    "                                        figsize=(12,6),\n",
    "                                        color='green')"
   ]
  },
  {
   "cell_type": "markdown",
   "metadata": {},
   "source": [
    "### Scaling Tweet Location\n",
    "For a better look at the distribution of tweets over different hours, it's important to understand the proportion of tweets by location. If tweets from the UK were equal in number to tweets from the US, then a graph of the two would clearly show which hour contains a greater proportion of tweets from each country. \n",
    "\n",
    "Below is a look at the number of tweets per hour by country over this dataset."
   ]
  },
  {
   "cell_type": "code",
   "execution_count": 429,
   "metadata": {},
   "outputs": [
    {
     "data": {
      "text/plain": [
       "<matplotlib.axes._subplots.AxesSubplot at 0x1c7182940>"
      ]
     },
     "execution_count": 429,
     "metadata": {},
     "output_type": "execute_result"
    },
    {
     "data": {
      "image/png": "[encoded data removed]",
      "text/plain": [
       "<Figure size 864x432 with 1 Axes>"
      ]
     },
     "metadata": {
      "needs_background": "light"
     },
     "output_type": "display_data"
    }
   ],
   "source": [
    "pd.crosstab(df.hour, df.country).plot(kind='bar', \n",
    "                                      figsize=(12,6),\n",
    "                                     title='Tweets by Hour',\n",
    "                                     rot=0)"
   ]
  },
  {
   "cell_type": "markdown",
   "metadata": {},
   "source": [
    "### How do we balance the data?\n",
    "\n",
    "It seems pretty obvious that the UK out-tweets the US from 7 am to noon GMT. What about at 1 or 2 pm, when the two are close in number? If each country is contributing half of all tweets, then clearly the US is tweeting more. But it turns out that it's not a 50-50 split in the data."
   ]
  },
  {
   "cell_type": "code",
   "execution_count": 358,
   "metadata": {},
   "outputs": [
    {
     "name": "stdout",
     "output_type": "stream",
     "text": [
      "Proportion of all tweets that are from the UK: 0.34311307532689117\n",
      "Proportion of all tweets that are from the USA: 0.6568869246731088\n"
     ]
    }
   ],
   "source": [
    "print('Proportion of all tweets that are from the UK:', len(df[df.country=='UK'])/len(df))\n",
    "print('Proportion of all tweets that are from the USA:', len(df[df.country=='USA'])/len(df))"
   ]
  },
  {
   "cell_type": "markdown",
   "metadata": {},
   "source": [
    "### Normalizing by Index\n",
    "The United States is running at a nearly 2:1 margin. Let's try normalizing the data to tell who is really tweeting more. We'll make a cross-tabulation of hour by country for total tweet count and then normalize it."
   ]
  },
  {
   "cell_type": "code",
   "execution_count": 382,
   "metadata": {},
   "outputs": [
    {
     "data": {
      "text/plain": [
       "<matplotlib.axes._subplots.AxesSubplot at 0x1cf186ac8>"
      ]
     },
     "execution_count": 382,
     "metadata": {},
     "output_type": "execute_result"
    },
    {
     "data": {
      "image/png": "[encoded data removed]",
      "text/plain": [
       "<Figure size 864x432 with 1 Axes>"
      ]
     },
     "metadata": {
      "needs_background": "light"
     },
     "output_type": "display_data"
    }
   ],
   "source": [
    "pd.crosstab(df.hour, df.country, normalize='index').plot(kind='bar', figsize=(12,6), rot=0)"
   ]
  },
  {
   "cell_type": "markdown",
   "metadata": {},
   "source": [
    "This graph looks a little strange, even if it has a retro 1970's design coolness. \n",
    "\n",
    "Normalization is extremely useful in statistics. It allows you to use proportions to scale data and make meaningful comparisons. \n",
    "\n",
    "The Pandas `crosstab` function is extremely useful for normalizing data. It takes categorical data and tabulates (counts) it for you. For this graph series, I tabulated the `hour` and `country` columns of the dataframe. The output is a count of total tweets per country for each of the 24 hours in a day. \n",
    "\n",
    "Here's the head of the crosstab:"
   ]
  },
  {
   "cell_type": "code",
   "execution_count": 379,
   "metadata": {},
   "outputs": [
    {
     "data": {
      "text/html": [
       "<div>\n",
       "<style scoped>\n",
       "    .dataframe tbody tr th:only-of-type {\n",
       "        vertical-align: middle;\n",
       "    }\n",
       "\n",
       "    .dataframe tbody tr th {\n",
       "        vertical-align: top;\n",
       "    }\n",
       "\n",
       "    .dataframe thead th {\n",
       "        text-align: right;\n",
       "    }\n",
       "</style>\n",
       "<table border=\"1\" class=\"dataframe\">\n",
       "  <thead>\n",
       "    <tr style=\"text-align: right;\">\n",
       "      <th>country</th>\n",
       "      <th>UK</th>\n",
       "      <th>USA</th>\n",
       "    </tr>\n",
       "    <tr>\n",
       "      <th>hour</th>\n",
       "      <th></th>\n",
       "      <th></th>\n",
       "    </tr>\n",
       "  </thead>\n",
       "  <tbody>\n",
       "    <tr>\n",
       "      <th>0</th>\n",
       "      <td>3434</td>\n",
       "      <td>13222</td>\n",
       "    </tr>\n",
       "    <tr>\n",
       "      <th>1</th>\n",
       "      <td>2334</td>\n",
       "      <td>13944</td>\n",
       "    </tr>\n",
       "    <tr>\n",
       "      <th>2</th>\n",
       "      <td>1441</td>\n",
       "      <td>12056</td>\n",
       "    </tr>\n",
       "    <tr>\n",
       "      <th>3</th>\n",
       "      <td>1207</td>\n",
       "      <td>11580</td>\n",
       "    </tr>\n",
       "    <tr>\n",
       "      <th>4</th>\n",
       "      <td>1249</td>\n",
       "      <td>10145</td>\n",
       "    </tr>\n",
       "  </tbody>\n",
       "</table>\n",
       "</div>"
      ],
      "text/plain": [
       "country    UK    USA\n",
       "hour                \n",
       "0        3434  13222\n",
       "1        2334  13944\n",
       "2        1441  12056\n",
       "3        1207  11580\n",
       "4        1249  10145"
      ]
     },
     "execution_count": 379,
     "metadata": {},
     "output_type": "execute_result"
    }
   ],
   "source": [
    "tab = pd.crosstab(df.hour, df.country)\n",
    "tab.head()"
   ]
  },
  {
   "cell_type": "markdown",
   "metadata": {},
   "source": [
    "For each hour (row) you can see the corresponding number of tweets per country (column).\n",
    "\n",
    "In the graph above, we normalized for index. That means that each row was normalized; each row's cells are made into proportions that sum to one. This is done by dividing a cell by the sum of its row to get the proportion of the row's total that each cell contains. From the cross-tabulation above, we can find that the UK has 20% of the hour 0's tweets and the USA has the other 80%.\n",
    "\n",
    "$$ \\frac{3434}{(3434 + 13222)} = 0.20 \\,\\,  and \\,\\,\\frac{13222}{(3434 + 13222)}= 0.80$$\n",
    "\n",
    "Below you can see the same cross-tabulation normalized for row (index)."
   ]
  },
  {
   "cell_type": "code",
   "execution_count": 433,
   "metadata": {},
   "outputs": [
    {
     "data": {
      "text/html": [
       "<div>\n",
       "<style scoped>\n",
       "    .dataframe tbody tr th:only-of-type {\n",
       "        vertical-align: middle;\n",
       "    }\n",
       "\n",
       "    .dataframe tbody tr th {\n",
       "        vertical-align: top;\n",
       "    }\n",
       "\n",
       "    .dataframe thead th {\n",
       "        text-align: right;\n",
       "    }\n",
       "</style>\n",
       "<table border=\"1\" class=\"dataframe\">\n",
       "  <thead>\n",
       "    <tr style=\"text-align: right;\">\n",
       "      <th>country</th>\n",
       "      <th>UK</th>\n",
       "      <th>USA</th>\n",
       "    </tr>\n",
       "    <tr>\n",
       "      <th>hour</th>\n",
       "      <th></th>\n",
       "      <th></th>\n",
       "    </tr>\n",
       "  </thead>\n",
       "  <tbody>\n",
       "    <tr>\n",
       "      <th>0</th>\n",
       "      <td>0.206172</td>\n",
       "      <td>0.793828</td>\n",
       "    </tr>\n",
       "    <tr>\n",
       "      <th>1</th>\n",
       "      <td>0.143384</td>\n",
       "      <td>0.856616</td>\n",
       "    </tr>\n",
       "    <tr>\n",
       "      <th>2</th>\n",
       "      <td>0.106764</td>\n",
       "      <td>0.893236</td>\n",
       "    </tr>\n",
       "    <tr>\n",
       "      <th>3</th>\n",
       "      <td>0.094393</td>\n",
       "      <td>0.905607</td>\n",
       "    </tr>\n",
       "    <tr>\n",
       "      <th>4</th>\n",
       "      <td>0.109619</td>\n",
       "      <td>0.890381</td>\n",
       "    </tr>\n",
       "  </tbody>\n",
       "</table>\n",
       "</div>"
      ],
      "text/plain": [
       "country        UK       USA\n",
       "hour                       \n",
       "0        0.206172  0.793828\n",
       "1        0.143384  0.856616\n",
       "2        0.106764  0.893236\n",
       "3        0.094393  0.905607\n",
       "4        0.109619  0.890381"
      ]
     },
     "execution_count": 433,
     "metadata": {},
     "output_type": "execute_result"
    }
   ],
   "source": [
    "pd.crosstab(df.hour, df.country, normalize='index').head()"
   ]
  },
  {
   "cell_type": "markdown",
   "metadata": {},
   "source": [
    "### Normalizing for the Entire Dataset\n",
    "Another option when normalizing is to see what proportion a single value is of the total count in a dataset. I set `margins=True`, which allows you to see the totaled amounts by row and column in the cross-tabulation in the cell below. At the bottom right is the total number of tweets in this dataset: 311,801. Each cell contains the number of tweets for the UK or USA in a particular hour. If we normalize for the entire dataset, then every cell in the entire table value will be split into proportions that all together will sum to one.\n",
    "\n",
    "Example from hour 20:\n",
    "\n",
    "$$ \\frac{7473}{311801} = 0.0239 \\,\\,  and \\,\\,\\frac{12832}{311801}= 0.0397 $$\n",
    "\n",
    "We see that 2.39% of all tweets across the whole dataset come from the UK at 8 pm UTC, and that 3.97% of all tweets from the whole dataset come from the US at the same time."
   ]
  },
  {
   "cell_type": "code",
   "execution_count": 401,
   "metadata": {},
   "outputs": [
    {
     "data": {
      "text/html": [
       "<div>\n",
       "<style scoped>\n",
       "    .dataframe tbody tr th:only-of-type {\n",
       "        vertical-align: middle;\n",
       "    }\n",
       "\n",
       "    .dataframe tbody tr th {\n",
       "        vertical-align: top;\n",
       "    }\n",
       "\n",
       "    .dataframe thead th {\n",
       "        text-align: right;\n",
       "    }\n",
       "</style>\n",
       "<table border=\"1\" class=\"dataframe\">\n",
       "  <thead>\n",
       "    <tr style=\"text-align: right;\">\n",
       "      <th>country</th>\n",
       "      <th>UK</th>\n",
       "      <th>USA</th>\n",
       "      <th>All</th>\n",
       "    </tr>\n",
       "    <tr>\n",
       "      <th>hour</th>\n",
       "      <th></th>\n",
       "      <th></th>\n",
       "      <th></th>\n",
       "    </tr>\n",
       "  </thead>\n",
       "  <tbody>\n",
       "    <tr>\n",
       "      <th>20</th>\n",
       "      <td>7473</td>\n",
       "      <td>12832</td>\n",
       "      <td>20305</td>\n",
       "    </tr>\n",
       "    <tr>\n",
       "      <th>21</th>\n",
       "      <td>8292</td>\n",
       "      <td>14089</td>\n",
       "      <td>22381</td>\n",
       "    </tr>\n",
       "    <tr>\n",
       "      <th>22</th>\n",
       "      <td>7494</td>\n",
       "      <td>14868</td>\n",
       "      <td>22362</td>\n",
       "    </tr>\n",
       "    <tr>\n",
       "      <th>23</th>\n",
       "      <td>6362</td>\n",
       "      <td>15640</td>\n",
       "      <td>22002</td>\n",
       "    </tr>\n",
       "    <tr>\n",
       "      <th>All</th>\n",
       "      <td>106983</td>\n",
       "      <td>204818</td>\n",
       "      <td>311801</td>\n",
       "    </tr>\n",
       "  </tbody>\n",
       "</table>\n",
       "</div>"
      ],
      "text/plain": [
       "country      UK     USA     All\n",
       "hour                           \n",
       "20         7473   12832   20305\n",
       "21         8292   14089   22381\n",
       "22         7494   14868   22362\n",
       "23         6362   15640   22002\n",
       "All      106983  204818  311801"
      ]
     },
     "execution_count": 401,
     "metadata": {},
     "output_type": "execute_result"
    }
   ],
   "source": [
    "pd.crosstab(df.hour, df.country, margins=True).tail()"
   ]
  },
  {
   "cell_type": "code",
   "execution_count": 432,
   "metadata": {},
   "outputs": [
    {
     "data": {
      "text/html": [
       "<div>\n",
       "<style scoped>\n",
       "    .dataframe tbody tr th:only-of-type {\n",
       "        vertical-align: middle;\n",
       "    }\n",
       "\n",
       "    .dataframe tbody tr th {\n",
       "        vertical-align: top;\n",
       "    }\n",
       "\n",
       "    .dataframe thead th {\n",
       "        text-align: right;\n",
       "    }\n",
       "</style>\n",
       "<table border=\"1\" class=\"dataframe\">\n",
       "  <thead>\n",
       "    <tr style=\"text-align: right;\">\n",
       "      <th>country</th>\n",
       "      <th>UK</th>\n",
       "      <th>USA</th>\n",
       "    </tr>\n",
       "    <tr>\n",
       "      <th>hour</th>\n",
       "      <th></th>\n",
       "      <th></th>\n",
       "    </tr>\n",
       "  </thead>\n",
       "  <tbody>\n",
       "    <tr>\n",
       "      <th>19</th>\n",
       "      <td>0.021244</td>\n",
       "      <td>0.039217</td>\n",
       "    </tr>\n",
       "    <tr>\n",
       "      <th>20</th>\n",
       "      <td>0.023967</td>\n",
       "      <td>0.041154</td>\n",
       "    </tr>\n",
       "    <tr>\n",
       "      <th>21</th>\n",
       "      <td>0.026594</td>\n",
       "      <td>0.045186</td>\n",
       "    </tr>\n",
       "    <tr>\n",
       "      <th>22</th>\n",
       "      <td>0.024035</td>\n",
       "      <td>0.047684</td>\n",
       "    </tr>\n",
       "    <tr>\n",
       "      <th>23</th>\n",
       "      <td>0.020404</td>\n",
       "      <td>0.050160</td>\n",
       "    </tr>\n",
       "  </tbody>\n",
       "</table>\n",
       "</div>"
      ],
      "text/plain": [
       "country        UK       USA\n",
       "hour                       \n",
       "19       0.021244  0.039217\n",
       "20       0.023967  0.041154\n",
       "21       0.026594  0.045186\n",
       "22       0.024035  0.047684\n",
       "23       0.020404  0.050160"
      ]
     },
     "execution_count": 432,
     "metadata": {},
     "output_type": "execute_result"
    }
   ],
   "source": [
    "# The data normalized over the entire dataset\n",
    "pd.crosstab(df.hour, df.country, normalize=True).tail()"
   ]
  },
  {
   "cell_type": "code",
   "execution_count": 431,
   "metadata": {},
   "outputs": [
    {
     "data": {
      "text/plain": [
       "<matplotlib.axes._subplots.AxesSubplot at 0x1b24b3898>"
      ]
     },
     "execution_count": 431,
     "metadata": {},
     "output_type": "execute_result"
    },
    {
     "data": {
      "image/png": "[encoded data removed]",
      "text/plain": [
       "<Figure size 864x432 with 1 Axes>"
      ]
     },
     "metadata": {
      "needs_background": "light"
     },
     "output_type": "display_data"
    }
   ],
   "source": [
    "pd.crosstab(df.hour, df.country, normalize=True).plot(kind='bar', \n",
    "                                                      figsize=(12,6),\n",
    "                                                     rot=0,\n",
    "                                                     title='Tweets Normalized Across Dataset')"
   ]
  },
  {
   "cell_type": "markdown",
   "metadata": {},
   "source": [
    "This looks a bit different from the first graph, but it's not really getting at what I'm trying to find out. What I'd like to know is what proportion of a given country's tweets are coming at any particular hour.\n",
    "\n",
    "### Normalizing by Column\n",
    "\n",
    "This last way of normalizing using `pd.crosstab` is to take each column's cells as a proportion of the column's total. For every hour, you'll see the proportion of a country's total tweets that were tweeted at that hour. Here's the cross-tabulation: "
   ]
  },
  {
   "cell_type": "code",
   "execution_count": 435,
   "metadata": {},
   "outputs": [
    {
     "data": {
      "text/html": [
       "<div>\n",
       "<style scoped>\n",
       "    .dataframe tbody tr th:only-of-type {\n",
       "        vertical-align: middle;\n",
       "    }\n",
       "\n",
       "    .dataframe tbody tr th {\n",
       "        vertical-align: top;\n",
       "    }\n",
       "\n",
       "    .dataframe thead th {\n",
       "        text-align: right;\n",
       "    }\n",
       "</style>\n",
       "<table border=\"1\" class=\"dataframe\">\n",
       "  <thead>\n",
       "    <tr style=\"text-align: right;\">\n",
       "      <th>country</th>\n",
       "      <th>UK</th>\n",
       "      <th>USA</th>\n",
       "    </tr>\n",
       "    <tr>\n",
       "      <th>hour</th>\n",
       "      <th></th>\n",
       "      <th></th>\n",
       "    </tr>\n",
       "  </thead>\n",
       "  <tbody>\n",
       "    <tr>\n",
       "      <th>0</th>\n",
       "      <td>0.032099</td>\n",
       "      <td>0.064555</td>\n",
       "    </tr>\n",
       "    <tr>\n",
       "      <th>1</th>\n",
       "      <td>0.021817</td>\n",
       "      <td>0.068080</td>\n",
       "    </tr>\n",
       "    <tr>\n",
       "      <th>2</th>\n",
       "      <td>0.013469</td>\n",
       "      <td>0.058862</td>\n",
       "    </tr>\n",
       "    <tr>\n",
       "      <th>3</th>\n",
       "      <td>0.011282</td>\n",
       "      <td>0.056538</td>\n",
       "    </tr>\n",
       "    <tr>\n",
       "      <th>4</th>\n",
       "      <td>0.011675</td>\n",
       "      <td>0.049532</td>\n",
       "    </tr>\n",
       "  </tbody>\n",
       "</table>\n",
       "</div>"
      ],
      "text/plain": [
       "country        UK       USA\n",
       "hour                       \n",
       "0        0.032099  0.064555\n",
       "1        0.021817  0.068080\n",
       "2        0.013469  0.058862\n",
       "3        0.011282  0.056538\n",
       "4        0.011675  0.049532"
      ]
     },
     "execution_count": 435,
     "metadata": {},
     "output_type": "execute_result"
    }
   ],
   "source": [
    "pd.crosstab(df.hour, df.country, normalize='columns').head()"
   ]
  },
  {
   "cell_type": "code",
   "execution_count": 439,
   "metadata": {},
   "outputs": [
    {
     "data": {
      "text/plain": [
       "<matplotlib.axes._subplots.AxesSubplot at 0x16705fb38>"
      ]
     },
     "execution_count": 439,
     "metadata": {},
     "output_type": "execute_result"
    },
    {
     "data": {
      "image/png": "[encoded data removed]",
      "text/plain": [
       "<Figure size 864x432 with 1 Axes>"
      ]
     },
     "metadata": {
      "needs_background": "light"
     },
     "output_type": "display_data"
    }
   ],
   "source": [
    "pd.crosstab(df.hour, df.country, normalize='columns').plot(kind='bar', \n",
    "                                                           figsize=(12,6),\n",
    "                                                          title='Tweets Normalized by Country',\n",
    "                                                          rot=0)"
   ]
  },
  {
   "cell_type": "markdown",
   "metadata": {},
   "source": [
    "### This is suddenly much more informative.\n",
    "Right away we can see that at 8 am, the UK has an enormous peak of tweeting, one that is much higher than any American peak. Moreover, we can see that a second peak appears at 9 pm. This is interesting because it's a different pattern than the American one, which has a single peak at 11 pm UTC. \n",
    "\n",
    "More interesting still, British and American tweeting proportions stay nearly even with each other in proportion from 2 pm to 11 pm UTC. Looking at this graph, there's a very clear divide between countries in tweet count before noon. After 1 pm, however, it's difficult to differentiate which country is tweeting more. If time were the only predicting factor, we could throw out any data from 13:00 to 23:00 UTC as useless for predicting which country the tweeter hails from. From midnight through noon UTC, however, it looks like a pretty good predictor.\n",
    "\n",
    "One other interesting visualization is the heatmap below. Darker colors correspond to a higher proportion of tweets. You can see how the bands for the early hours differ between countries and start to look similar after noon. It's also very apparent at what the time the peak in the UK is and how much larger (darker) it is than any other band in the graph."
   ]
  },
  {
   "cell_type": "code",
   "execution_count": 441,
   "metadata": {},
   "outputs": [
    {
     "data": {
      "text/plain": [
       "<matplotlib.axes._subplots.AxesSubplot at 0x1b0f24128>"
      ]
     },
     "execution_count": 441,
     "metadata": {},
     "output_type": "execute_result"
    },
    {
     "data": {
      "image/png": "[encoded data removed]",
      "text/plain": [
       "<Figure size 576x576 with 1 Axes>"
      ]
     },
     "metadata": {
      "needs_background": "light"
     },
     "output_type": "display_data"
    }
   ],
   "source": [
    "plt.figure(figsize=(8,8))\n",
    "sns.heatmap(pd.crosstab(df.hour, df.country, normalize='columns'),\n",
    "            cmap=\"YlGnBu\", cbar=False)"
   ]
  },
  {
   "cell_type": "markdown",
   "metadata": {},
   "source": [
    "The graphs above were helpful for teasing out some interesting information about the data and setting a direction for further exploration. I may see if language in the tweets from midnight to noon correlates at all with time and then test tweets from later hours to see if they follow the same pattern. There are a lot of directions to take with modeling this data.\n",
    "\n",
    "### Scaling for Data Pre-processing\n",
    "\n",
    "The next step is getting the data scaled properly for machine learning. The UK data, with its two peaks, doesn't follow a normal distribution, and so some data transformation will be required. I may be able to skip this step (or make it more accurate) by discarding data from the right half of the graph for training purposes. My plan is to try modeling it both ways and see which is more accurate.\n",
    "\n",
    "The standard for scaling is to use Sci-kit Learn's preprocessing module. I'll do that and then take a look at the graph to see if there's any new interesting information that can be gleaned."
   ]
  },
  {
   "cell_type": "code",
   "execution_count": 364,
   "metadata": {},
   "outputs": [],
   "source": [
    "from sklearn import preprocessing"
   ]
  },
  {
   "cell_type": "code",
   "execution_count": 365,
   "metadata": {},
   "outputs": [],
   "source": [
    "min_max_scaler = preprocessing.MinMaxScaler()"
   ]
  },
  {
   "cell_type": "code",
   "execution_count": 366,
   "metadata": {},
   "outputs": [],
   "source": [
    "x_scaled = min_max_scaler.fit_transform(tab)"
   ]
  },
  {
   "cell_type": "code",
   "execution_count": 370,
   "metadata": {},
   "outputs": [],
   "source": [
    "normalized = pd.DataFrame(x_scaled, columns=['UK', 'USA'])"
   ]
  },
  {
   "cell_type": "code",
   "execution_count": 387,
   "metadata": {},
   "outputs": [
    {
     "data": {
      "text/plain": [
       "<matplotlib.axes._subplots.AxesSubplot at 0x1c4c38780>"
      ]
     },
     "execution_count": 387,
     "metadata": {},
     "output_type": "execute_result"
    },
    {
     "data": {
      "image/png": "[encoded data removed]",
      "text/plain": [
       "<Figure size 864x432 with 1 Axes>"
      ]
     },
     "metadata": {
      "needs_background": "light"
     },
     "output_type": "display_data"
    }
   ],
   "source": [
    "normalized.plot(kind='bar', figsize=(12,6), title='Re-Scaled Data of Tweets by Hour', rot=0)"
   ]
  },
  {
   "cell_type": "markdown",
   "metadata": {},
   "source": [
    "### A last look at the re-scaled dataset\n",
    "Looking at the heatmap of the pre-processed dataset shows something interesting: the data from the two countries is clearly differentiated after 1 pm. This suggests that it won't just be noise in the training process."
   ]
  },
  {
   "cell_type": "code",
   "execution_count": 444,
   "metadata": {},
   "outputs": [
    {
     "data": {
      "text/plain": [
       "<matplotlib.axes._subplots.AxesSubplot at 0x1b0df4908>"
      ]
     },
     "execution_count": 444,
     "metadata": {},
     "output_type": "execute_result"
    },
    {
     "data": {
      "image/png": "[encoded data removed]",
      "text/plain": [
       "<Figure size 576x576 with 1 Axes>"
      ]
     },
     "metadata": {
      "needs_background": "light"
     },
     "output_type": "display_data"
    }
   ],
   "source": [
    "plt.figure(figsize=(8,8))\n",
    "sns.heatmap(normalized,\n",
    "            cmap=\"YlGnBu\", cbar=False)"
   ]
  },
  {
   "cell_type": "code",
   "execution_count": null,
   "metadata": {},
   "outputs": [],
   "source": []
  }
 ],
 "metadata": {
  "kernelspec": {
   "display_name": "Python 3",
   "language": "python",
   "name": "python3"
  },
  "language_info": {
   "codemirror_mode": {
    "name": "ipython",
    "version": 3
   },
   "file_extension": ".py",
   "mimetype": "text/x-python",
   "name": "python",
   "nbconvert_exporter": "python",
   "pygments_lexer": "ipython3",
   "version": "3.6.8"
  }
 },
 "nbformat": 4,
 "nbformat_minor": 4
}
