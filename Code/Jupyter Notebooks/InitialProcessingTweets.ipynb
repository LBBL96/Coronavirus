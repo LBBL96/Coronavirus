{
 "cells": [
  {
   "cell_type": "code",
   "execution_count": 101,
   "metadata": {},
   "outputs": [],
   "source": [
    "import nltk\n",
    "from nltk.corpus import stopwords\n",
    "from nltk.stem import PorterStemmer\n",
    "from string import punctuation\n",
    "import matplotlib.pyplot as plt"
   ]
  },
  {
   "cell_type": "code",
   "execution_count": 7,
   "metadata": {},
   "outputs": [],
   "source": [
    "# File containing text I've already cleaned of URLs, hashtags, and @ mentions\n",
    "file = \"../Coronavirus/clean_text.txt\""
   ]
  },
  {
   "cell_type": "markdown",
   "metadata": {},
   "source": [
    "### Quick look at string functions\n",
    "Using a sample string containing punctuation, I'll look at how it reacts to various methods. My goal here is to return all words cleaned of punctuation."
   ]
  },
  {
   "cell_type": "code",
   "execution_count": 54,
   "metadata": {},
   "outputs": [
    {
     "data": {
      "text/plain": [
       "False"
      ]
     },
     "execution_count": 54,
     "metadata": {},
     "output_type": "execute_result"
    }
   ],
   "source": [
    "s = 'sample string, has \"534\" stuff to clean!'\n",
    "\n",
    "# `False` means the string contains non-alphanumeric words and punctuation\n",
    "s.isalnum()"
   ]
  },
  {
   "cell_type": "code",
   "execution_count": 79,
   "metadata": {},
   "outputs": [
    {
     "data": {
      "text/plain": [
       "['sample', 'string,', 'has', '\"534\"', 'stuff', 'to', 'clean!']"
      ]
     },
     "execution_count": 79,
     "metadata": {},
     "output_type": "execute_result"
    }
   ],
   "source": [
    "# If we split the string, three of the words have punctuation attached\n",
    "s.split()"
   ]
  },
  {
   "cell_type": "code",
   "execution_count": 82,
   "metadata": {},
   "outputs": [
    {
     "data": {
      "text/plain": [
       "['sample', 'has', 'stuff', 'to']"
      ]
     },
     "execution_count": 82,
     "metadata": {},
     "output_type": "execute_result"
    }
   ],
   "source": [
    "# Splitting and returning only alphanumeric words eliminates the words \n",
    "# with punctuation, and this isn't what I want to do.\n",
    "[word for word in s.split() if word.isalnum()]"
   ]
  },
  {
   "cell_type": "markdown",
   "metadata": {},
   "source": [
    "### Stripping punctuation from words in a string\n",
    "This is a multi-step process:\n",
    "\n",
    "    1) use list comprehension to strip all punctuation from the string\n",
    "    2) join the list back into a string\n",
    "    3) split the string into separate words\n",
    "\n",
    "All of this can be accomplished in a single line after the import statement."
   ]
  },
  {
   "cell_type": "code",
   "execution_count": 86,
   "metadata": {},
   "outputs": [
    {
     "data": {
      "text/plain": [
       "['sample', 'string', 'has', '534', 'stuff', 'to', 'clean']"
      ]
     },
     "execution_count": 86,
     "metadata": {},
     "output_type": "execute_result"
    }
   ],
   "source": [
    "import string\n",
    "\n",
    "''.join(char for char in s if char not in string.punctuation).split()"
   ]
  },
  {
   "cell_type": "markdown",
   "metadata": {},
   "source": [
    "### Word Processing\n",
    "I'll read in the text file, then tokenize the text, excluding stopwords (words that are so common that their meaning isn't always useful), and punctuation. I'll process the same text later, leaving in stopwords. This is just a quicker way to train because it removes more words from the vocabulary that has to be trained."
   ]
  },
  {
   "cell_type": "code",
   "execution_count": 100,
   "metadata": {},
   "outputs": [
    {
     "data": {
      "text/plain": [
       "['i', 'me', 'my', 'myself', 'we', 'our', 'ours', 'ourselves', 'you', \"you're\"]"
      ]
     },
     "execution_count": 100,
     "metadata": {},
     "output_type": "execute_result"
    }
   ],
   "source": [
    "# Creating a global variable for this notebook that includes not just\n",
    "# stopwords from NLTK, but also punctuation from the string library\n",
    "stopwords = stopwords.words('english')\n",
    "stopwords[:10]"
   ]
  },
  {
   "cell_type": "code",
   "execution_count": 19,
   "metadata": {},
   "outputs": [],
   "source": [
    "def read_text(file):\n",
    "    \"\"\"\n",
    "    Uses Python to open text file and return text object.\n",
    "    \"\"\"\n",
    "    with open(file, 'r') as infile:\n",
    "        text = infile.read()\n",
    "        return text"
   ]
  },
  {
   "cell_type": "code",
   "execution_count": 88,
   "metadata": {},
   "outputs": [],
   "source": [
    "# Initial processing\n",
    "def process_text(text):\n",
    "    \"\"\"\n",
    "    Strips txt file of stopwords and returns a list of tokenized\n",
    "    words containing only words that are alphanumeric.\n",
    "    Assumes `string` and `nltk` have been imported, as well as \n",
    "    `from nltk.corpus import stopwords`.\n",
    "    \"\"\" \n",
    "    # Using NLTK\n",
    "    tokens = nltk.word_tokenize(text)\n",
    "    \n",
    "    # Remove non-alphanumeric words \n",
    "    words = [word for word in tokens if word.isalnum()]\n",
    "    \n",
    "    # Remove punctuation\n",
    "    words = [word for word in words if not word in string.punctuation]\n",
    "    \n",
    "    # Create list of words that excludes stopwords\n",
    "    words = [word for word in words if not word in stopwords]\n",
    "    \n",
    "    return words"
   ]
  },
  {
   "cell_type": "code",
   "execution_count": 21,
   "metadata": {},
   "outputs": [],
   "source": [
    "text = read_text(file)"
   ]
  },
  {
   "cell_type": "code",
   "execution_count": 22,
   "metadata": {},
   "outputs": [
    {
     "data": {
      "text/plain": [
       "'to each and every person celebrating this news, saying “karma” or whatever other snide comment you’re using, fuck y… and yet asymptomati… coronavirus is one thing. we clearly can’t be closing down golf courses though. with down, this also failed to be sent out earlier this afternoon (attachement to the letter) i don’t understand why famous people who “ feel like they’re getting a cold “ can automatically get tested for coro… i want to say this again because it’s bonkers. dr. ho had developed ant'"
      ]
     },
     "execution_count": 22,
     "metadata": {},
     "output_type": "execute_result"
    }
   ],
   "source": [
    "# Checking \n",
    "text[:500]"
   ]
  },
  {
   "cell_type": "code",
   "execution_count": 89,
   "metadata": {},
   "outputs": [],
   "source": [
    "# Processing text\n",
    "tokenized = process_text(text)"
   ]
  },
  {
   "cell_type": "code",
   "execution_count": 91,
   "metadata": {},
   "outputs": [
    {
     "name": "stdout",
     "output_type": "stream",
     "text": [
      "['every', 'person', 'celebrating', 'news', 'saying', 'karma', 'whatever', 'snide', 'comment', 'using', 'fuck', 'yet', 'coronavirus', 'one', 'thing', 'clearly', 'closing', 'golf', 'courses', 'though', 'also', 'failed', 'sent', 'earlier', 'afternoon', 'attachement', 'letter', 'understand', 'famous', 'people', 'feel', 'like', 'getting', 'cold', 'automatically', 'get', 'tested', 'want', 'say', 'bonkers', 'ho', 'developed', 'antibodies', 'could', 'used', 'breaking', 'nfl', 'news', 'trump', 'says']\n"
     ]
    }
   ],
   "source": [
    "# Note that this has also removed partial words like 'asymptomati...' that \n",
    "# contain meaning\n",
    "print(tokenized[:50])"
   ]
  },
  {
   "cell_type": "markdown",
   "metadata": {},
   "source": [
    "### Quick graphing"
   ]
  },
  {
   "cell_type": "code",
   "execution_count": 103,
   "metadata": {},
   "outputs": [],
   "source": [
    "# Use FreqDist to count top 10 words\n",
    "frequencies = nltk.FreqDist(tokenized)"
   ]
  },
  {
   "cell_type": "code",
   "execution_count": 104,
   "metadata": {},
   "outputs": [
    {
     "data": {
      "image/png": "[encoded data removed]",
      "text/plain": [
       "<Figure size 432x288 with 1 Axes>"
      ]
     },
     "metadata": {
      "needs_background": "light"
     },
     "output_type": "display_data"
    },
    {
     "data": {
      "text/plain": [
       "<matplotlib.axes._subplots.AxesSubplot at 0x1a28e53b00>"
      ]
     },
     "execution_count": 104,
     "metadata": {},
     "output_type": "execute_result"
    }
   ],
   "source": [
    "# It's evident from this that 'coronavirus' is the overwhelming #1 word --\n",
    "# not a surprise since that the keyword I used to pull these tweets\n",
    "frequencies.plot(10)"
   ]
  },
  {
   "cell_type": "code",
   "execution_count": 121,
   "metadata": {},
   "outputs": [
    {
     "name": "stdout",
     "output_type": "stream",
     "text": [
      "2215\n"
     ]
    }
   ],
   "source": [
    "# This one is pretty popular\n",
    "print(frequencies['fuck'])"
   ]
  },
  {
   "cell_type": "markdown",
   "metadata": {},
   "source": [
    "### N-grams\n",
    "How often do two or more words occur together?"
   ]
  },
  {
   "cell_type": "code",
   "execution_count": 106,
   "metadata": {},
   "outputs": [
    {
     "data": {
      "text/plain": [
       "[(('coronavirus', 'pandemic'), 1823),\n",
       " (('positive', 'coronavirus'), 1491),\n",
       " (('coronavirus', 'outbreak'), 1229),\n",
       " (('amid', 'coronavirus'), 1159),\n",
       " (('coronavirus', 'crisis'), 1108),\n",
       " (('tests', 'positive'), 1084),\n",
       " (('new', 'york'), 1010),\n",
       " (('stay', 'home'), 961),\n",
       " (('due', 'coronavirus'), 924),\n",
       " (('coronavirus', 'cases'), 870)]"
      ]
     },
     "execution_count": 106,
     "metadata": {},
     "output_type": "execute_result"
    }
   ],
   "source": [
    "# Top 10 group of two words occurring together\n",
    "# New York was getting a lot of attention at the time these tweets were gathered\n",
    "ngrams = nltk.ngrams(tokenized, 2)\n",
    "nltk.FreqDist(ngrams).most_common(10)"
   ]
  },
  {
   "cell_type": "code",
   "execution_count": 107,
   "metadata": {},
   "outputs": [
    {
     "data": {
      "text/plain": [
       "[(('tests', 'positive', 'coronavirus'), 834),\n",
       " (('tested', 'positive', 'coronavirus'), 402),\n",
       " (('amid', 'coronavirus', 'pandemic'), 329),\n",
       " (('families', 'first', 'coronavirus'), 267),\n",
       " (('office', 'tests', 'positive'), 264),\n",
       " (('first', 'coronavirus', 'response'), 252),\n",
       " (('pence', 'office', 'tests'), 252),\n",
       " (('coronavirus', 'response', 'act'), 248),\n",
       " (('member', 'vice', 'president'), 227),\n",
       " (('vice', 'president', 'mike'), 222)]"
      ]
     },
     "execution_count": 107,
     "metadata": {},
     "output_type": "execute_result"
    }
   ],
   "source": [
    "# Top 10 group of three words occurring together\n",
    "ngrams = nltk.ngrams(tokenized, 3)\n",
    "nltk.FreqDist(ngrams).most_common(10)"
   ]
  },
  {
   "cell_type": "markdown",
   "metadata": {},
   "source": [
    "### Word Stems\n",
    "Taking a look at word stems reduces length of vocabulary to be trained. It also can provide a better sense of the frequency of words, as it removes endings indicating number and tense and makes them all uniform.\n",
    "\n",
    "For example, 'tests', 'test', and 'tested' all return as 'test'."
   ]
  },
  {
   "cell_type": "code",
   "execution_count": 108,
   "metadata": {},
   "outputs": [
    {
     "data": {
      "image/png": "[encoded data removed]",
      "text/plain": [
       "<Figure size 432x288 with 1 Axes>"
      ]
     },
     "metadata": {
      "needs_background": "light"
     },
     "output_type": "display_data"
    },
    {
     "data": {
      "text/plain": [
       "<matplotlib.axes._subplots.AxesSubplot at 0x1a3617f7f0>"
      ]
     },
     "execution_count": 108,
     "metadata": {},
     "output_type": "execute_result"
    }
   ],
   "source": [
    "# create stemmer object\n",
    "stemmer = PorterStemmer()\n",
    "\n",
    "# make a list of word stems from the tokenized words\n",
    "stems = [stemmer.stem(word) for word in tokenized]\n",
    "\n",
    "# look at frequency of stems and plot the top 10\n",
    "frequencies = nltk.FreqDist(stems)\n",
    "frequencies.plot(10)\n",
    "\n",
    "# This list is slightly different than the previous one; 'test', for example, is\n",
    "# now the #3 word instead of 'trump'"
   ]
  },
  {
   "cell_type": "code",
   "execution_count": 126,
   "metadata": {},
   "outputs": [
    {
     "data": {
      "text/plain": [
       "[('coronaviru', 43150),\n",
       " ('peopl', 7362),\n",
       " ('test', 6667),\n",
       " ('trump', 6667),\n",
       " ('via', 6059),\n",
       " ('get', 5932),\n",
       " ('case', 5327),\n",
       " ('new', 5104),\n",
       " ('us', 4961),\n",
       " ('go', 4694),\n",
       " ('like', 4633),\n",
       " ('time', 4523),\n",
       " ('amp', 4501),\n",
       " ('need', 4370),\n",
       " ('pandem', 4272),\n",
       " ('say', 4227),\n",
       " ('help', 3951),\n",
       " ('one', 3849),\n",
       " ('news', 3784),\n",
       " ('home', 3325),\n",
       " ('work', 3300),\n",
       " ('know', 3151),\n",
       " ('day', 3092),\n",
       " ('take', 3024),\n",
       " ('make', 3018)]"
      ]
     },
     "execution_count": 126,
     "metadata": {},
     "output_type": "execute_result"
    }
   ],
   "source": [
    "# What are the top 25?\n",
    "frequencies.most_common(25)\n",
    "\n",
    "# One thing I'm noticing is 'amp' -- the way & is translated; \n",
    "# this needs to be added to the stopword list for my purposes"
   ]
  },
  {
   "cell_type": "markdown",
   "metadata": {},
   "source": [
    "### Investigating individual words\n",
    "It can be interesting and informative to see where and when words appear. If the distribution is not uniform across time, it may point to a particular event happening. \n",
    "\n",
    "I'll make a Text object from the tokenized list of words and run a few methods to look at what I've got."
   ]
  },
  {
   "cell_type": "code",
   "execution_count": 110,
   "metadata": {},
   "outputs": [],
   "source": [
    "text = nltk.Text(tokenized)"
   ]
  },
  {
   "cell_type": "code",
   "execution_count": 112,
   "metadata": {},
   "outputs": [
    {
     "data": {
      "image/png": "[encoded data removed]",
      "text/plain": [
       "<Figure size 432x288 with 1 Axes>"
      ]
     },
     "metadata": {
      "needs_background": "light"
     },
     "output_type": "display_data"
    }
   ],
   "source": [
    "# Plotting three of the top 10 words\n",
    "text.dispersion_plot(['trump', 'new', 'case'])\n",
    "\n",
    "# These are all consistent across time and therefore not informative"
   ]
  },
  {
   "cell_type": "markdown",
   "metadata": {},
   "source": [
    "This is all very basic and just a way to look quickly at word distribution. For modeling, I'll use BERT, which doesn't require the same kind of tokenization."
   ]
  },
  {
   "cell_type": "code",
   "execution_count": null,
   "metadata": {},
   "outputs": [],
   "source": []
  }
 ],
 "metadata": {
  "kernelspec": {
   "display_name": "Python 3",
   "language": "python",
   "name": "python3"
  },
  "language_info": {
   "codemirror_mode": {
    "name": "ipython",
    "version": 3
   },
   "file_extension": ".py",
   "mimetype": "text/x-python",
   "name": "python",
   "nbconvert_exporter": "python",
   "pygments_lexer": "ipython3",
   "version": "3.6.8"
  }
 },
 "nbformat": 4,
 "nbformat_minor": 2
}
