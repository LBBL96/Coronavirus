{
 "cells": [
  {
   "cell_type": "markdown",
   "metadata": {},
   "source": [
    "# Quick Exploratory Data Analysis"
   ]
  },
  {
   "cell_type": "code",
   "execution_count": 21,
   "metadata": {},
   "outputs": [],
   "source": [
    "import numpy as np\n",
    "import pandas as pd"
   ]
  },
  {
   "cell_type": "markdown",
   "metadata": {},
   "source": [
    "# Importing Data\n",
    "From my database of 10,747,549 tweets obtained with keywords \"coronavirus\" or \"COVID-19\", I'm working with the first 200,000 to make exploratory data analysis quick and easy."
   ]
  },
  {
   "cell_type": "code",
   "execution_count": 27,
   "metadata": {},
   "outputs": [
    {
     "name": "stderr",
     "output_type": "stream",
     "text": [
      "b'Skipping line 107: expected 2 fields, saw 4\\nSkipping line 136: expected 2 fields, saw 3\\nSkipping line 258: expected 2 fields, saw 5\\nSkipping line 310: expected 2 fields, saw 3\\nSkipping line 396: expected 2 fields, saw 3\\nSkipping line 500: expected 2 fields, saw 3\\nSkipping line 682: expected 2 fields, saw 3\\nSkipping line 683: expected 2 fields, saw 3\\nSkipping line 751: expected 2 fields, saw 3\\nSkipping line 827: expected 2 fields, saw 3\\nSkipping line 960: expected 2 fields, saw 3\\nSkipping line 1074: expected 2 fields, saw 4\\nSkipping line 1080: expected 2 fields, saw 3\\nSkipping line 1369: expected 2 fields, saw 4\\nSkipping line 1379: expected 2 fields, saw 3\\nSkipping line 1655: expected 2 fields, saw 3\\nSkipping line 1811: expected 2 fields, saw 5\\nSkipping line 1957: expected 2 fields, saw 3\\nSkipping line 1978: expected 2 fields, saw 3\\nSkipping line 2188: expected 2 fields, saw 3\\nSkipping line 2191: expected 2 fields, saw 4\\nSkipping line 2221: expected 2 fields, saw 3\\nSkipping line 2282: expected 2 fields, saw 3\\nSkipping line 2635: expected 2 fields, saw 3\\nSkipping line 2701: expected 2 fields, saw 3\\nSkipping line 3105: expected 2 fields, saw 4\\nSkipping line 3114: expected 2 fields, saw 3\\nSkipping line 3245: expected 2 fields, saw 3\\nSkipping line 3259: expected 2 fields, saw 3\\nSkipping line 3353: expected 2 fields, saw 3\\nSkipping line 3446: expected 2 fields, saw 3\\nSkipping line 3570: expected 2 fields, saw 5\\nSkipping line 3637: expected 2 fields, saw 5\\nSkipping line 3811: expected 2 fields, saw 3\\nSkipping line 4022: expected 2 fields, saw 4\\nSkipping line 4060: expected 2 fields, saw 3\\nSkipping line 4295: expected 2 fields, saw 5\\nSkipping line 4316: expected 2 fields, saw 3\\nSkipping line 4424: expected 2 fields, saw 3\\nSkipping line 4597: expected 2 fields, saw 3\\nSkipping line 4653: expected 2 fields, saw 3\\nSkipping line 5104: expected 2 fields, saw 4\\nSkipping line 5110: expected 2 fields, saw 4\\nSkipping line 5540: expected 2 fields, saw 3\\nSkipping line 5542: expected 2 fields, saw 4\\nSkipping line 6009: expected 2 fields, saw 3\\nSkipping line 6129: expected 2 fields, saw 3\\nSkipping line 6146: expected 2 fields, saw 3\\nSkipping line 6336: expected 2 fields, saw 3\\nSkipping line 6412: expected 2 fields, saw 4\\nSkipping line 6485: expected 2 fields, saw 3\\nSkipping line 6573: expected 2 fields, saw 3\\nSkipping line 6588: expected 2 fields, saw 3\\nSkipping line 6709: expected 2 fields, saw 5\\nSkipping line 6762: expected 2 fields, saw 3\\nSkipping line 6856: expected 2 fields, saw 3\\nSkipping line 7045: expected 2 fields, saw 3\\nSkipping line 7089: expected 2 fields, saw 3\\nSkipping line 7156: expected 2 fields, saw 3\\nSkipping line 7170: expected 2 fields, saw 4\\nSkipping line 7228: expected 2 fields, saw 3\\nSkipping line 7247: expected 2 fields, saw 3\\nSkipping line 7355: expected 2 fields, saw 3\\nSkipping line 7374: expected 2 fields, saw 3\\nSkipping line 7446: expected 2 fields, saw 3\\nSkipping line 7886: expected 2 fields, saw 3\\nSkipping line 7939: expected 2 fields, saw 3\\nSkipping line 7976: expected 2 fields, saw 5\\nSkipping line 8135: expected 2 fields, saw 4\\nSkipping line 8174: expected 2 fields, saw 4\\nSkipping line 8229: expected 2 fields, saw 3\\nSkipping line 8315: expected 2 fields, saw 3\\nSkipping line 8467: expected 2 fields, saw 3\\nSkipping line 8651: expected 2 fields, saw 4\\nSkipping line 8848: expected 2 fields, saw 3\\nSkipping line 8869: expected 2 fields, saw 3\\nSkipping line 8923: expected 2 fields, saw 3\\nSkipping line 9133: expected 2 fields, saw 3\\nSkipping line 9143: expected 2 fields, saw 3\\nSkipping line 9208: expected 2 fields, saw 3\\nSkipping line 9221: expected 2 fields, saw 3\\nSkipping line 9354: expected 2 fields, saw 3\\nSkipping line 9449: expected 2 fields, saw 3\\nSkipping line 9560: expected 2 fields, saw 3\\nSkipping line 9589: expected 2 fields, saw 6\\nSkipping line 9648: expected 2 fields, saw 3\\nSkipping line 9656: expected 2 fields, saw 3\\nSkipping line 9657: expected 2 fields, saw 4\\nSkipping line 9715: expected 2 fields, saw 6\\nSkipping line 10020: expected 2 fields, saw 3\\nSkipping line 10077: expected 2 fields, saw 3\\nSkipping line 10148: expected 2 fields, saw 3\\nSkipping line 10284: expected 2 fields, saw 3\\nSkipping line 10363: expected 2 fields, saw 3\\nSkipping line 10494: expected 2 fields, saw 4\\nSkipping line 10631: expected 2 fields, saw 3\\nSkipping line 10633: expected 2 fields, saw 3\\nSkipping line 10713: expected 2 fields, saw 3\\nSkipping line 10967: expected 2 fields, saw 4\\nSkipping line 11081: expected 2 fields, saw 3\\nSkipping line 11336: expected 2 fields, saw 4\\nSkipping line 11531: expected 2 fields, saw 3\\nSkipping line 11539: expected 2 fields, saw 3\\nSkipping line 11614: expected 2 fields, saw 4\\nSkipping line 11668: expected 2 fields, saw 3\\nSkipping line 11802: expected 2 fields, saw 3\\nSkipping line 11824: expected 2 fields, saw 3\\nSkipping line 11842: expected 2 fields, saw 5\\nSkipping line 12122: expected 2 fields, saw 3\\nSkipping line 12182: expected 2 fields, saw 3\\nSkipping line 12183: expected 2 fields, saw 3\\nSkipping line 12272: expected 2 fields, saw 3\\nSkipping line 12384: expected 2 fields, saw 3\\nSkipping line 12536: expected 2 fields, saw 3\\nSkipping line 12711: expected 2 fields, saw 3\\nSkipping line 12726: expected 2 fields, saw 3\\nSkipping line 12950: expected 2 fields, saw 3\\nSkipping line 12993: expected 2 fields, saw 3\\nSkipping line 13114: expected 2 fields, saw 4\\nSkipping line 13252: expected 2 fields, saw 3\\nSkipping line 13569: expected 2 fields, saw 4\\nSkipping line 13698: expected 2 fields, saw 3\\nSkipping line 13746: expected 2 fields, saw 4\\nSkipping line 13816: expected 2 fields, saw 3\\nSkipping line 14007: expected 2 fields, saw 3\\nSkipping line 14036: expected 2 fields, saw 3\\nSkipping line 14094: expected 2 fields, saw 6\\nSkipping line 14151: expected 2 fields, saw 3\\nSkipping line 14242: expected 2 fields, saw 3\\nSkipping line 14254: expected 2 fields, saw 3\\nSkipping line 14275: expected 2 fields, saw 3\\nSkipping line 14311: expected 2 fields, saw 3\\nSkipping line 14360: expected 2 fields, saw 3\\nSkipping line 14516: expected 2 fields, saw 3\\nSkipping line 14520: expected 2 fields, saw 4\\nSkipping line 14630: expected 2 fields, saw 4\\nSkipping line 14664: expected 2 fields, saw 3\\nSkipping line 14685: expected 2 fields, saw 5\\nSkipping line 14844: expected 2 fields, saw 4\\nSkipping line 14898: expected 2 fields, saw 5\\nSkipping line 15031: expected 2 fields, saw 3\\nSkipping line 15111: expected 2 fields, saw 3\\nSkipping line 15127: expected 2 fields, saw 3\\nSkipping line 15372: expected 2 fields, saw 3\\nSkipping line 15396: expected 2 fields, saw 3\\nSkipping line 15406: expected 2 fields, saw 4\\nSkipping line 15789: expected 2 fields, saw 3\\nSkipping line 15804: expected 2 fields, saw 3\\nSkipping line 15930: expected 2 fields, saw 3\\nSkipping line 16001: expected 2 fields, saw 3\\nSkipping line 16014: expected 2 fields, saw 3\\nSkipping line 16104: expected 2 fields, saw 4\\nSkipping line 16203: expected 2 fields, saw 3\\nSkipping line 16266: expected 2 fields, saw 3\\nSkipping line 16682: expected 2 fields, saw 3\\nSkipping line 16781: expected 2 fields, saw 3\\nSkipping line 16896: expected 2 fields, saw 3\\nSkipping line 16907: expected 2 fields, saw 3\\nSkipping line 17106: expected 2 fields, saw 3\\nSkipping line 17128: expected 2 fields, saw 3\\nSkipping line 17339: expected 2 fields, saw 3\\nSkipping line 17345: expected 2 fields, saw 4\\nSkipping line 17564: expected 2 fields, saw 3\\nSkipping line 17762: expected 2 fields, saw 3\\nSkipping line 17797: expected 2 fields, saw 3\\nSkipping line 18044: expected 2 fields, saw 3\\nSkipping line 18220: expected 2 fields, saw 3\\nSkipping line 18312: expected 2 fields, saw 3\\nSkipping line 18337: expected 2 fields, saw 3\\nSkipping line 18799: expected 2 fields, saw 3\\nSkipping line 18828: expected 2 fields, saw 4\\nSkipping line 18907: expected 2 fields, saw 3\\nSkipping line 18992: expected 2 fields, saw 3\\nSkipping line 19020: expected 2 fields, saw 3\\nSkipping line 19038: expected 2 fields, saw 3\\nSkipping line 19096: expected 2 fields, saw 4\\nSkipping line 19190: expected 2 fields, saw 4\\nSkipping line 19217: expected 2 fields, saw 4\\nSkipping line 19245: expected 2 fields, saw 3\\nSkipping line 19509: expected 2 fields, saw 3\\nSkipping line 19604: expected 2 fields, saw 3\\nSkipping line 19710: expected 2 fields, saw 3\\nSkipping line 19751: expected 2 fields, saw 3\\nSkipping line 20081: expected 2 fields, saw 3\\nSkipping line 20358: expected 2 fields, saw 3\\nSkipping line 20436: expected 2 fields, saw 4\\nSkipping line 20668: expected 2 fields, saw 6\\nSkipping line 20921: expected 2 fields, saw 3\\nSkipping line 20967: expected 2 fields, saw 3\\nSkipping line 21016: expected 2 fields, saw 3\\nSkipping line 21185: expected 2 fields, saw 3\\nSkipping line 21195: expected 2 fields, saw 3\\nSkipping line 21259: expected 2 fields, saw 3\\nSkipping line 21354: expected 2 fields, saw 8\\nSkipping line 21389: expected 2 fields, saw 4\\nSkipping line 21547: expected 2 fields, saw 3\\nSkipping line 21620: expected 2 fields, saw 3\\nSkipping line 21622: expected 2 fields, saw 4\\nSkipping line 21749: expected 2 fields, saw 3\\nSkipping line 21847: expected 2 fields, saw 3\\nSkipping line 22043: expected 2 fields, saw 3\\nSkipping line 22195: expected 2 fields, saw 3\\nSkipping line 22223: expected 2 fields, saw 3\\nSkipping line 22275: expected 2 fields, saw 3\\nSkipping line 22320: expected 2 fields, saw 3\\nSkipping line 22346: expected 2 fields, saw 3\\nSkipping line 22347: expected 2 fields, saw 3\\nSkipping line 22390: expected 2 fields, saw 4\\nSkipping line 22445: expected 2 fields, saw 3\\nSkipping line 22536: expected 2 fields, saw 3\\nSkipping line 22869: expected 2 fields, saw 3\\nSkipping line 22975: expected 2 fields, saw 3\\nSkipping line 23027: expected 2 fields, saw 3\\nSkipping line 23045: expected 2 fields, saw 3\\nSkipping line 23079: expected 2 fields, saw 6\\nSkipping line 23123: expected 2 fields, saw 3\\nSkipping line 23199: expected 2 fields, saw 3\\nSkipping line 23205: expected 2 fields, saw 4\\nSkipping line 23397: expected 2 fields, saw 3\\nSkipping line 23422: expected 2 fields, saw 3\\nSkipping line 23428: expected 2 fields, saw 3\\nSkipping line 23438: expected 2 fields, saw 4\\nSkipping line 23563: expected 2 fields, saw 3\\nSkipping line 23628: expected 2 fields, saw 6\\nSkipping line 23801: expected 2 fields, saw 3\\nSkipping line 23888: expected 2 fields, saw 3\\nSkipping line 24025: expected 2 fields, saw 4\\nSkipping line 24205: expected 2 fields, saw 3\\nSkipping line 24209: expected 2 fields, saw 3\\nSkipping line 24225: expected 2 fields, saw 3\\nSkipping line 24301: expected 2 fields, saw 5\\nSkipping line 24540: expected 2 fields, saw 3\\nSkipping line 24546: expected 2 fields, saw 3\\nSkipping line 24741: expected 2 fields, saw 3\\nSkipping line 24805: expected 2 fields, saw 3\\nSkipping line 24835: expected 2 fields, saw 3\\nSkipping line 24862: expected 2 fields, saw 4\\nSkipping line 24944: expected 2 fields, saw 4\\nSkipping line 24979: expected 2 fields, saw 4\\nSkipping line 25000: expected 2 fields, saw 3\\nSkipping line 25111: expected 2 fields, saw 3\\nSkipping line 25164: expected 2 fields, saw 3\\nSkipping line 25217: expected 2 fields, saw 3\\nSkipping line 25437: expected 2 fields, saw 6\\nSkipping line 25450: expected 2 fields, saw 3\\nSkipping line 25541: expected 2 fields, saw 3\\nSkipping line 25893: expected 2 fields, saw 3\\nSkipping line 25899: expected 2 fields, saw 3\\nSkipping line 25909: expected 2 fields, saw 3\\nSkipping line 25926: expected 2 fields, saw 4\\nSkipping line 26039: expected 2 fields, saw 3\\nSkipping line 26040: expected 2 fields, saw 3\\nSkipping line 26206: expected 2 fields, saw 5\\nSkipping line 26432: expected 2 fields, saw 4\\nSkipping line 26580: expected 2 fields, saw 3\\nSkipping line 27048: expected 2 fields, saw 3\\nSkipping line 27056: expected 2 fields, saw 3\\nSkipping line 27070: expected 2 fields, saw 3\\nSkipping line 27090: expected 2 fields, saw 3\\nSkipping line 27102: expected 2 fields, saw 3\\nSkipping line 27202: expected 2 fields, saw 3\\nSkipping line 27420: expected 2 fields, saw 3\\nSkipping line 27460: expected 2 fields, saw 4\\nSkipping line 27477: expected 2 fields, saw 4\\nSkipping line 27495: expected 2 fields, saw 3\\nSkipping line 27513: expected 2 fields, saw 3\\nSkipping line 27933: expected 2 fields, saw 3\\nSkipping line 28054: expected 2 fields, saw 3\\nSkipping line 28094: expected 2 fields, saw 3\\nSkipping line 28157: expected 2 fields, saw 3\\nSkipping line 28204: expected 2 fields, saw 3\\nSkipping line 28228: expected 2 fields, saw 3\\nSkipping line 28295: expected 2 fields, saw 4\\nSkipping line 28341: expected 2 fields, saw 3\\nSkipping line 28581: expected 2 fields, saw 4\\nSkipping line 28697: expected 2 fields, saw 3\\nSkipping line 28806: expected 2 fields, saw 3\\nSkipping line 28834: expected 2 fields, saw 3\\nSkipping line 29088: expected 2 fields, saw 4\\nSkipping line 29201: expected 2 fields, saw 4\\nSkipping line 29351: expected 2 fields, saw 4\\nSkipping line 29555: expected 2 fields, saw 6\\nSkipping line 29560: expected 2 fields, saw 3\\nSkipping line 29627: expected 2 fields, saw 3\\nSkipping line 29659: expected 2 fields, saw 3\\nSkipping line 29819: expected 2 fields, saw 4\\nSkipping line 30096: expected 2 fields, saw 5\\nSkipping line 30174: expected 2 fields, saw 3\\nSkipping line 30254: expected 2 fields, saw 5\\nSkipping line 30261: expected 2 fields, saw 4\\nSkipping line 30305: expected 2 fields, saw 3\\nSkipping line 30393: expected 2 fields, saw 3\\nSkipping line 30449: expected 2 fields, saw 3\\nSkipping line 30489: expected 2 fields, saw 3\\nSkipping line 30767: expected 2 fields, saw 4\\nSkipping line 30877: expected 2 fields, saw 3\\nSkipping line 30890: expected 2 fields, saw 5\\nSkipping line 30896: expected 2 fields, saw 3\\nSkipping line 31017: expected 2 fields, saw 3\\nSkipping line 31108: expected 2 fields, saw 3\\nSkipping line 31270: expected 2 fields, saw 3\\nSkipping line 31763: expected 2 fields, saw 3\\nSkipping line 31817: expected 2 fields, saw 3\\nSkipping line 32228: expected 2 fields, saw 3\\nSkipping line 32352: expected 2 fields, saw 3\\nSkipping line 32437: expected 2 fields, saw 4\\nSkipping line 32482: expected 2 fields, saw 3\\nSkipping line 32502: expected 2 fields, saw 3\\nSkipping line 32505: expected 2 fields, saw 4\\nSkipping line 32642: expected 2 fields, saw 5\\nSkipping line 32731: expected 2 fields, saw 3\\nSkipping line 32972: expected 2 fields, saw 4\\nSkipping line 33145: expected 2 fields, saw 3\\nSkipping line 33202: expected 2 fields, saw 4\\nSkipping line 33216: expected 2 fields, saw 3\\nSkipping line 33844: expected 2 fields, saw 3\\nSkipping line 33902: expected 2 fields, saw 3\\nSkipping line 33916: expected 2 fields, saw 3\\nSkipping line 34024: expected 2 fields, saw 3\\nSkipping line 34067: expected 2 fields, saw 3\\nSkipping line 34143: expected 2 fields, saw 3\\nSkipping line 34266: expected 2 fields, saw 3\\nSkipping line 34284: expected 2 fields, saw 3\\nSkipping line 34354: expected 2 fields, saw 3\\nSkipping line 34670: expected 2 fields, saw 3\\nSkipping line 34892: expected 2 fields, saw 3\\nSkipping line 34919: expected 2 fields, saw 3\\nSkipping line 35065: expected 2 fields, saw 3\\nSkipping line 35228: expected 2 fields, saw 3\\nSkipping line 35278: expected 2 fields, saw 3\\nSkipping line 35302: expected 2 fields, saw 5\\nSkipping line 35511: expected 2 fields, saw 3\\nSkipping line 35727: expected 2 fields, saw 3\\nSkipping line 35848: expected 2 fields, saw 6\\nSkipping line 35961: expected 2 fields, saw 3\\nSkipping line 35965: expected 2 fields, saw 3\\nSkipping line 35981: expected 2 fields, saw 4\\nSkipping line 36097: expected 2 fields, saw 3\\nSkipping line 36102: expected 2 fields, saw 4\\nSkipping line 36126: expected 2 fields, saw 3\\nSkipping line 36159: expected 2 fields, saw 3\\nSkipping line 36235: expected 2 fields, saw 4\\nSkipping line 36317: expected 2 fields, saw 3\\nSkipping line 36424: expected 2 fields, saw 3\\nSkipping line 36559: expected 2 fields, saw 4\\nSkipping line 36643: expected 2 fields, saw 3\\nSkipping line 36657: expected 2 fields, saw 3\\nSkipping line 36787: expected 2 fields, saw 3\\nSkipping line 36834: expected 2 fields, saw 3\\nSkipping line 36914: expected 2 fields, saw 3\\nSkipping line 36961: expected 2 fields, saw 3\\nSkipping line 36966: expected 2 fields, saw 4\\nSkipping line 37049: expected 2 fields, saw 4\\nSkipping line 37070: expected 2 fields, saw 3\\nSkipping line 37316: expected 2 fields, saw 3\\nSkipping line 37403: expected 2 fields, saw 3\\nSkipping line 37498: expected 2 fields, saw 4\\nSkipping line 37566: expected 2 fields, saw 3\\nSkipping line 37578: expected 2 fields, saw 3\\nSkipping line 37923: expected 2 fields, saw 3\\nSkipping line 37926: expected 2 fields, saw 4\\nSkipping line 37975: expected 2 fields, saw 3\\nSkipping line 38112: expected 2 fields, saw 4\\nSkipping line 38140: expected 2 fields, saw 3\\nSkipping line 38446: expected 2 fields, saw 3\\nSkipping line 38596: expected 2 fields, saw 3\\nSkipping line 38693: expected 2 fields, saw 3\\nSkipping line 39010: expected 2 fields, saw 4\\nSkipping line 39366: expected 2 fields, saw 3\\nSkipping line 39529: expected 2 fields, saw 3\\nSkipping line 39549: expected 2 fields, saw 3\\nSkipping line 39686: expected 2 fields, saw 4\\nSkipping line 39721: expected 2 fields, saw 3\\nSkipping line 39774: expected 2 fields, saw 4\\nSkipping line 39800: expected 2 fields, saw 4\\nSkipping line 39983: expected 2 fields, saw 3\\nSkipping line 40219: expected 2 fields, saw 3\\nSkipping line 40254: expected 2 fields, saw 3\\nSkipping line 40294: expected 2 fields, saw 3\\nSkipping line 40826: expected 2 fields, saw 3\\nSkipping line 41050: expected 2 fields, saw 3\\nSkipping line 41063: expected 2 fields, saw 3\\nSkipping line 41233: expected 2 fields, saw 4\\nSkipping line 41259: expected 2 fields, saw 3\\nSkipping line 41369: expected 2 fields, saw 3\\nSkipping line 41442: expected 2 fields, saw 3\\nSkipping line 41447: expected 2 fields, saw 4\\nSkipping line 41561: expected 2 fields, saw 3\\nSkipping line 41591: expected 2 fields, saw 3\\nSkipping line 41696: expected 2 fields, saw 3\\nSkipping line 41876: expected 2 fields, saw 3\\nSkipping line 41961: expected 2 fields, saw 3\\nSkipping line 42020: expected 2 fields, saw 3\\nSkipping line 42135: expected 2 fields, saw 3\\nSkipping line 42136: expected 2 fields, saw 3\\nSkipping line 42148: expected 2 fields, saw 3\\nSkipping line 42287: expected 2 fields, saw 5\\nSkipping line 42303: expected 2 fields, saw 3\\nSkipping line 42375: expected 2 fields, saw 3\\nSkipping line 42424: expected 2 fields, saw 4\\nSkipping line 42438: expected 2 fields, saw 3\\nSkipping line 42442: expected 2 fields, saw 3\\nSkipping line 42502: expected 2 fields, saw 3\\nSkipping line 42609: expected 2 fields, saw 5\\nSkipping line 42611: expected 2 fields, saw 3\\nSkipping line 42808: expected 2 fields, saw 3\\nSkipping line 42842: expected 2 fields, saw 3\\nSkipping line 42923: expected 2 fields, saw 3\\nSkipping line 42933: expected 2 fields, saw 3\\nSkipping line 43018: expected 2 fields, saw 3\\nSkipping line 43102: expected 2 fields, saw 4\\nSkipping line 43207: expected 2 fields, saw 4\\nSkipping line 43209: expected 2 fields, saw 3\\nSkipping line 43264: expected 2 fields, saw 3\\nSkipping line 43342: expected 2 fields, saw 3\\nSkipping line 43360: expected 2 fields, saw 4\\nSkipping line 43538: expected 2 fields, saw 3\\nSkipping line 43628: expected 2 fields, saw 3\\nSkipping line 43713: expected 2 fields, saw 5\\nSkipping line 44029: expected 2 fields, saw 3\\nSkipping line 44065: expected 2 fields, saw 4\\nSkipping line 44400: expected 2 fields, saw 3\\nSkipping line 44530: expected 2 fields, saw 3\\nSkipping line 44631: expected 2 fields, saw 4\\nSkipping line 44726: expected 2 fields, saw 3\\nSkipping line 44774: expected 2 fields, saw 3\\nSkipping line 44891: expected 2 fields, saw 3\\nSkipping line 44928: expected 2 fields, saw 4\\nSkipping line 45051: expected 2 fields, saw 3\\nSkipping line 45193: expected 2 fields, saw 3\\nSkipping line 45358: expected 2 fields, saw 4\\nSkipping line 45474: expected 2 fields, saw 4\\nSkipping line 45589: expected 2 fields, saw 3\\nSkipping line 45622: expected 2 fields, saw 3\\nSkipping line 45879: expected 2 fields, saw 4\\nSkipping line 45894: expected 2 fields, saw 3\\nSkipping line 46112: expected 2 fields, saw 3\\nSkipping line 46123: expected 2 fields, saw 3\\nSkipping line 46226: expected 2 fields, saw 3\\nSkipping line 46263: expected 2 fields, saw 3\\nSkipping line 46634: expected 2 fields, saw 5\\nSkipping line 46644: expected 2 fields, saw 4\\nSkipping line 46706: expected 2 fields, saw 3\\nSkipping line 46728: expected 2 fields, saw 3\\nSkipping line 46872: expected 2 fields, saw 3\\nSkipping line 47069: expected 2 fields, saw 3\\nSkipping line 47126: expected 2 fields, saw 3\\nSkipping line 47136: expected 2 fields, saw 4\\nSkipping line 47434: expected 2 fields, saw 4\\nSkipping line 47442: expected 2 fields, saw 3\\nSkipping line 47537: expected 2 fields, saw 3\\nSkipping line 47647: expected 2 fields, saw 3\\nSkipping line 47862: expected 2 fields, saw 3\\nSkipping line 47986: expected 2 fields, saw 3\\nSkipping line 48080: expected 2 fields, saw 3\\nSkipping line 48647: expected 2 fields, saw 3\\nSkipping line 48785: expected 2 fields, saw 3\\nSkipping line 48864: expected 2 fields, saw 3\\nSkipping line 48867: expected 2 fields, saw 3\\nSkipping line 48939: expected 2 fields, saw 3\\nSkipping line 49009: expected 2 fields, saw 3\\nSkipping line 49426: expected 2 fields, saw 3\\nSkipping line 49565: expected 2 fields, saw 3\\nSkipping line 49618: expected 2 fields, saw 3\\nSkipping line 49714: expected 2 fields, saw 3\\nSkipping line 49757: expected 2 fields, saw 3\\nSkipping line 49956: expected 2 fields, saw 3\\nSkipping line 49958: expected 2 fields, saw 3\\nSkipping line 50021: expected 2 fields, saw 3\\nSkipping line 50026: expected 2 fields, saw 3\\nSkipping line 50137: expected 2 fields, saw 3\\nSkipping line 50245: expected 2 fields, saw 3\\nSkipping line 50322: expected 2 fields, saw 4\\nSkipping line 50526: expected 2 fields, saw 3\\nSkipping line 50587: expected 2 fields, saw 3\\nSkipping line 50640: expected 2 fields, saw 3\\nSkipping line 50821: expected 2 fields, saw 3\\nSkipping line 50858: expected 2 fields, saw 4\\nSkipping line 50898: expected 2 fields, saw 4\\nSkipping line 50930: expected 2 fields, saw 3\\nSkipping line 50936: expected 2 fields, saw 3\\nSkipping line 50984: expected 2 fields, saw 3\\nSkipping line 51501: expected 2 fields, saw 3\\nSkipping line 51754: expected 2 fields, saw 3\\nSkipping line 51773: expected 2 fields, saw 3\\nSkipping line 51863: expected 2 fields, saw 3\\nSkipping line 51951: expected 2 fields, saw 3\\nSkipping line 52245: expected 2 fields, saw 9\\nSkipping line 52366: expected 2 fields, saw 8\\nSkipping line 52371: expected 2 fields, saw 3\\nSkipping line 52537: expected 2 fields, saw 3\\nSkipping line 52550: expected 2 fields, saw 3\\nSkipping line 52552: expected 2 fields, saw 5\\nSkipping line 52958: expected 2 fields, saw 3\\nSkipping line 53169: expected 2 fields, saw 3\\nSkipping line 53389: expected 2 fields, saw 3\\nSkipping line 53463: expected 2 fields, saw 3\\nSkipping line 53525: expected 2 fields, saw 5\\nSkipping line 53612: expected 2 fields, saw 3\\nSkipping line 53695: expected 2 fields, saw 3\\nSkipping line 53757: expected 2 fields, saw 3\\nSkipping line 53767: expected 2 fields, saw 3\\nSkipping line 53865: expected 2 fields, saw 3\\nSkipping line 53910: expected 2 fields, saw 4\\nSkipping line 53997: expected 2 fields, saw 3\\nSkipping line 54025: expected 2 fields, saw 3\\nSkipping line 54317: expected 2 fields, saw 3\\nSkipping line 54339: expected 2 fields, saw 4\\nSkipping line 54421: expected 2 fields, saw 3\\nSkipping line 54446: expected 2 fields, saw 3\\nSkipping line 54467: expected 2 fields, saw 3\\nSkipping line 54498: expected 2 fields, saw 3\\nSkipping line 54512: expected 2 fields, saw 3\\nSkipping line 54650: expected 2 fields, saw 3\\nSkipping line 54663: expected 2 fields, saw 4\\nSkipping line 54695: expected 2 fields, saw 4\\nSkipping line 54772: expected 2 fields, saw 3\\nSkipping line 54954: expected 2 fields, saw 3\\nSkipping line 55083: expected 2 fields, saw 3\\nSkipping line 55132: expected 2 fields, saw 4\\nSkipping line 55215: expected 2 fields, saw 3\\nSkipping line 55232: expected 2 fields, saw 3\\nSkipping line 55234: expected 2 fields, saw 3\\nSkipping line 55324: expected 2 fields, saw 4\\nSkipping line 55399: expected 2 fields, saw 3\\nSkipping line 55404: expected 2 fields, saw 5\\nSkipping line 55451: expected 2 fields, saw 4\\nSkipping line 55465: expected 2 fields, saw 3\\nSkipping line 55621: expected 2 fields, saw 3\\nSkipping line 55669: expected 2 fields, saw 3\\nSkipping line 55677: expected 2 fields, saw 3\\nSkipping line 55721: expected 2 fields, saw 4\\nSkipping line 56101: expected 2 fields, saw 3\\nSkipping line 56362: expected 2 fields, saw 3\\nSkipping line 56376: expected 2 fields, saw 3\\nSkipping line 56439: expected 2 fields, saw 3\\nSkipping line 56471: expected 2 fields, saw 3\\nSkipping line 56681: expected 2 fields, saw 3\\nSkipping line 56734: expected 2 fields, saw 3\\nSkipping line 56800: expected 2 fields, saw 3\\nSkipping line 56815: expected 2 fields, saw 3\\nSkipping line 56877: expected 2 fields, saw 4\\nSkipping line 56927: expected 2 fields, saw 3\\nSkipping line 56934: expected 2 fields, saw 3\\nSkipping line 57119: expected 2 fields, saw 3\\nSkipping line 57197: expected 2 fields, saw 3\\nSkipping line 57260: expected 2 fields, saw 4\\nSkipping line 57291: expected 2 fields, saw 3\\nSkipping line 57363: expected 2 fields, saw 3\\nSkipping line 57435: expected 2 fields, saw 5\\nSkipping line 57618: expected 2 fields, saw 3\\nSkipping line 57803: expected 2 fields, saw 3\\nSkipping line 58232: expected 2 fields, saw 3\\nSkipping line 58268: expected 2 fields, saw 4\\nSkipping line 58276: expected 2 fields, saw 3\\nSkipping line 58288: expected 2 fields, saw 3\\nSkipping line 58470: expected 2 fields, saw 3\\nSkipping line 58511: expected 2 fields, saw 3\\nSkipping line 58630: expected 2 fields, saw 3\\nSkipping line 58636: expected 2 fields, saw 3\\nSkipping line 58821: expected 2 fields, saw 3\\nSkipping line 58884: expected 2 fields, saw 3\\nSkipping line 58920: expected 2 fields, saw 3\\nSkipping line 58946: expected 2 fields, saw 4\\nSkipping line 58956: expected 2 fields, saw 3\\nSkipping line 59092: expected 2 fields, saw 3\\nSkipping line 59181: expected 2 fields, saw 3\\nSkipping line 59261: expected 2 fields, saw 3\\nSkipping line 59480: expected 2 fields, saw 3\\nSkipping line 59533: expected 2 fields, saw 3\\nSkipping line 59605: expected 2 fields, saw 4\\nSkipping line 59609: expected 2 fields, saw 3\\nSkipping line 59641: expected 2 fields, saw 3\\nSkipping line 59668: expected 2 fields, saw 4\\nSkipping line 59827: expected 2 fields, saw 3\\nSkipping line 59973: expected 2 fields, saw 3\\nSkipping line 60025: expected 2 fields, saw 3\\nSkipping line 60059: expected 2 fields, saw 3\\nSkipping line 60061: expected 2 fields, saw 4\\nSkipping line 60130: expected 2 fields, saw 4\\nSkipping line 60431: expected 2 fields, saw 4\\nSkipping line 60444: expected 2 fields, saw 4\\nSkipping line 60530: expected 2 fields, saw 3\\nSkipping line 60712: expected 2 fields, saw 3\\nSkipping line 60770: expected 2 fields, saw 3\\nSkipping line 60780: expected 2 fields, saw 4\\nSkipping line 60812: expected 2 fields, saw 5\\nSkipping line 60847: expected 2 fields, saw 4\\nSkipping line 60850: expected 2 fields, saw 3\\nSkipping line 60869: expected 2 fields, saw 3\\nSkipping line 60973: expected 2 fields, saw 3\\nSkipping line 61072: expected 2 fields, saw 3\\nSkipping line 61089: expected 2 fields, saw 3\\nSkipping line 61201: expected 2 fields, saw 4\\nSkipping line 61229: expected 2 fields, saw 3\\nSkipping line 61343: expected 2 fields, saw 3\\nSkipping line 61480: expected 2 fields, saw 4\\nSkipping line 61488: expected 2 fields, saw 3\\nSkipping line 61492: expected 2 fields, saw 3\\nSkipping line 61535: expected 2 fields, saw 4\\nSkipping line 61679: expected 2 fields, saw 3\\nSkipping line 62101: expected 2 fields, saw 3\\nSkipping line 62278: expected 2 fields, saw 3\\nSkipping line 62374: expected 2 fields, saw 3\\nSkipping line 62410: expected 2 fields, saw 3\\nSkipping line 62478: expected 2 fields, saw 3\\nSkipping line 62541: expected 2 fields, saw 3\\nSkipping line 62566: expected 2 fields, saw 3\\nSkipping line 62576: expected 2 fields, saw 5\\nSkipping line 62601: expected 2 fields, saw 3\\nSkipping line 62769: expected 2 fields, saw 3\\nSkipping line 62856: expected 2 fields, saw 5\\nSkipping line 63170: expected 2 fields, saw 3\\nSkipping line 63201: expected 2 fields, saw 3\\nSkipping line 63217: expected 2 fields, saw 3\\nSkipping line 63247: expected 2 fields, saw 3\\nSkipping line 63290: expected 2 fields, saw 3\\nSkipping line 63297: expected 2 fields, saw 3\\nSkipping line 63300: expected 2 fields, saw 4\\nSkipping line 63452: expected 2 fields, saw 3\\nSkipping line 63454: expected 2 fields, saw 3\\nSkipping line 63631: expected 2 fields, saw 3\\nSkipping line 63648: expected 2 fields, saw 3\\nSkipping line 63662: expected 2 fields, saw 3\\nSkipping line 63672: expected 2 fields, saw 3\\nSkipping line 63792: expected 2 fields, saw 3\\nSkipping line 64070: expected 2 fields, saw 4\\nSkipping line 64077: expected 2 fields, saw 3\\nSkipping line 64255: expected 2 fields, saw 3\\nSkipping line 64492: expected 2 fields, saw 3\\nSkipping line 64506: expected 2 fields, saw 3\\nSkipping line 64540: expected 2 fields, saw 3\\nSkipping line 64605: expected 2 fields, saw 3\\nSkipping line 64629: expected 2 fields, saw 3\\nSkipping line 64884: expected 2 fields, saw 3\\nSkipping line 65053: expected 2 fields, saw 3\\nSkipping line 65144: expected 2 fields, saw 3\\nSkipping line 65214: expected 2 fields, saw 3\\nSkipping line 65242: expected 2 fields, saw 3\\nSkipping line 65351: expected 2 fields, saw 3\\nSkipping line 65366: expected 2 fields, saw 3\\nSkipping line 65427: expected 2 fields, saw 4\\nSkipping line 65495: expected 2 fields, saw 3\\nSkipping line 65533: expected 2 fields, saw 4\\nSkipping line 65560: expected 2 fields, saw 3\\nSkipping line 65613: expected 2 fields, saw 3\\nSkipping line 65634: expected 2 fields, saw 3\\nSkipping line 65676: expected 2 fields, saw 4\\nSkipping line 65745: expected 2 fields, saw 3\\nSkipping line 65793: expected 2 fields, saw 3\\nSkipping line 65810: expected 2 fields, saw 3\\nSkipping line 66038: expected 2 fields, saw 3\\nSkipping line 66113: expected 2 fields, saw 3\\nSkipping line 66173: expected 2 fields, saw 3\\nSkipping line 66265: expected 2 fields, saw 3\\nSkipping line 66306: expected 2 fields, saw 3\\nSkipping line 66349: expected 2 fields, saw 4\\nSkipping line 66357: expected 2 fields, saw 3\\nSkipping line 66395: expected 2 fields, saw 3\\nSkipping line 66509: expected 2 fields, saw 3\\nSkipping line 66678: expected 2 fields, saw 3\\nSkipping line 66741: expected 2 fields, saw 3\\nSkipping line 66800: expected 2 fields, saw 3\\nSkipping line 66919: expected 2 fields, saw 3\\nSkipping line 67438: expected 2 fields, saw 3\\nSkipping line 67440: expected 2 fields, saw 3\\nSkipping line 67553: expected 2 fields, saw 4\\nSkipping line 67563: expected 2 fields, saw 4\\nSkipping line 67856: expected 2 fields, saw 3\\nSkipping line 68001: expected 2 fields, saw 3\\nSkipping line 68095: expected 2 fields, saw 3\\nSkipping line 68114: expected 2 fields, saw 3\\nSkipping line 68140: expected 2 fields, saw 4\\nSkipping line 68161: expected 2 fields, saw 3\\nSkipping line 68223: expected 2 fields, saw 3\\nSkipping line 68333: expected 2 fields, saw 3\\nSkipping line 68373: expected 2 fields, saw 4\\nSkipping line 68393: expected 2 fields, saw 3\\nSkipping line 68414: expected 2 fields, saw 3\\nSkipping line 68432: expected 2 fields, saw 3\\nSkipping line 68449: expected 2 fields, saw 4\\nSkipping line 68479: expected 2 fields, saw 3\\nSkipping line 68489: expected 2 fields, saw 3\\nSkipping line 68540: expected 2 fields, saw 6\\nSkipping line 68605: expected 2 fields, saw 4\\nSkipping line 68622: expected 2 fields, saw 3\\nSkipping line 68683: expected 2 fields, saw 3\\nSkipping line 68692: expected 2 fields, saw 3\\nSkipping line 68715: expected 2 fields, saw 3\\nSkipping line 68952: expected 2 fields, saw 3\\nSkipping line 69049: expected 2 fields, saw 3\\nSkipping line 69154: expected 2 fields, saw 3\\nSkipping line 69265: expected 2 fields, saw 4\\nSkipping line 69289: expected 2 fields, saw 3\\nSkipping line 69371: expected 2 fields, saw 3\\nSkipping line 69404: expected 2 fields, saw 3\\nSkipping line 69612: expected 2 fields, saw 3\\nSkipping line 69789: expected 2 fields, saw 3\\nSkipping line 69886: expected 2 fields, saw 3\\nSkipping line 70015: expected 2 fields, saw 3\\nSkipping line 70018: expected 2 fields, saw 3\\nSkipping line 70021: expected 2 fields, saw 3\\nSkipping line 70058: expected 2 fields, saw 3\\nSkipping line 70083: expected 2 fields, saw 4\\nSkipping line 70357: expected 2 fields, saw 4\\nSkipping line 70531: expected 2 fields, saw 3\\nSkipping line 70791: expected 2 fields, saw 4\\nSkipping line 71017: expected 2 fields, saw 4\\nSkipping line 71065: expected 2 fields, saw 3\\nSkipping line 71095: expected 2 fields, saw 4\\nSkipping line 71340: expected 2 fields, saw 5\\nSkipping line 71589: expected 2 fields, saw 3\\nSkipping line 71636: expected 2 fields, saw 3\\nSkipping line 71693: expected 2 fields, saw 3\\nSkipping line 71712: expected 2 fields, saw 3\\nSkipping line 71791: expected 2 fields, saw 3\\nSkipping line 71796: expected 2 fields, saw 3\\nSkipping line 71812: expected 2 fields, saw 3\\nSkipping line 71841: expected 2 fields, saw 3\\nSkipping line 71980: expected 2 fields, saw 3\\nSkipping line 72001: expected 2 fields, saw 3\\nSkipping line 72113: expected 2 fields, saw 3\\nSkipping line 72299: expected 2 fields, saw 3\\nSkipping line 72309: expected 2 fields, saw 3\\nSkipping line 72326: expected 2 fields, saw 3\\nSkipping line 72465: expected 2 fields, saw 3\\nSkipping line 72654: expected 2 fields, saw 3\\nSkipping line 72712: expected 2 fields, saw 3\\nSkipping line 72799: expected 2 fields, saw 4\\nSkipping line 72808: expected 2 fields, saw 4\\nSkipping line 72813: expected 2 fields, saw 3\\nSkipping line 72914: expected 2 fields, saw 3\\nSkipping line 72922: expected 2 fields, saw 3\\nSkipping line 73022: expected 2 fields, saw 3\\nSkipping line 73162: expected 2 fields, saw 5\\nSkipping line 73247: expected 2 fields, saw 3\\nSkipping line 73270: expected 2 fields, saw 3\\nSkipping line 73293: expected 2 fields, saw 3\\nSkipping line 73295: expected 2 fields, saw 3\\nSkipping line 73314: expected 2 fields, saw 3\\nSkipping line 73502: expected 2 fields, saw 3\\nSkipping line 73563: expected 2 fields, saw 4\\nSkipping line 73616: expected 2 fields, saw 3\\nSkipping line 73787: expected 2 fields, saw 4\\nSkipping line 73810: expected 2 fields, saw 3\\nSkipping line 74080: expected 2 fields, saw 3\\nSkipping line 74157: expected 2 fields, saw 3\\nSkipping line 74259: expected 2 fields, saw 3\\nSkipping line 74316: expected 2 fields, saw 3\\nSkipping line 74334: expected 2 fields, saw 3\\nSkipping line 74336: expected 2 fields, saw 3\\nSkipping line 74463: expected 2 fields, saw 3\\nSkipping line 74580: expected 2 fields, saw 3\\nSkipping line 74737: expected 2 fields, saw 3\\nSkipping line 74765: expected 2 fields, saw 3\\nSkipping line 74824: expected 2 fields, saw 3\\nSkipping line 74861: expected 2 fields, saw 4\\nSkipping line 74874: expected 2 fields, saw 4\\nSkipping line 74902: expected 2 fields, saw 4\\nSkipping line 74934: expected 2 fields, saw 3\\nSkipping line 75119: expected 2 fields, saw 5\\nSkipping line 75185: expected 2 fields, saw 3\\nSkipping line 75376: expected 2 fields, saw 4\\nSkipping line 75443: expected 2 fields, saw 3\\nSkipping line 75641: expected 2 fields, saw 3\\nSkipping line 75726: expected 2 fields, saw 3\\nSkipping line 75806: expected 2 fields, saw 3\\nSkipping line 75903: expected 2 fields, saw 3\\nSkipping line 75962: expected 2 fields, saw 4\\nSkipping line 76187: expected 2 fields, saw 3\\nSkipping line 76191: expected 2 fields, saw 3\\nSkipping line 76209: expected 2 fields, saw 3\\nSkipping line 76248: expected 2 fields, saw 3\\nSkipping line 76263: expected 2 fields, saw 4\\nSkipping line 76384: expected 2 fields, saw 3\\nSkipping line 76513: expected 2 fields, saw 3\\nSkipping line 76755: expected 2 fields, saw 4\\nSkipping line 76854: expected 2 fields, saw 5\\nSkipping line 77123: expected 2 fields, saw 3\\nSkipping line 77190: expected 2 fields, saw 3\\nSkipping line 77242: expected 2 fields, saw 3\\nSkipping line 77304: expected 2 fields, saw 3\\nSkipping line 77396: expected 2 fields, saw 5\\nSkipping line 77469: expected 2 fields, saw 3\\nSkipping line 77544: expected 2 fields, saw 3\\nSkipping line 77584: expected 2 fields, saw 6\\nSkipping line 77733: expected 2 fields, saw 3\\nSkipping line 77930: expected 2 fields, saw 3\\nSkipping line 77981: expected 2 fields, saw 3\\nSkipping line 78015: expected 2 fields, saw 3\\nSkipping line 78020: expected 2 fields, saw 3\\nSkipping line 78112: expected 2 fields, saw 3\\nSkipping line 78273: expected 2 fields, saw 3\\nSkipping line 78298: expected 2 fields, saw 3\\nSkipping line 78327: expected 2 fields, saw 3\\nSkipping line 78353: expected 2 fields, saw 3\\nSkipping line 78404: expected 2 fields, saw 4\\nSkipping line 78485: expected 2 fields, saw 3\\nSkipping line 78531: expected 2 fields, saw 4\\nSkipping line 78658: expected 2 fields, saw 3\\nSkipping line 78668: expected 2 fields, saw 4\\nSkipping line 78702: expected 2 fields, saw 3\\nSkipping line 78710: expected 2 fields, saw 3\\nSkipping line 78717: expected 2 fields, saw 3\\nSkipping line 78725: expected 2 fields, saw 5\\nSkipping line 78992: expected 2 fields, saw 3\\nSkipping line 79015: expected 2 fields, saw 3\\nSkipping line 79025: expected 2 fields, saw 3\\nSkipping line 79260: expected 2 fields, saw 3\\nSkipping line 79323: expected 2 fields, saw 3\\nSkipping line 79577: expected 2 fields, saw 3\\nSkipping line 79646: expected 2 fields, saw 3\\nSkipping line 79800: expected 2 fields, saw 3\\nSkipping line 79899: expected 2 fields, saw 3\\nSkipping line 79964: expected 2 fields, saw 3\\nSkipping line 80162: expected 2 fields, saw 3\\nSkipping line 80196: expected 2 fields, saw 4\\nSkipping line 80203: expected 2 fields, saw 3\\nSkipping line 80321: expected 2 fields, saw 3\\nSkipping line 80403: expected 2 fields, saw 4\\nSkipping line 80502: expected 2 fields, saw 3\\nSkipping line 80663: expected 2 fields, saw 4\\nSkipping line 80772: expected 2 fields, saw 3\\nSkipping line 80824: expected 2 fields, saw 5\\nSkipping line 80839: expected 2 fields, saw 3\\nSkipping line 80857: expected 2 fields, saw 4\\nSkipping line 80902: expected 2 fields, saw 3\\nSkipping line 80903: expected 2 fields, saw 3\\nSkipping line 80914: expected 2 fields, saw 3\\nSkipping line 81109: expected 2 fields, saw 3\\nSkipping line 81168: expected 2 fields, saw 3\\nSkipping line 81257: expected 2 fields, saw 4\\nSkipping line 81363: expected 2 fields, saw 3\\nSkipping line 81397: expected 2 fields, saw 3\\nSkipping line 81679: expected 2 fields, saw 5\\nSkipping line 81862: expected 2 fields, saw 3\\nSkipping line 81938: expected 2 fields, saw 3\\nSkipping line 81961: expected 2 fields, saw 3\\nSkipping line 81997: expected 2 fields, saw 3\\nSkipping line 82030: expected 2 fields, saw 3\\nSkipping line 82060: expected 2 fields, saw 3\\nSkipping line 82193: expected 2 fields, saw 4\\nSkipping line 82206: expected 2 fields, saw 3\\nSkipping line 82290: expected 2 fields, saw 3\\nSkipping line 82321: expected 2 fields, saw 3\\nSkipping line 82412: expected 2 fields, saw 4\\nSkipping line 82480: expected 2 fields, saw 3\\nSkipping line 82482: expected 2 fields, saw 3\\nSkipping line 82607: expected 2 fields, saw 3\\nSkipping line 82660: expected 2 fields, saw 3\\nSkipping line 82864: expected 2 fields, saw 3\\nSkipping line 82927: expected 2 fields, saw 3\\nSkipping line 82953: expected 2 fields, saw 3\\nSkipping line 83034: expected 2 fields, saw 3\\nSkipping line 83075: expected 2 fields, saw 5\\nSkipping line 83163: expected 2 fields, saw 3\\nSkipping line 83256: expected 2 fields, saw 4\\nSkipping line 83395: expected 2 fields, saw 3\\nSkipping line 83634: expected 2 fields, saw 3\\nSkipping line 83926: expected 2 fields, saw 3\\nSkipping line 84066: expected 2 fields, saw 3\\nSkipping line 84109: expected 2 fields, saw 5\\nSkipping line 84130: expected 2 fields, saw 4\\nSkipping line 84170: expected 2 fields, saw 4\\nSkipping line 84211: expected 2 fields, saw 3\\nSkipping line 84383: expected 2 fields, saw 5\\nSkipping line 84458: expected 2 fields, saw 3\\nSkipping line 84472: expected 2 fields, saw 3\\nSkipping line 84547: expected 2 fields, saw 3\\nSkipping line 84557: expected 2 fields, saw 3\\nSkipping line 84648: expected 2 fields, saw 3\\nSkipping line 84705: expected 2 fields, saw 3\\nSkipping line 84802: expected 2 fields, saw 3\\nSkipping line 84880: expected 2 fields, saw 3\\nSkipping line 85131: expected 2 fields, saw 5\\nSkipping line 85156: expected 2 fields, saw 3\\nSkipping line 85179: expected 2 fields, saw 3\\nSkipping line 85591: expected 2 fields, saw 3\\nSkipping line 85603: expected 2 fields, saw 3\\nSkipping line 85612: expected 2 fields, saw 3\\nSkipping line 85644: expected 2 fields, saw 3\\nSkipping line 85656: expected 2 fields, saw 3\\nSkipping line 85669: expected 2 fields, saw 4\\nSkipping line 85802: expected 2 fields, saw 5\\nSkipping line 85881: expected 2 fields, saw 4\\nSkipping line 86187: expected 2 fields, saw 3\\nSkipping line 86672: expected 2 fields, saw 4\\nSkipping line 87204: expected 2 fields, saw 3\\nSkipping line 87205: expected 2 fields, saw 4\\nSkipping line 87222: expected 2 fields, saw 5\\nSkipping line 87230: expected 2 fields, saw 3\\nSkipping line 87332: expected 2 fields, saw 3\\nSkipping line 87335: expected 2 fields, saw 3\\nSkipping line 87376: expected 2 fields, saw 3\\nSkipping line 87473: expected 2 fields, saw 4\\nSkipping line 87484: expected 2 fields, saw 3\\nSkipping line 87497: expected 2 fields, saw 4\\nSkipping line 87587: expected 2 fields, saw 3\\nSkipping line 87685: expected 2 fields, saw 3\\nSkipping line 87769: expected 2 fields, saw 4\\nSkipping line 87772: expected 2 fields, saw 3\\nSkipping line 87781: expected 2 fields, saw 3\\nSkipping line 87982: expected 2 fields, saw 4\\nSkipping line 87988: expected 2 fields, saw 3\\nSkipping line 88074: expected 2 fields, saw 4\\nSkipping line 88325: expected 2 fields, saw 3\\nSkipping line 88555: expected 2 fields, saw 4\\nSkipping line 88560: expected 2 fields, saw 3\\nSkipping line 88702: expected 2 fields, saw 3\\nSkipping line 88713: expected 2 fields, saw 3\\nSkipping line 88797: expected 2 fields, saw 4\\nSkipping line 88800: expected 2 fields, saw 3\\nSkipping line 88932: expected 2 fields, saw 3\\nSkipping line 88937: expected 2 fields, saw 3\\nSkipping line 88996: expected 2 fields, saw 3\\nSkipping line 88998: expected 2 fields, saw 4\\nSkipping line 89015: expected 2 fields, saw 3\\nSkipping line 89316: expected 2 fields, saw 3\\nSkipping line 89319: expected 2 fields, saw 4\\nSkipping line 89330: expected 2 fields, saw 5\\nSkipping line 89568: expected 2 fields, saw 3\\nSkipping line 89575: expected 2 fields, saw 4\\nSkipping line 89694: expected 2 fields, saw 3\\nSkipping line 89902: expected 2 fields, saw 3\\nSkipping line 90060: expected 2 fields, saw 3\\nSkipping line 90106: expected 2 fields, saw 4\\nSkipping line 90173: expected 2 fields, saw 3\\nSkipping line 90178: expected 2 fields, saw 3\\nSkipping line 90258: expected 2 fields, saw 3\\nSkipping line 90440: expected 2 fields, saw 3\\nSkipping line 90441: expected 2 fields, saw 3\\nSkipping line 90526: expected 2 fields, saw 3\\nSkipping line 90599: expected 2 fields, saw 3\\nSkipping line 90678: expected 2 fields, saw 4\\nSkipping line 90692: expected 2 fields, saw 5\\nSkipping line 90723: expected 2 fields, saw 5\\nSkipping line 90905: expected 2 fields, saw 3\\nSkipping line 91615: expected 2 fields, saw 4\\nSkipping line 91720: expected 2 fields, saw 3\\nSkipping line 91823: expected 2 fields, saw 3\\nSkipping line 92039: expected 2 fields, saw 5\\nSkipping line 92241: expected 2 fields, saw 3\\nSkipping line 92296: expected 2 fields, saw 4\\nSkipping line 92402: expected 2 fields, saw 3\\nSkipping line 92420: expected 2 fields, saw 3\\nSkipping line 92683: expected 2 fields, saw 3\\nSkipping line 93014: expected 2 fields, saw 4\\nSkipping line 93141: expected 2 fields, saw 3\\nSkipping line 93155: expected 2 fields, saw 4\\nSkipping line 93327: expected 2 fields, saw 3\\nSkipping line 93377: expected 2 fields, saw 3\\nSkipping line 93524: expected 2 fields, saw 3\\nSkipping line 93665: expected 2 fields, saw 3\\nSkipping line 93667: expected 2 fields, saw 3\\nSkipping line 93833: expected 2 fields, saw 4\\nSkipping line 93900: expected 2 fields, saw 3\\nSkipping line 94067: expected 2 fields, saw 3\\nSkipping line 94088: expected 2 fields, saw 4\\nSkipping line 94090: expected 2 fields, saw 3\\nSkipping line 94663: expected 2 fields, saw 3\\nSkipping line 94716: expected 2 fields, saw 3\\nSkipping line 94893: expected 2 fields, saw 3\\nSkipping line 94913: expected 2 fields, saw 3\\nSkipping line 94971: expected 2 fields, saw 3\\nSkipping line 94988: expected 2 fields, saw 3\\nSkipping line 95064: expected 2 fields, saw 3\\nSkipping line 95095: expected 2 fields, saw 3\\nSkipping line 95215: expected 2 fields, saw 3\\nSkipping line 95299: expected 2 fields, saw 4\\nSkipping line 95521: expected 2 fields, saw 3\\nSkipping line 95545: expected 2 fields, saw 3\\nSkipping line 95736: expected 2 fields, saw 3\\nSkipping line 95746: expected 2 fields, saw 3\\nSkipping line 95962: expected 2 fields, saw 4\\nSkipping line 95996: expected 2 fields, saw 3\\nSkipping line 96382: expected 2 fields, saw 3\\nSkipping line 96397: expected 2 fields, saw 3\\nSkipping line 96900: expected 2 fields, saw 4\\nSkipping line 97083: expected 2 fields, saw 4\\nSkipping line 97211: expected 2 fields, saw 3\\nSkipping line 97595: expected 2 fields, saw 3\\nSkipping line 97603: expected 2 fields, saw 6\\nSkipping line 97661: expected 2 fields, saw 3\\nSkipping line 97781: expected 2 fields, saw 3\\nSkipping line 97818: expected 2 fields, saw 3\\nSkipping line 97965: expected 2 fields, saw 3\\nSkipping line 98054: expected 2 fields, saw 4\\nSkipping line 98209: expected 2 fields, saw 4\\nSkipping line 98224: expected 2 fields, saw 3\\nSkipping line 98618: expected 2 fields, saw 4\\nSkipping line 98782: expected 2 fields, saw 3\\nSkipping line 98830: expected 2 fields, saw 4\\nSkipping line 98936: expected 2 fields, saw 3\\nSkipping line 99043: expected 2 fields, saw 3\\nSkipping line 99097: expected 2 fields, saw 4\\nSkipping line 99135: expected 2 fields, saw 3\\nSkipping line 99175: expected 2 fields, saw 3\\nSkipping line 99322: expected 2 fields, saw 3\\nSkipping line 99527: expected 2 fields, saw 3\\nSkipping line 99634: expected 2 fields, saw 4\\nSkipping line 100085: expected 2 fields, saw 4\\nSkipping line 100143: expected 2 fields, saw 3\\nSkipping line 100424: expected 2 fields, saw 4\\nSkipping line 100907: expected 2 fields, saw 4\\nSkipping line 101094: expected 2 fields, saw 4\\nSkipping line 101106: expected 2 fields, saw 3\\nSkipping line 101369: expected 2 fields, saw 3\\nSkipping line 101479: expected 2 fields, saw 3\\nSkipping line 101557: expected 2 fields, saw 3\\nSkipping line 101605: expected 2 fields, saw 3\\nSkipping line 101721: expected 2 fields, saw 5\\nSkipping line 101925: expected 2 fields, saw 4\\nSkipping line 101927: expected 2 fields, saw 3\\nSkipping line 102012: expected 2 fields, saw 4\\nSkipping line 102178: expected 2 fields, saw 3\\nSkipping line 102242: expected 2 fields, saw 3\\nSkipping line 102271: expected 2 fields, saw 3\\nSkipping line 102314: expected 2 fields, saw 4\\nSkipping line 102464: expected 2 fields, saw 3\\nSkipping line 102476: expected 2 fields, saw 4\\nSkipping line 102539: expected 2 fields, saw 3\\nSkipping line 102692: expected 2 fields, saw 3\\nSkipping line 102694: expected 2 fields, saw 3\\nSkipping line 102717: expected 2 fields, saw 4\\nSkipping line 102977: expected 2 fields, saw 3\\nSkipping line 103009: expected 2 fields, saw 3\\nSkipping line 103022: expected 2 fields, saw 3\\nSkipping line 103104: expected 2 fields, saw 3\\nSkipping line 103179: expected 2 fields, saw 3\\nSkipping line 103469: expected 2 fields, saw 3\\nSkipping line 103483: expected 2 fields, saw 3\\nSkipping line 103575: expected 2 fields, saw 4\\nSkipping line 103579: expected 2 fields, saw 3\\nSkipping line 103834: expected 2 fields, saw 3\\nSkipping line 104073: expected 2 fields, saw 3\\nSkipping line 104134: expected 2 fields, saw 4\\nSkipping line 104193: expected 2 fields, saw 3\\nSkipping line 104341: expected 2 fields, saw 3\\nSkipping line 104400: expected 2 fields, saw 3\\nSkipping line 104773: expected 2 fields, saw 3\\nSkipping line 104902: expected 2 fields, saw 3\\nSkipping line 104947: expected 2 fields, saw 3\\nSkipping line 105384: expected 2 fields, saw 3\\nSkipping line 105544: expected 2 fields, saw 3\\nSkipping line 105686: expected 2 fields, saw 7\\nSkipping line 105688: expected 2 fields, saw 3\\nSkipping line 105793: expected 2 fields, saw 3\\nSkipping line 105876: expected 2 fields, saw 3\\nSkipping line 105988: expected 2 fields, saw 4\\nSkipping line 106192: expected 2 fields, saw 3\\nSkipping line 106246: expected 2 fields, saw 3\\nSkipping line 106357: expected 2 fields, saw 3\\nSkipping line 106455: expected 2 fields, saw 3\\nSkipping line 106537: expected 2 fields, saw 3\\nSkipping line 107062: expected 2 fields, saw 3\\nSkipping line 107093: expected 2 fields, saw 3\\nSkipping line 107224: expected 2 fields, saw 3\\nSkipping line 107228: expected 2 fields, saw 5\\nSkipping line 107261: expected 2 fields, saw 4\\nSkipping line 107628: expected 2 fields, saw 3\\nSkipping line 107738: expected 2 fields, saw 4\\nSkipping line 107877: expected 2 fields, saw 4\\nSkipping line 107903: expected 2 fields, saw 3\\nSkipping line 108077: expected 2 fields, saw 4\\nSkipping line 108353: expected 2 fields, saw 3\\nSkipping line 108445: expected 2 fields, saw 3\\nSkipping line 108506: expected 2 fields, saw 3\\nSkipping line 108520: expected 2 fields, saw 4\\nSkipping line 108638: expected 2 fields, saw 3\\nSkipping line 108693: expected 2 fields, saw 5\\nSkipping line 108846: expected 2 fields, saw 4\\nSkipping line 108878: expected 2 fields, saw 3\\nSkipping line 108912: expected 2 fields, saw 3\\nSkipping line 108975: expected 2 fields, saw 3\\nSkipping line 109128: expected 2 fields, saw 3\\nSkipping line 109244: expected 2 fields, saw 3\\nSkipping line 109322: expected 2 fields, saw 3\\nSkipping line 109525: expected 2 fields, saw 3\\nSkipping line 109598: expected 2 fields, saw 4\\nSkipping line 109670: expected 2 fields, saw 3\\nSkipping line 109811: expected 2 fields, saw 4\\nSkipping line 109916: expected 2 fields, saw 5\\nSkipping line 110120: expected 2 fields, saw 3\\nSkipping line 110497: expected 2 fields, saw 3\\nSkipping line 110506: expected 2 fields, saw 3\\nSkipping line 110671: expected 2 fields, saw 4\\nSkipping line 110938: expected 2 fields, saw 3\\nSkipping line 110979: expected 2 fields, saw 3\\nSkipping line 111107: expected 2 fields, saw 3\\nSkipping line 111236: expected 2 fields, saw 3\\nSkipping line 111484: expected 2 fields, saw 3\\nSkipping line 111552: expected 2 fields, saw 4\\nSkipping line 111646: expected 2 fields, saw 3\\nSkipping line 111663: expected 2 fields, saw 3\\nSkipping line 111797: expected 2 fields, saw 3\\nSkipping line 112225: expected 2 fields, saw 3\\nSkipping line 112424: expected 2 fields, saw 3\\nSkipping line 112464: expected 2 fields, saw 3\\nSkipping line 112557: expected 2 fields, saw 3\\nSkipping line 112579: expected 2 fields, saw 4\\nSkipping line 112646: expected 2 fields, saw 3\\nSkipping line 112832: expected 2 fields, saw 3\\nSkipping line 113153: expected 2 fields, saw 3\\nSkipping line 113343: expected 2 fields, saw 10\\nSkipping line 113353: expected 2 fields, saw 3\\nSkipping line 113392: expected 2 fields, saw 4\\nSkipping line 113415: expected 2 fields, saw 3\\nSkipping line 113487: expected 2 fields, saw 3\\nSkipping line 113624: expected 2 fields, saw 3\\nSkipping line 113651: expected 2 fields, saw 4\\nSkipping line 113909: expected 2 fields, saw 3\\nSkipping line 113949: expected 2 fields, saw 3\\nSkipping line 114127: expected 2 fields, saw 3\\nSkipping line 114155: expected 2 fields, saw 3\\nSkipping line 114170: expected 2 fields, saw 3\\nSkipping line 114491: expected 2 fields, saw 3\\nSkipping line 114948: expected 2 fields, saw 4\\nSkipping line 115041: expected 2 fields, saw 3\\nSkipping line 115237: expected 2 fields, saw 3\\nSkipping line 115512: expected 2 fields, saw 3\\nSkipping line 115649: expected 2 fields, saw 3\\nSkipping line 115695: expected 2 fields, saw 3\\nSkipping line 115699: expected 2 fields, saw 4\\nSkipping line 115802: expected 2 fields, saw 3\\nSkipping line 115912: expected 2 fields, saw 3\\nSkipping line 116165: expected 2 fields, saw 3\\nSkipping line 116366: expected 2 fields, saw 4\\nSkipping line 116398: expected 2 fields, saw 3\\nSkipping line 116631: expected 2 fields, saw 3\\nSkipping line 116790: expected 2 fields, saw 3\\nSkipping line 116837: expected 2 fields, saw 3\\nSkipping line 116965: expected 2 fields, saw 3\\nSkipping line 117076: expected 2 fields, saw 3\\nSkipping line 117079: expected 2 fields, saw 3\\nSkipping line 117317: expected 2 fields, saw 3\\nSkipping line 117369: expected 2 fields, saw 4\\nSkipping line 117484: expected 2 fields, saw 3\\nSkipping line 117522: expected 2 fields, saw 4\\nSkipping line 117688: expected 2 fields, saw 3\\nSkipping line 117855: expected 2 fields, saw 3\\nSkipping line 117857: expected 2 fields, saw 3\\nSkipping line 117866: expected 2 fields, saw 3\\nSkipping line 117903: expected 2 fields, saw 3\\nSkipping line 117972: expected 2 fields, saw 3\\nSkipping line 118238: expected 2 fields, saw 3\\nSkipping line 118261: expected 2 fields, saw 4\\nSkipping line 118273: expected 2 fields, saw 3\\nSkipping line 118423: expected 2 fields, saw 4\\nSkipping line 118454: expected 2 fields, saw 3\\nSkipping line 118496: expected 2 fields, saw 4\\nSkipping line 118568: expected 2 fields, saw 3\\nSkipping line 118834: expected 2 fields, saw 6\\nSkipping line 118901: expected 2 fields, saw 4\\nSkipping line 119215: expected 2 fields, saw 3\\nSkipping line 119226: expected 2 fields, saw 3\\nSkipping line 119513: expected 2 fields, saw 4\\nSkipping line 119549: expected 2 fields, saw 4\\nSkipping line 119852: expected 2 fields, saw 3\\nSkipping line 119926: expected 2 fields, saw 6\\nSkipping line 119964: expected 2 fields, saw 3\\nSkipping line 120134: expected 2 fields, saw 3\\nSkipping line 120180: expected 2 fields, saw 4\\nSkipping line 120307: expected 2 fields, saw 3\\nSkipping line 120316: expected 2 fields, saw 3\\nSkipping line 120519: expected 2 fields, saw 4\\nSkipping line 120544: expected 2 fields, saw 4\\nSkipping line 120549: expected 2 fields, saw 3\\nSkipping line 120817: expected 2 fields, saw 4\\nSkipping line 120869: expected 2 fields, saw 3\\nSkipping line 120931: expected 2 fields, saw 3\\nSkipping line 121089: expected 2 fields, saw 3\\nSkipping line 121363: expected 2 fields, saw 3\\nSkipping line 121480: expected 2 fields, saw 3\\nSkipping line 121498: expected 2 fields, saw 3\\nSkipping line 121618: expected 2 fields, saw 3\\nSkipping line 121837: expected 2 fields, saw 3\\nSkipping line 122129: expected 2 fields, saw 3\\nSkipping line 122428: expected 2 fields, saw 3\\nSkipping line 122887: expected 2 fields, saw 5\\nSkipping line 122946: expected 2 fields, saw 3\\nSkipping line 122959: expected 2 fields, saw 3\\nSkipping line 123016: expected 2 fields, saw 4\\nSkipping line 123070: expected 2 fields, saw 3\\nSkipping line 123302: expected 2 fields, saw 3\\nSkipping line 123385: expected 2 fields, saw 3\\nSkipping line 123655: expected 2 fields, saw 3\\nSkipping line 123661: expected 2 fields, saw 4\\nSkipping line 123833: expected 2 fields, saw 3\\nSkipping line 123972: expected 2 fields, saw 5\\nSkipping line 124261: expected 2 fields, saw 5\\nSkipping line 124369: expected 2 fields, saw 3\\nSkipping line 124430: expected 2 fields, saw 3\\nSkipping line 124757: expected 2 fields, saw 3\\nSkipping line 124832: expected 2 fields, saw 5\\nSkipping line 124855: expected 2 fields, saw 5\\nSkipping line 124978: expected 2 fields, saw 3\\nSkipping line 125151: expected 2 fields, saw 4\\nSkipping line 125307: expected 2 fields, saw 3\\nSkipping line 125308: expected 2 fields, saw 4\\nSkipping line 125586: expected 2 fields, saw 3\\nSkipping line 125686: expected 2 fields, saw 3\\nSkipping line 125701: expected 2 fields, saw 3\\nSkipping line 125770: expected 2 fields, saw 4\\nSkipping line 125814: expected 2 fields, saw 4\\nSkipping line 125840: expected 2 fields, saw 4\\nSkipping line 125856: expected 2 fields, saw 4\\nSkipping line 125940: expected 2 fields, saw 4\\nSkipping line 126147: expected 2 fields, saw 4\\nSkipping line 126202: expected 2 fields, saw 4\\nSkipping line 126370: expected 2 fields, saw 3\\nSkipping line 126519: expected 2 fields, saw 3\\nSkipping line 126570: expected 2 fields, saw 3\\nSkipping line 126616: expected 2 fields, saw 3\\nSkipping line 126752: expected 2 fields, saw 5\\nSkipping line 126817: expected 2 fields, saw 3\\nSkipping line 126819: expected 2 fields, saw 3\\nSkipping line 126953: expected 2 fields, saw 3\\nSkipping line 127218: expected 2 fields, saw 3\\nSkipping line 127338: expected 2 fields, saw 4\\nSkipping line 127371: expected 2 fields, saw 4\\nSkipping line 127577: expected 2 fields, saw 3\\nSkipping line 127648: expected 2 fields, saw 3\\nSkipping line 127694: expected 2 fields, saw 3\\nSkipping line 127839: expected 2 fields, saw 3\\nSkipping line 127944: expected 2 fields, saw 3\\nSkipping line 127955: expected 2 fields, saw 3\\nSkipping line 128065: expected 2 fields, saw 3\\nSkipping line 128168: expected 2 fields, saw 3\\nSkipping line 128211: expected 2 fields, saw 3\\nSkipping line 128257: expected 2 fields, saw 3\\nSkipping line 128421: expected 2 fields, saw 3\\nSkipping line 128514: expected 2 fields, saw 3\\nSkipping line 128577: expected 2 fields, saw 3\\nSkipping line 128710: expected 2 fields, saw 3\\nSkipping line 128850: expected 2 fields, saw 4\\nSkipping line 128916: expected 2 fields, saw 3\\nSkipping line 128932: expected 2 fields, saw 4\\nSkipping line 129328: expected 2 fields, saw 3\\nSkipping line 129342: expected 2 fields, saw 4\\nSkipping line 129360: expected 2 fields, saw 4\\nSkipping line 129527: expected 2 fields, saw 5\\nSkipping line 129596: expected 2 fields, saw 3\\nSkipping line 129630: expected 2 fields, saw 3\\nSkipping line 129724: expected 2 fields, saw 3\\nSkipping line 129855: expected 2 fields, saw 4\\nSkipping line 130005: expected 2 fields, saw 5\\nSkipping line 130065: expected 2 fields, saw 3\\nSkipping line 130127: expected 2 fields, saw 4\\nSkipping line 130225: expected 2 fields, saw 3\\nSkipping line 130235: expected 2 fields, saw 4\\nSkipping line 130331: expected 2 fields, saw 3\\nSkipping line 130360: expected 2 fields, saw 3\\nSkipping line 130530: expected 2 fields, saw 3\\nSkipping line 130634: expected 2 fields, saw 4\\nSkipping line 130645: expected 2 fields, saw 3\\nSkipping line 130646: expected 2 fields, saw 3\\nSkipping line 130886: expected 2 fields, saw 3\\nSkipping line 130933: expected 2 fields, saw 3\\nSkipping line 131060: expected 2 fields, saw 5\\nSkipping line 131195: expected 2 fields, saw 3\\nSkipping line 131238: expected 2 fields, saw 3\\nSkipping line 131293: expected 2 fields, saw 4\\nSkipping line 131349: expected 2 fields, saw 3\\nSkipping line 131426: expected 2 fields, saw 3\\nSkipping line 131579: expected 2 fields, saw 3\\nSkipping line 131768: expected 2 fields, saw 4\\nSkipping line 131968: expected 2 fields, saw 3\\nSkipping line 132135: expected 2 fields, saw 4\\nSkipping line 132190: expected 2 fields, saw 4\\nSkipping line 132220: expected 2 fields, saw 3\\nSkipping line 132306: expected 2 fields, saw 3\\nSkipping line 132449: expected 2 fields, saw 3\\nSkipping line 132452: expected 2 fields, saw 3\\nSkipping line 132824: expected 2 fields, saw 3\\nSkipping line 132834: expected 2 fields, saw 3\\nSkipping line 132849: expected 2 fields, saw 3\\nSkipping line 132881: expected 2 fields, saw 4\\nSkipping line 133168: expected 2 fields, saw 3\\nSkipping line 133400: expected 2 fields, saw 4\\nSkipping line 133656: expected 2 fields, saw 3\\nSkipping line 133790: expected 2 fields, saw 3\\nSkipping line 133864: expected 2 fields, saw 3\\nSkipping line 133866: expected 2 fields, saw 6\\nSkipping line 133960: expected 2 fields, saw 3\\nSkipping line 134092: expected 2 fields, saw 3\\nSkipping line 134096: expected 2 fields, saw 4\\nSkipping line 134193: expected 2 fields, saw 3\\nSkipping line 134271: expected 2 fields, saw 3\\nSkipping line 134341: expected 2 fields, saw 4\\nSkipping line 134496: expected 2 fields, saw 4\\nSkipping line 134681: expected 2 fields, saw 3\\nSkipping line 134729: expected 2 fields, saw 3\\nSkipping line 134984: expected 2 fields, saw 4\\nSkipping line 135015: expected 2 fields, saw 3\\nSkipping line 135027: expected 2 fields, saw 3\\nSkipping line 135204: expected 2 fields, saw 3\\nSkipping line 135205: expected 2 fields, saw 3\\nSkipping line 135212: expected 2 fields, saw 4\\nSkipping line 135358: expected 2 fields, saw 3\\nSkipping line 135451: expected 2 fields, saw 3\\nSkipping line 135574: expected 2 fields, saw 3\\nSkipping line 135606: expected 2 fields, saw 3\\nSkipping line 135762: expected 2 fields, saw 3\\nSkipping line 135974: expected 2 fields, saw 4\\nSkipping line 135979: expected 2 fields, saw 3\\nSkipping line 136056: expected 2 fields, saw 3\\nSkipping line 136267: expected 2 fields, saw 4\\nSkipping line 136687: expected 2 fields, saw 6\\nSkipping line 136704: expected 2 fields, saw 3\\nSkipping line 137039: expected 2 fields, saw 4\\nSkipping line 137439: expected 2 fields, saw 3\\nSkipping line 137509: expected 2 fields, saw 3\\nSkipping line 137584: expected 2 fields, saw 3\\nSkipping line 137621: expected 2 fields, saw 3\\nSkipping line 137753: expected 2 fields, saw 4\\nSkipping line 137933: expected 2 fields, saw 3\\nSkipping line 137955: expected 2 fields, saw 5\\nSkipping line 138101: expected 2 fields, saw 3\\nSkipping line 138181: expected 2 fields, saw 3\\nSkipping line 138204: expected 2 fields, saw 3\\nSkipping line 138279: expected 2 fields, saw 3\\nSkipping line 138525: expected 2 fields, saw 3\\nSkipping line 138907: expected 2 fields, saw 3\\nSkipping line 138973: expected 2 fields, saw 4\\nSkipping line 139391: expected 2 fields, saw 3\\nSkipping line 139440: expected 2 fields, saw 3\\nSkipping line 139550: expected 2 fields, saw 3\\nSkipping line 139613: expected 2 fields, saw 3\\nSkipping line 139653: expected 2 fields, saw 3\\nSkipping line 139677: expected 2 fields, saw 5\\nSkipping line 139827: expected 2 fields, saw 5\\nSkipping line 139863: expected 2 fields, saw 3\\nSkipping line 140112: expected 2 fields, saw 4\\nSkipping line 140132: expected 2 fields, saw 3\\nSkipping line 140363: expected 2 fields, saw 3\\nSkipping line 140420: expected 2 fields, saw 4\\nSkipping line 140584: expected 2 fields, saw 3\\nSkipping line 140860: expected 2 fields, saw 3\\nSkipping line 140942: expected 2 fields, saw 3\\nSkipping line 140951: expected 2 fields, saw 3\\nSkipping line 141041: expected 2 fields, saw 4\\nSkipping line 141092: expected 2 fields, saw 4\\nSkipping line 141136: expected 2 fields, saw 3\\nSkipping line 141490: expected 2 fields, saw 3\\nSkipping line 141504: expected 2 fields, saw 3\\nSkipping line 141543: expected 2 fields, saw 5\\nSkipping line 141658: expected 2 fields, saw 3\\nSkipping line 141696: expected 2 fields, saw 3\\nSkipping line 142044: expected 2 fields, saw 3\\nSkipping line 142089: expected 2 fields, saw 3\\nSkipping line 142146: expected 2 fields, saw 3\\nSkipping line 142186: expected 2 fields, saw 3\\nSkipping line 142324: expected 2 fields, saw 4\\nSkipping line 142366: expected 2 fields, saw 3\\nSkipping line 142561: expected 2 fields, saw 3\\nSkipping line 142584: expected 2 fields, saw 3\\nSkipping line 142686: expected 2 fields, saw 4\\nSkipping line 142792: expected 2 fields, saw 4\\nSkipping line 142802: expected 2 fields, saw 3\\nSkipping line 142924: expected 2 fields, saw 3\\nSkipping line 142931: expected 2 fields, saw 3\\nSkipping line 142955: expected 2 fields, saw 3\\nSkipping line 142990: expected 2 fields, saw 3\\nSkipping line 143227: expected 2 fields, saw 3\\nSkipping line 143408: expected 2 fields, saw 3\\nSkipping line 143448: expected 2 fields, saw 3\\nSkipping line 143490: expected 2 fields, saw 3\\nSkipping line 143741: expected 2 fields, saw 4\\nSkipping line 143774: expected 2 fields, saw 3\\nSkipping line 143841: expected 2 fields, saw 3\\nSkipping line 144004: expected 2 fields, saw 3\\nSkipping line 144025: expected 2 fields, saw 3\\nSkipping line 144035: expected 2 fields, saw 3\\nSkipping line 144111: expected 2 fields, saw 3\\nSkipping line 144364: expected 2 fields, saw 3\\nSkipping line 144549: expected 2 fields, saw 3\\nSkipping line 144687: expected 2 fields, saw 3\\nSkipping line 144828: expected 2 fields, saw 3\\nSkipping line 144853: expected 2 fields, saw 3\\nSkipping line 145149: expected 2 fields, saw 4\\nSkipping line 145160: expected 2 fields, saw 3\\nSkipping line 145205: expected 2 fields, saw 3\\nSkipping line 145211: expected 2 fields, saw 3\\nSkipping line 145215: expected 2 fields, saw 6\\nSkipping line 145329: expected 2 fields, saw 3\\nSkipping line 145589: expected 2 fields, saw 3\\nSkipping line 145608: expected 2 fields, saw 3\\nSkipping line 146079: expected 2 fields, saw 4\\nSkipping line 146155: expected 2 fields, saw 4\\nSkipping line 146177: expected 2 fields, saw 3\\nSkipping line 146301: expected 2 fields, saw 3\\nSkipping line 146320: expected 2 fields, saw 3\\nSkipping line 146502: expected 2 fields, saw 3\\nSkipping line 146600: expected 2 fields, saw 3\\nSkipping line 146665: expected 2 fields, saw 4\\nSkipping line 146744: expected 2 fields, saw 4\\nSkipping line 146773: expected 2 fields, saw 3\\nSkipping line 147149: expected 2 fields, saw 3\\nSkipping line 147164: expected 2 fields, saw 3\\nSkipping line 147203: expected 2 fields, saw 3\\nSkipping line 147222: expected 2 fields, saw 3\\nSkipping line 147235: expected 2 fields, saw 3\\nSkipping line 147511: expected 2 fields, saw 3\\nSkipping line 147998: expected 2 fields, saw 3\\nSkipping line 148444: expected 2 fields, saw 3\\nSkipping line 148465: expected 2 fields, saw 3\\nSkipping line 148798: expected 2 fields, saw 3\\nSkipping line 149137: expected 2 fields, saw 3\\nSkipping line 149227: expected 2 fields, saw 3\\nSkipping line 149398: expected 2 fields, saw 3\\nSkipping line 149636: expected 2 fields, saw 4\\nSkipping line 149765: expected 2 fields, saw 4\\nSkipping line 149936: expected 2 fields, saw 3\\nSkipping line 150001: expected 2 fields, saw 3\\nSkipping line 150181: expected 2 fields, saw 3\\nSkipping line 150293: expected 2 fields, saw 3\\nSkipping line 150301: expected 2 fields, saw 3\\nSkipping line 150338: expected 2 fields, saw 3\\nSkipping line 150354: expected 2 fields, saw 4\\nSkipping line 150456: expected 2 fields, saw 3\\nSkipping line 150513: expected 2 fields, saw 3\\nSkipping line 150575: expected 2 fields, saw 3\\nSkipping line 150685: expected 2 fields, saw 3\\nSkipping line 150796: expected 2 fields, saw 3\\nSkipping line 150924: expected 2 fields, saw 3\\nSkipping line 151014: expected 2 fields, saw 3\\nSkipping line 151168: expected 2 fields, saw 4\\nSkipping line 151178: expected 2 fields, saw 3\\nSkipping line 151220: expected 2 fields, saw 3\\nSkipping line 151259: expected 2 fields, saw 4\\nSkipping line 151377: expected 2 fields, saw 3\\nSkipping line 151397: expected 2 fields, saw 3\\nSkipping line 151408: expected 2 fields, saw 3\\nSkipping line 151465: expected 2 fields, saw 3\\nSkipping line 151628: expected 2 fields, saw 4\\nSkipping line 151712: expected 2 fields, saw 3\\nSkipping line 151799: expected 2 fields, saw 3\\nSkipping line 152002: expected 2 fields, saw 4\\nSkipping line 152003: expected 2 fields, saw 3\\nSkipping line 152005: expected 2 fields, saw 5\\nSkipping line 152430: expected 2 fields, saw 3\\nSkipping line 152452: expected 2 fields, saw 3\\nSkipping line 152635: expected 2 fields, saw 4\\nSkipping line 152989: expected 2 fields, saw 4\\nSkipping line 153376: expected 2 fields, saw 3\\nSkipping line 153415: expected 2 fields, saw 3\\nSkipping line 153634: expected 2 fields, saw 3\\nSkipping line 153646: expected 2 fields, saw 3\\nSkipping line 153680: expected 2 fields, saw 3\\nSkipping line 153683: expected 2 fields, saw 4\\nSkipping line 153686: expected 2 fields, saw 3\\nSkipping line 153850: expected 2 fields, saw 3\\nSkipping line 153983: expected 2 fields, saw 3\\nSkipping line 154103: expected 2 fields, saw 3\\nSkipping line 154110: expected 2 fields, saw 3\\nSkipping line 154126: expected 2 fields, saw 4\\nSkipping line 154152: expected 2 fields, saw 4\\nSkipping line 154239: expected 2 fields, saw 4\\nSkipping line 154295: expected 2 fields, saw 4\\nSkipping line 154322: expected 2 fields, saw 4\\nSkipping line 154334: expected 2 fields, saw 3\\nSkipping line 154437: expected 2 fields, saw 3\\nSkipping line 154505: expected 2 fields, saw 3\\nSkipping line 154507: expected 2 fields, saw 3\\nSkipping line 154510: expected 2 fields, saw 3\\nSkipping line 154636: expected 2 fields, saw 3\\nSkipping line 154688: expected 2 fields, saw 3\\nSkipping line 154702: expected 2 fields, saw 4\\nSkipping line 154834: expected 2 fields, saw 3\\nSkipping line 154930: expected 2 fields, saw 4\\nSkipping line 155060: expected 2 fields, saw 4\\nSkipping line 155065: expected 2 fields, saw 3\\nSkipping line 155085: expected 2 fields, saw 4\\nSkipping line 155100: expected 2 fields, saw 3\\nSkipping line 155137: expected 2 fields, saw 3\\nSkipping line 155201: expected 2 fields, saw 7\\nSkipping line 155250: expected 2 fields, saw 3\\nSkipping line 155255: expected 2 fields, saw 3\\nSkipping line 155288: expected 2 fields, saw 3\\nSkipping line 155336: expected 2 fields, saw 3\\nSkipping line 155346: expected 2 fields, saw 4\\nSkipping line 155360: expected 2 fields, saw 3\\nSkipping line 155367: expected 2 fields, saw 4\\nSkipping line 155659: expected 2 fields, saw 4\\nSkipping line 155792: expected 2 fields, saw 4\\nSkipping line 156045: expected 2 fields, saw 4\\nSkipping line 156094: expected 2 fields, saw 3\\nSkipping line 156339: expected 2 fields, saw 3\\nSkipping line 156589: expected 2 fields, saw 4\\nSkipping line 156615: expected 2 fields, saw 5\\nSkipping line 156725: expected 2 fields, saw 3\\nSkipping line 156735: expected 2 fields, saw 3\\nSkipping line 156879: expected 2 fields, saw 4\\nSkipping line 157054: expected 2 fields, saw 4\\nSkipping line 157075: expected 2 fields, saw 4\\nSkipping line 157127: expected 2 fields, saw 3\\nSkipping line 157162: expected 2 fields, saw 3\\nSkipping line 157166: expected 2 fields, saw 4\\nSkipping line 157419: expected 2 fields, saw 3\\nSkipping line 157534: expected 2 fields, saw 3\\nSkipping line 157700: expected 2 fields, saw 3\\nSkipping line 157814: expected 2 fields, saw 3\\nSkipping line 157995: expected 2 fields, saw 4\\nSkipping line 158062: expected 2 fields, saw 3\\nSkipping line 158251: expected 2 fields, saw 3\\nSkipping line 158395: expected 2 fields, saw 3\\nSkipping line 158596: expected 2 fields, saw 3\\nSkipping line 158644: expected 2 fields, saw 3\\nSkipping line 158665: expected 2 fields, saw 3\\nSkipping line 158773: expected 2 fields, saw 3\\nSkipping line 158884: expected 2 fields, saw 3\\nSkipping line 159141: expected 2 fields, saw 3\\nSkipping line 159255: expected 2 fields, saw 3\\nSkipping line 159356: expected 2 fields, saw 3\\nSkipping line 159487: expected 2 fields, saw 3\\nSkipping line 159521: expected 2 fields, saw 3\\nSkipping line 159642: expected 2 fields, saw 3\\nSkipping line 159872: expected 2 fields, saw 3\\nSkipping line 159893: expected 2 fields, saw 3\\nSkipping line 159920: expected 2 fields, saw 3\\nSkipping line 160070: expected 2 fields, saw 3\\nSkipping line 160231: expected 2 fields, saw 3\\nSkipping line 160558: expected 2 fields, saw 3\\nSkipping line 160633: expected 2 fields, saw 3\\nSkipping line 160701: expected 2 fields, saw 4\\nSkipping line 160791: expected 2 fields, saw 4\\nSkipping line 161067: expected 2 fields, saw 3\\nSkipping line 161208: expected 2 fields, saw 3\\nSkipping line 161506: expected 2 fields, saw 4\\nSkipping line 161529: expected 2 fields, saw 4\\nSkipping line 161955: expected 2 fields, saw 4\\nSkipping line 162003: expected 2 fields, saw 4\\nSkipping line 162038: expected 2 fields, saw 3\\nSkipping line 162133: expected 2 fields, saw 3\\nSkipping line 162176: expected 2 fields, saw 3\\nSkipping line 162185: expected 2 fields, saw 3\\nSkipping line 162248: expected 2 fields, saw 5\\nSkipping line 162353: expected 2 fields, saw 3\\nSkipping line 162364: expected 2 fields, saw 4\\nSkipping line 162383: expected 2 fields, saw 3\\nSkipping line 162478: expected 2 fields, saw 4\\nSkipping line 162596: expected 2 fields, saw 3\\nSkipping line 162729: expected 2 fields, saw 4\\nSkipping line 162787: expected 2 fields, saw 3\\nSkipping line 162910: expected 2 fields, saw 3\\nSkipping line 163035: expected 2 fields, saw 3\\nSkipping line 163109: expected 2 fields, saw 3\\nSkipping line 163193: expected 2 fields, saw 4\\nSkipping line 163215: expected 2 fields, saw 3\\nSkipping line 163409: expected 2 fields, saw 6\\nSkipping line 163485: expected 2 fields, saw 4\\nSkipping line 163495: expected 2 fields, saw 3\\nSkipping line 163535: expected 2 fields, saw 4\\nSkipping line 163593: expected 2 fields, saw 4\\nSkipping line 163689: expected 2 fields, saw 3\\nSkipping line 163690: expected 2 fields, saw 4\\nSkipping line 163694: expected 2 fields, saw 3\\nSkipping line 163711: expected 2 fields, saw 3\\nSkipping line 163771: expected 2 fields, saw 5\\nSkipping line 163818: expected 2 fields, saw 3\\nSkipping line 163922: expected 2 fields, saw 3\\nSkipping line 163937: expected 2 fields, saw 4\\nSkipping line 163974: expected 2 fields, saw 4\\nSkipping line 164050: expected 2 fields, saw 3\\nSkipping line 164183: expected 2 fields, saw 3\\nSkipping line 164216: expected 2 fields, saw 3\\nSkipping line 164238: expected 2 fields, saw 4\\nSkipping line 164270: expected 2 fields, saw 4\\nSkipping line 164362: expected 2 fields, saw 4\\nSkipping line 164534: expected 2 fields, saw 3\\nSkipping line 164644: expected 2 fields, saw 3\\nSkipping line 164665: expected 2 fields, saw 3\\nSkipping line 164776: expected 2 fields, saw 3\\nSkipping line 164865: expected 2 fields, saw 4\\nSkipping line 165154: expected 2 fields, saw 3\\nSkipping line 165182: expected 2 fields, saw 4\\nSkipping line 165323: expected 2 fields, saw 3\\nSkipping line 165330: expected 2 fields, saw 3\\nSkipping line 165413: expected 2 fields, saw 3\\nSkipping line 165784: expected 2 fields, saw 3\\nSkipping line 165788: expected 2 fields, saw 3\\nSkipping line 165911: expected 2 fields, saw 3\\nSkipping line 166325: expected 2 fields, saw 3\\nSkipping line 166352: expected 2 fields, saw 3\\nSkipping line 166422: expected 2 fields, saw 4\\nSkipping line 166453: expected 2 fields, saw 3\\nSkipping line 166478: expected 2 fields, saw 3\\nSkipping line 167049: expected 2 fields, saw 3\\nSkipping line 167210: expected 2 fields, saw 3\\nSkipping line 167255: expected 2 fields, saw 3\\nSkipping line 167287: expected 2 fields, saw 3\\nSkipping line 167863: expected 2 fields, saw 4\\nSkipping line 167922: expected 2 fields, saw 3\\nSkipping line 168080: expected 2 fields, saw 4\\nSkipping line 168190: expected 2 fields, saw 5\\nSkipping line 168195: expected 2 fields, saw 3\\nSkipping line 168198: expected 2 fields, saw 3\\nSkipping line 168305: expected 2 fields, saw 3\\nSkipping line 168318: expected 2 fields, saw 3\\nSkipping line 168423: expected 2 fields, saw 5\\nSkipping line 168559: expected 2 fields, saw 3\\nSkipping line 168579: expected 2 fields, saw 3\\nSkipping line 168687: expected 2 fields, saw 3\\nSkipping line 168952: expected 2 fields, saw 3\\nSkipping line 169001: expected 2 fields, saw 3\\nSkipping line 169072: expected 2 fields, saw 3\\nSkipping line 169248: expected 2 fields, saw 3\\nSkipping line 169256: expected 2 fields, saw 3\\nSkipping line 169362: expected 2 fields, saw 3\\nSkipping line 169526: expected 2 fields, saw 3\\nSkipping line 169601: expected 2 fields, saw 3\\nSkipping line 169621: expected 2 fields, saw 3\\nSkipping line 169672: expected 2 fields, saw 4\\nSkipping line 169683: expected 2 fields, saw 3\\nSkipping line 169686: expected 2 fields, saw 4\\nSkipping line 169889: expected 2 fields, saw 3\\nSkipping line 169922: expected 2 fields, saw 3\\nSkipping line 169924: expected 2 fields, saw 3\\nSkipping line 170002: expected 2 fields, saw 4\\nSkipping line 170196: expected 2 fields, saw 4\\nSkipping line 170198: expected 2 fields, saw 5\\nSkipping line 170240: expected 2 fields, saw 3\\nSkipping line 170405: expected 2 fields, saw 3\\nSkipping line 170554: expected 2 fields, saw 3\\nSkipping line 170694: expected 2 fields, saw 3\\nSkipping line 170712: expected 2 fields, saw 3\\nSkipping line 170755: expected 2 fields, saw 5\\nSkipping line 170800: expected 2 fields, saw 3\\nSkipping line 170828: expected 2 fields, saw 3\\nSkipping line 170866: expected 2 fields, saw 3\\nSkipping line 171380: expected 2 fields, saw 4\\nSkipping line 171426: expected 2 fields, saw 4\\nSkipping line 171437: expected 2 fields, saw 4\\nSkipping line 171440: expected 2 fields, saw 4\\nSkipping line 171475: expected 2 fields, saw 3\\nSkipping line 171569: expected 2 fields, saw 3\\nSkipping line 171906: expected 2 fields, saw 4\\nSkipping line 172048: expected 2 fields, saw 3\\nSkipping line 172058: expected 2 fields, saw 4\\nSkipping line 172442: expected 2 fields, saw 3\\nSkipping line 172559: expected 2 fields, saw 3\\nSkipping line 172597: expected 2 fields, saw 3\\nSkipping line 172648: expected 2 fields, saw 4\\nSkipping line 173262: expected 2 fields, saw 3\\nSkipping line 173304: expected 2 fields, saw 4\\nSkipping line 173362: expected 2 fields, saw 3\\nSkipping line 173456: expected 2 fields, saw 4\\nSkipping line 173466: expected 2 fields, saw 4\\nSkipping line 173480: expected 2 fields, saw 3\\nSkipping line 173582: expected 2 fields, saw 4\\nSkipping line 173668: expected 2 fields, saw 3\\nSkipping line 173711: expected 2 fields, saw 3\\nSkipping line 173869: expected 2 fields, saw 3\\nSkipping line 173902: expected 2 fields, saw 4\\nSkipping line 173909: expected 2 fields, saw 5\\nSkipping line 173960: expected 2 fields, saw 3\\nSkipping line 174030: expected 2 fields, saw 4\\nSkipping line 174065: expected 2 fields, saw 4\\nSkipping line 174335: expected 2 fields, saw 3\\nSkipping line 174355: expected 2 fields, saw 4\\nSkipping line 174568: expected 2 fields, saw 3\\nSkipping line 174822: expected 2 fields, saw 3\\nSkipping line 175158: expected 2 fields, saw 3\\nSkipping line 175183: expected 2 fields, saw 3\\nSkipping line 175206: expected 2 fields, saw 4\\nSkipping line 175281: expected 2 fields, saw 4\\nSkipping line 175346: expected 2 fields, saw 3\\nSkipping line 175401: expected 2 fields, saw 3\\nSkipping line 175534: expected 2 fields, saw 3\\nSkipping line 175538: expected 2 fields, saw 3\\nSkipping line 175551: expected 2 fields, saw 4\\nSkipping line 175588: expected 2 fields, saw 3\\nSkipping line 175597: expected 2 fields, saw 4\\nSkipping line 175665: expected 2 fields, saw 3\\nSkipping line 175670: expected 2 fields, saw 3\\nSkipping line 175733: expected 2 fields, saw 3\\nSkipping line 175899: expected 2 fields, saw 3\\nSkipping line 175962: expected 2 fields, saw 3\\nSkipping line 175984: expected 2 fields, saw 6\\nSkipping line 176144: expected 2 fields, saw 3\\nSkipping line 176157: expected 2 fields, saw 4\\nSkipping line 176278: expected 2 fields, saw 3\\nSkipping line 176299: expected 2 fields, saw 3\\nSkipping line 176412: expected 2 fields, saw 4\\nSkipping line 176486: expected 2 fields, saw 3\\nSkipping line 176659: expected 2 fields, saw 5\\nSkipping line 176676: expected 2 fields, saw 3\\nSkipping line 176689: expected 2 fields, saw 3\\nSkipping line 176693: expected 2 fields, saw 4\\nSkipping line 176784: expected 2 fields, saw 3\\nSkipping line 176785: expected 2 fields, saw 3\\nSkipping line 176804: expected 2 fields, saw 3\\nSkipping line 176854: expected 2 fields, saw 4\\nSkipping line 176977: expected 2 fields, saw 3\\nSkipping line 177049: expected 2 fields, saw 5\\nSkipping line 177178: expected 2 fields, saw 3\\nSkipping line 177204: expected 2 fields, saw 4\\nSkipping line 177220: expected 2 fields, saw 3\\nSkipping line 177330: expected 2 fields, saw 7\\nSkipping line 177482: expected 2 fields, saw 5\\nSkipping line 177724: expected 2 fields, saw 3\\nSkipping line 177899: expected 2 fields, saw 3\\nSkipping line 177991: expected 2 fields, saw 4\\nSkipping line 178055: expected 2 fields, saw 3\\nSkipping line 178329: expected 2 fields, saw 3\\nSkipping line 178532: expected 2 fields, saw 3\\nSkipping line 178666: expected 2 fields, saw 4\\nSkipping line 178986: expected 2 fields, saw 4\\nSkipping line 179002: expected 2 fields, saw 3\\nSkipping line 179018: expected 2 fields, saw 6\\nSkipping line 179072: expected 2 fields, saw 4\\nSkipping line 179103: expected 2 fields, saw 3\\nSkipping line 179202: expected 2 fields, saw 3\\nSkipping line 179223: expected 2 fields, saw 3\\nSkipping line 179493: expected 2 fields, saw 3\\nSkipping line 179518: expected 2 fields, saw 3\\nSkipping line 179599: expected 2 fields, saw 5\\nSkipping line 179729: expected 2 fields, saw 3\\nSkipping line 179769: expected 2 fields, saw 3\\nSkipping line 180013: expected 2 fields, saw 3\\nSkipping line 180016: expected 2 fields, saw 3\\nSkipping line 180045: expected 2 fields, saw 3\\nSkipping line 180079: expected 2 fields, saw 3\\nSkipping line 180101: expected 2 fields, saw 4\\nSkipping line 180378: expected 2 fields, saw 3\\nSkipping line 180399: expected 2 fields, saw 3\\nSkipping line 180466: expected 2 fields, saw 3\\nSkipping line 180516: expected 2 fields, saw 3\\nSkipping line 180541: expected 2 fields, saw 3\\nSkipping line 180709: expected 2 fields, saw 6\\nSkipping line 180904: expected 2 fields, saw 5\\nSkipping line 180983: expected 2 fields, saw 5\\nSkipping line 180992: expected 2 fields, saw 3\\nSkipping line 181010: expected 2 fields, saw 4\\nSkipping line 181105: expected 2 fields, saw 3\\nSkipping line 181215: expected 2 fields, saw 3\\nSkipping line 181431: expected 2 fields, saw 4\\nSkipping line 181435: expected 2 fields, saw 3\\nSkipping line 181447: expected 2 fields, saw 3\\nSkipping line 181451: expected 2 fields, saw 3\\nSkipping line 181551: expected 2 fields, saw 3\\nSkipping line 181565: expected 2 fields, saw 3\\nSkipping line 181671: expected 2 fields, saw 3\\nSkipping line 181681: expected 2 fields, saw 3\\nSkipping line 181827: expected 2 fields, saw 3\\nSkipping line 181930: expected 2 fields, saw 3\\nSkipping line 181994: expected 2 fields, saw 3\\nSkipping line 182005: expected 2 fields, saw 4\\nSkipping line 182265: expected 2 fields, saw 3\\nSkipping line 182400: expected 2 fields, saw 3\\nSkipping line 182509: expected 2 fields, saw 3\\nSkipping line 182578: expected 2 fields, saw 3\\nSkipping line 182609: expected 2 fields, saw 3\\nSkipping line 182728: expected 2 fields, saw 3\\nSkipping line 182742: expected 2 fields, saw 3\\nSkipping line 182784: expected 2 fields, saw 3\\nSkipping line 182815: expected 2 fields, saw 3\\nSkipping line 182853: expected 2 fields, saw 4\\nSkipping line 183005: expected 2 fields, saw 3\\nSkipping line 183017: expected 2 fields, saw 3\\nSkipping line 183050: expected 2 fields, saw 3\\nSkipping line 183112: expected 2 fields, saw 3\\nSkipping line 183230: expected 2 fields, saw 3\\nSkipping line 183299: expected 2 fields, saw 3\\nSkipping line 183451: expected 2 fields, saw 3\\nSkipping line 183482: expected 2 fields, saw 3\\nSkipping line 183555: expected 2 fields, saw 4\\nSkipping line 183689: expected 2 fields, saw 4\\nSkipping line 183790: expected 2 fields, saw 4\\nSkipping line 183830: expected 2 fields, saw 4\\nSkipping line 183863: expected 2 fields, saw 3\\nSkipping line 183902: expected 2 fields, saw 3\\nSkipping line 183949: expected 2 fields, saw 4\\nSkipping line 183995: expected 2 fields, saw 6\\nSkipping line 184113: expected 2 fields, saw 4\\nSkipping line 184240: expected 2 fields, saw 3\\nSkipping line 184331: expected 2 fields, saw 3\\nSkipping line 184338: expected 2 fields, saw 3\\nSkipping line 184390: expected 2 fields, saw 3\\nSkipping line 184399: expected 2 fields, saw 3\\nSkipping line 184433: expected 2 fields, saw 6\\nSkipping line 184615: expected 2 fields, saw 3\\nSkipping line 184937: expected 2 fields, saw 3\\nSkipping line 184943: expected 2 fields, saw 3\\nSkipping line 185242: expected 2 fields, saw 3\\nSkipping line 185401: expected 2 fields, saw 3\\nSkipping line 185441: expected 2 fields, saw 4\\nSkipping line 185618: expected 2 fields, saw 3\\nSkipping line 185771: expected 2 fields, saw 3\\nSkipping line 185806: expected 2 fields, saw 3\\nSkipping line 185856: expected 2 fields, saw 4\\nSkipping line 185960: expected 2 fields, saw 3\\nSkipping line 185999: expected 2 fields, saw 4\\nSkipping line 186005: expected 2 fields, saw 4\\nSkipping line 186079: expected 2 fields, saw 3\\nSkipping line 186276: expected 2 fields, saw 3\\nSkipping line 186433: expected 2 fields, saw 3\\nSkipping line 186761: expected 2 fields, saw 3\\nSkipping line 186766: expected 2 fields, saw 3\\nSkipping line 186814: expected 2 fields, saw 3\\nSkipping line 187224: expected 2 fields, saw 4\\nSkipping line 187271: expected 2 fields, saw 4\\nSkipping line 187278: expected 2 fields, saw 5\\nSkipping line 187521: expected 2 fields, saw 3\\nSkipping line 187631: expected 2 fields, saw 3\\nSkipping line 187743: expected 2 fields, saw 3\\nSkipping line 187838: expected 2 fields, saw 3\\nSkipping line 187885: expected 2 fields, saw 3\\nSkipping line 187905: expected 2 fields, saw 3\\nSkipping line 187906: expected 2 fields, saw 6\\nSkipping line 188170: expected 2 fields, saw 3\\nSkipping line 188198: expected 2 fields, saw 3\\nSkipping line 188247: expected 2 fields, saw 3\\nSkipping line 188276: expected 2 fields, saw 3\\nSkipping line 188428: expected 2 fields, saw 3\\nSkipping line 188479: expected 2 fields, saw 3\\nSkipping line 188627: expected 2 fields, saw 3\\nSkipping line 188673: expected 2 fields, saw 4\\nSkipping line 188945: expected 2 fields, saw 5\\nSkipping line 188968: expected 2 fields, saw 3\\nSkipping line 188997: expected 2 fields, saw 3\\nSkipping line 189142: expected 2 fields, saw 3\\nSkipping line 189144: expected 2 fields, saw 3\\nSkipping line 189341: expected 2 fields, saw 3\\nSkipping line 189607: expected 2 fields, saw 3\\nSkipping line 189611: expected 2 fields, saw 3\\nSkipping line 189624: expected 2 fields, saw 3\\nSkipping line 189892: expected 2 fields, saw 3\\nSkipping line 190192: expected 2 fields, saw 3\\nSkipping line 190466: expected 2 fields, saw 3\\nSkipping line 190505: expected 2 fields, saw 4\\nSkipping line 190532: expected 2 fields, saw 3\\nSkipping line 190549: expected 2 fields, saw 3\\nSkipping line 190627: expected 2 fields, saw 4\\nSkipping line 190763: expected 2 fields, saw 4\\nSkipping line 190827: expected 2 fields, saw 3\\nSkipping line 191009: expected 2 fields, saw 4\\nSkipping line 191117: expected 2 fields, saw 4\\nSkipping line 191148: expected 2 fields, saw 3\\nSkipping line 191304: expected 2 fields, saw 3\\nSkipping line 191347: expected 2 fields, saw 3\\nSkipping line 191391: expected 2 fields, saw 4\\nSkipping line 191533: expected 2 fields, saw 3\\nSkipping line 191570: expected 2 fields, saw 3\\nSkipping line 191607: expected 2 fields, saw 5\\nSkipping line 191615: expected 2 fields, saw 3\\nSkipping line 191653: expected 2 fields, saw 3\\nSkipping line 191706: expected 2 fields, saw 3\\nSkipping line 191758: expected 2 fields, saw 3\\nSkipping line 191770: expected 2 fields, saw 3\\nSkipping line 192019: expected 2 fields, saw 3\\nSkipping line 192126: expected 2 fields, saw 3\\nSkipping line 192182: expected 2 fields, saw 3\\nSkipping line 192231: expected 2 fields, saw 4\\nSkipping line 192364: expected 2 fields, saw 3\\nSkipping line 192417: expected 2 fields, saw 4\\nSkipping line 192419: expected 2 fields, saw 3\\nSkipping line 192430: expected 2 fields, saw 4\\nSkipping line 192497: expected 2 fields, saw 4\\nSkipping line 192650: expected 2 fields, saw 3\\nSkipping line 192761: expected 2 fields, saw 3\\nSkipping line 192829: expected 2 fields, saw 3\\nSkipping line 192855: expected 2 fields, saw 4\\nSkipping line 192857: expected 2 fields, saw 3\\nSkipping line 192860: expected 2 fields, saw 3\\nSkipping line 192861: expected 2 fields, saw 4\\nSkipping line 192889: expected 2 fields, saw 3\\nSkipping line 192943: expected 2 fields, saw 4\\nSkipping line 193251: expected 2 fields, saw 3\\nSkipping line 193267: expected 2 fields, saw 3\\nSkipping line 193390: expected 2 fields, saw 3\\nSkipping line 193529: expected 2 fields, saw 3\\nSkipping line 193544: expected 2 fields, saw 3\\nSkipping line 193571: expected 2 fields, saw 3\\nSkipping line 193874: expected 2 fields, saw 3\\nSkipping line 193994: expected 2 fields, saw 3\\nSkipping line 194286: expected 2 fields, saw 3\\nSkipping line 194299: expected 2 fields, saw 3\\nSkipping line 194646: expected 2 fields, saw 5\\nSkipping line 194667: expected 2 fields, saw 3\\nSkipping line 194725: expected 2 fields, saw 3\\nSkipping line 194804: expected 2 fields, saw 3\\nSkipping line 194837: expected 2 fields, saw 5\\nSkipping line 194937: expected 2 fields, saw 3\\nSkipping line 195515: expected 2 fields, saw 3\\nSkipping line 195541: expected 2 fields, saw 3\\nSkipping line 195593: expected 2 fields, saw 3\\nSkipping line 195625: expected 2 fields, saw 3\\nSkipping line 195628: expected 2 fields, saw 3\\nSkipping line 195645: expected 2 fields, saw 3\\nSkipping line 195695: expected 2 fields, saw 3\\nSkipping line 195707: expected 2 fields, saw 4\\nSkipping line 195775: expected 2 fields, saw 3\\nSkipping line 195830: expected 2 fields, saw 4\\nSkipping line 195865: expected 2 fields, saw 4\\nSkipping line 195868: expected 2 fields, saw 4\\nSkipping line 196194: expected 2 fields, saw 3\\nSkipping line 196221: expected 2 fields, saw 3\\nSkipping line 196357: expected 2 fields, saw 4\\nSkipping line 196478: expected 2 fields, saw 3\\nSkipping line 196511: expected 2 fields, saw 3\\nSkipping line 196606: expected 2 fields, saw 3\\nSkipping line 196771: expected 2 fields, saw 3\\nSkipping line 196900: expected 2 fields, saw 4\\nSkipping line 196951: expected 2 fields, saw 3\\nSkipping line 196956: expected 2 fields, saw 3\\nSkipping line 197224: expected 2 fields, saw 4\\nSkipping line 197347: expected 2 fields, saw 3\\nSkipping line 197400: expected 2 fields, saw 3\\nSkipping line 197861: expected 2 fields, saw 3\\nSkipping line 198021: expected 2 fields, saw 3\\nSkipping line 198048: expected 2 fields, saw 3\\nSkipping line 198185: expected 2 fields, saw 3\\nSkipping line 198289: expected 2 fields, saw 3\\nSkipping line 198583: expected 2 fields, saw 3\\nSkipping line 198734: expected 2 fields, saw 3\\nSkipping line 198872: expected 2 fields, saw 5\\nSkipping line 198928: expected 2 fields, saw 3\\nSkipping line 198960: expected 2 fields, saw 3\\nSkipping line 199050: expected 2 fields, saw 3\\nSkipping line 199055: expected 2 fields, saw 3\\nSkipping line 199116: expected 2 fields, saw 3\\nSkipping line 199215: expected 2 fields, saw 3\\nSkipping line 199433: expected 2 fields, saw 4\\nSkipping line 199462: expected 2 fields, saw 3\\nSkipping line 199464: expected 2 fields, saw 3\\nSkipping line 199710: expected 2 fields, saw 3\\nSkipping line 199926: expected 2 fields, saw 3\\nSkipping line 199932: expected 2 fields, saw 4\\nSkipping line 200126: expected 2 fields, saw 4\\nSkipping line 200129: expected 2 fields, saw 3\\nSkipping line 200147: expected 2 fields, saw 3\\nSkipping line 200185: expected 2 fields, saw 4\\nSkipping line 200205: expected 2 fields, saw 4\\nSkipping line 200206: expected 2 fields, saw 4\\nSkipping line 200212: expected 2 fields, saw 4\\nSkipping line 200511: expected 2 fields, saw 3\\nSkipping line 200930: expected 2 fields, saw 3\\nSkipping line 200939: expected 2 fields, saw 3\\nSkipping line 201052: expected 2 fields, saw 3\\nSkipping line 201522: expected 2 fields, saw 4\\nSkipping line 201694: expected 2 fields, saw 4\\nSkipping line 201806: expected 2 fields, saw 4\\nSkipping line 201906: expected 2 fields, saw 3\\nSkipping line 201933: expected 2 fields, saw 3\\n'\n"
     ]
    }
   ],
   "source": [
    "# Some of the data outputted to csv from the MySQL database is corrupted; this skips it.\n",
    "file = '../../../Documents/First200K_tweets.csv'\n",
    "df = pd.read_csv(file, error_bad_lines=False)"
   ]
  },
  {
   "cell_type": "code",
   "execution_count": 28,
   "metadata": {},
   "outputs": [
    {
     "data": {
      "text/html": [
       "<div>\n",
       "<style scoped>\n",
       "    .dataframe tbody tr th:only-of-type {\n",
       "        vertical-align: middle;\n",
       "    }\n",
       "\n",
       "    .dataframe tbody tr th {\n",
       "        vertical-align: top;\n",
       "    }\n",
       "\n",
       "    .dataframe thead th {\n",
       "        text-align: right;\n",
       "    }\n",
       "</style>\n",
       "<table border=\"1\" class=\"dataframe\">\n",
       "  <thead>\n",
       "    <tr style=\"text-align: right;\">\n",
       "      <th></th>\n",
       "      <th>tweet</th>\n",
       "      <th>location</th>\n",
       "    </tr>\n",
       "  </thead>\n",
       "  <tbody>\n",
       "    <tr>\n",
       "      <th>0</th>\n",
       "      <td>To each and every person celebrating this news...</td>\n",
       "      <td>Far From Home, WY</td>\n",
       "    </tr>\n",
       "    <tr>\n",
       "      <th>1</th>\n",
       "      <td>Fusco-Jackson died a day before her test for c...</td>\n",
       "      <td>NaN</td>\n",
       "    </tr>\n",
       "    <tr>\n",
       "      <th>2</th>\n",
       "      <td>And yet asymptomati… https://t.co/dUlngepDQV\"</td>\n",
       "      <td>North Dakota, USA</td>\n",
       "    </tr>\n",
       "    <tr>\n",
       "      <th>3</th>\n",
       "      <td>Coronavirus is one thing. We clearly can’t be ...</td>\n",
       "      <td>Sacramento, CA</td>\n",
       "    </tr>\n",
       "    <tr>\n",
       "      <th>4</th>\n",
       "      <td>With @ParentMail down, this also failed to be ...</td>\n",
       "      <td>Balham</td>\n",
       "    </tr>\n",
       "  </tbody>\n",
       "</table>\n",
       "</div>"
      ],
      "text/plain": [
       "                                               tweet           location\n",
       "0  To each and every person celebrating this news...  Far From Home, WY\n",
       "1  Fusco-Jackson died a day before her test for c...                NaN\n",
       "2      And yet asymptomati… https://t.co/dUlngepDQV\"  North Dakota, USA\n",
       "3  Coronavirus is one thing. We clearly can’t be ...     Sacramento, CA\n",
       "4  With @ParentMail down, this also failed to be ...             Balham"
      ]
     },
     "execution_count": 28,
     "metadata": {},
     "output_type": "execute_result"
    }
   ],
   "source": [
    "df.head()"
   ]
  },
  {
   "cell_type": "code",
   "execution_count": 29,
   "metadata": {},
   "outputs": [
    {
     "data": {
      "text/plain": [
       "199377"
      ]
     },
     "execution_count": 29,
     "metadata": {},
     "output_type": "execute_result"
    }
   ],
   "source": [
    "# 633 rows were not imported because of some kind of corruption in the data\n",
    "len(df)"
   ]
  },
  {
   "cell_type": "code",
   "execution_count": 37,
   "metadata": {},
   "outputs": [
    {
     "data": {
      "text/plain": [
       "'Fusco-Jackson died a day before her test for coronavirus came back positive Saturday evening\"'"
      ]
     },
     "execution_count": 37,
     "metadata": {},
     "output_type": "execute_result"
    }
   ],
   "source": [
    "# Taking a look at the full text of the second tweet\n",
    "df.iloc[1][0]"
   ]
  },
  {
   "cell_type": "markdown",
   "metadata": {},
   "source": [
    "# Dropping rows\n",
    "Since my goal is to correlate the tweet's content with its location, I'm dropping every row with no location listed."
   ]
  },
  {
   "cell_type": "code",
   "execution_count": 43,
   "metadata": {},
   "outputs": [],
   "source": [
    "df = df.dropna()"
   ]
  },
  {
   "cell_type": "code",
   "execution_count": 44,
   "metadata": {},
   "outputs": [
    {
     "data": {
      "text/plain": [
       "144545"
      ]
     },
     "execution_count": 44,
     "metadata": {},
     "output_type": "execute_result"
    }
   ],
   "source": [
    "# From the original 200K tweets, we're down to 144,545\n",
    "len(df)"
   ]
  },
  {
   "cell_type": "code",
   "execution_count": 273,
   "metadata": {},
   "outputs": [],
   "source": [
    "# Lowercasing eliminates spelling differences due to capitalization variance\n",
    "df.location = df.location.str.lower()"
   ]
  },
  {
   "cell_type": "code",
   "execution_count": 48,
   "metadata": {},
   "outputs": [
    {
     "data": {
      "text/html": [
       "<div>\n",
       "<style scoped>\n",
       "    .dataframe tbody tr th:only-of-type {\n",
       "        vertical-align: middle;\n",
       "    }\n",
       "\n",
       "    .dataframe tbody tr th {\n",
       "        vertical-align: top;\n",
       "    }\n",
       "\n",
       "    .dataframe thead th {\n",
       "        text-align: right;\n",
       "    }\n",
       "</style>\n",
       "<table border=\"1\" class=\"dataframe\">\n",
       "  <thead>\n",
       "    <tr style=\"text-align: right;\">\n",
       "      <th></th>\n",
       "      <th>tweet</th>\n",
       "      <th>location</th>\n",
       "    </tr>\n",
       "  </thead>\n",
       "  <tbody>\n",
       "    <tr>\n",
       "      <th>0</th>\n",
       "      <td>To each and every person celebrating this news...</td>\n",
       "      <td>far from home, wy</td>\n",
       "    </tr>\n",
       "    <tr>\n",
       "      <th>2</th>\n",
       "      <td>And yet asymptomati… https://t.co/dUlngepDQV\"</td>\n",
       "      <td>north dakota, usa</td>\n",
       "    </tr>\n",
       "    <tr>\n",
       "      <th>3</th>\n",
       "      <td>Coronavirus is one thing. We clearly can’t be ...</td>\n",
       "      <td>sacramento, ca</td>\n",
       "    </tr>\n",
       "    <tr>\n",
       "      <th>4</th>\n",
       "      <td>With @ParentMail down, this also failed to be ...</td>\n",
       "      <td>balham</td>\n",
       "    </tr>\n",
       "    <tr>\n",
       "      <th>5</th>\n",
       "      <td>I don’t understand why famous people who “ fee...</td>\n",
       "      <td>south jersey</td>\n",
       "    </tr>\n",
       "  </tbody>\n",
       "</table>\n",
       "</div>"
      ],
      "text/plain": [
       "                                               tweet           location\n",
       "0  To each and every person celebrating this news...  far from home, wy\n",
       "2      And yet asymptomati… https://t.co/dUlngepDQV\"  north dakota, usa\n",
       "3  Coronavirus is one thing. We clearly can’t be ...     sacramento, ca\n",
       "4  With @ParentMail down, this also failed to be ...             balham\n",
       "5  I don’t understand why famous people who “ fee...       south jersey"
      ]
     },
     "execution_count": 48,
     "metadata": {},
     "output_type": "execute_result"
    }
   ],
   "source": [
    "df.head()"
   ]
  },
  {
   "cell_type": "code",
   "execution_count": 61,
   "metadata": {},
   "outputs": [],
   "source": [
    "# Pandas 1.0 allows Series to be converted to string datatype for faster processing\n",
    "df = df.convert_dtypes()"
   ]
  },
  {
   "cell_type": "code",
   "execution_count": 62,
   "metadata": {},
   "outputs": [
    {
     "data": {
      "text/plain": [
       "StringDtype"
      ]
     },
     "execution_count": 62,
     "metadata": {},
     "output_type": "execute_result"
    }
   ],
   "source": [
    "df['tweet'].dtype"
   ]
  },
  {
   "cell_type": "code",
   "execution_count": 52,
   "metadata": {},
   "outputs": [
    {
     "data": {
      "text/html": [
       "<div>\n",
       "<style scoped>\n",
       "    .dataframe tbody tr th:only-of-type {\n",
       "        vertical-align: middle;\n",
       "    }\n",
       "\n",
       "    .dataframe tbody tr th {\n",
       "        vertical-align: top;\n",
       "    }\n",
       "\n",
       "    .dataframe thead th {\n",
       "        text-align: right;\n",
       "    }\n",
       "</style>\n",
       "<table border=\"1\" class=\"dataframe\">\n",
       "  <thead>\n",
       "    <tr style=\"text-align: right;\">\n",
       "      <th></th>\n",
       "      <th>tweet</th>\n",
       "      <th>location</th>\n",
       "    </tr>\n",
       "  </thead>\n",
       "  <tbody>\n",
       "    <tr>\n",
       "      <th>7</th>\n",
       "      <td>BREAKING NFL NEWS ⁦@CenTexBeat⁩  https://t.co/...</td>\n",
       "      <td>waco, tx</td>\n",
       "    </tr>\n",
       "    <tr>\n",
       "      <th>70</th>\n",
       "      <td>https://t.co/c1JEnxeJ5X Austin Area Food Bank\\...</td>\n",
       "      <td>texas, usa</td>\n",
       "    </tr>\n",
       "    <tr>\n",
       "      <th>121</th>\n",
       "      <td>This tweet takes on a whole new level of “pres...</td>\n",
       "      <td>texas</td>\n",
       "    </tr>\n",
       "    <tr>\n",
       "      <th>131</th>\n",
       "      <td>@DonaldJTrumpJr The media? So Trump tv aka Fox...</td>\n",
       "      <td>texas</td>\n",
       "    </tr>\n",
       "    <tr>\n",
       "      <th>168</th>\n",
       "      <td>Check it out y'all it's @TumaTime in the Obser...</td>\n",
       "      <td>tx</td>\n",
       "    </tr>\n",
       "    <tr>\n",
       "      <th>...</th>\n",
       "      <td>...</td>\n",
       "      <td>...</td>\n",
       "    </tr>\n",
       "    <tr>\n",
       "      <th>199152</th>\n",
       "      <td>+/- doubling every 2 days</td>\n",
       "      <td>k t boundary, tx</td>\n",
       "    </tr>\n",
       "    <tr>\n",
       "      <th>199182</th>\n",
       "      <td>Analysis | Trump’s eruption at an NBC reporter...</td>\n",
       "      <td>san antonio, tx</td>\n",
       "    </tr>\n",
       "    <tr>\n",
       "      <th>199273</th>\n",
       "      <td>Being quarantined while married gives you valu...</td>\n",
       "      <td>dallas, tx</td>\n",
       "    </tr>\n",
       "    <tr>\n",
       "      <th>199293</th>\n",
       "      <td>Mortality Rate of Coronavirus in US Slips to 1...</td>\n",
       "      <td>texas</td>\n",
       "    </tr>\n",
       "    <tr>\n",
       "      <th>199367</th>\n",
       "      <td>I felt like i was reading someone’s essay the ...</td>\n",
       "      <td>satx</td>\n",
       "    </tr>\n",
       "  </tbody>\n",
       "</table>\n",
       "<p>5629 rows × 2 columns</p>\n",
       "</div>"
      ],
      "text/plain": [
       "                                                    tweet          location\n",
       "7       BREAKING NFL NEWS ⁦@CenTexBeat⁩  https://t.co/...          waco, tx\n",
       "70      https://t.co/c1JEnxeJ5X Austin Area Food Bank\\...        texas, usa\n",
       "121     This tweet takes on a whole new level of “pres...             texas\n",
       "131     @DonaldJTrumpJr The media? So Trump tv aka Fox...             texas\n",
       "168     Check it out y'all it's @TumaTime in the Obser...                tx\n",
       "...                                                   ...               ...\n",
       "199152                          +/- doubling every 2 days  k t boundary, tx\n",
       "199182  Analysis | Trump’s eruption at an NBC reporter...   san antonio, tx\n",
       "199273  Being quarantined while married gives you valu...        dallas, tx\n",
       "199293  Mortality Rate of Coronavirus in US Slips to 1...             texas\n",
       "199367  I felt like i was reading someone’s essay the ...             satx \n",
       "\n",
       "[5629 rows x 2 columns]"
      ]
     },
     "execution_count": 52,
     "metadata": {},
     "output_type": "execute_result"
    }
   ],
   "source": [
    "# I was curious about how many of these 144,000 tweets claim a Texas location.\n",
    "# This cell outputs a dataframe of the tweets; its length is 5629 rows, a number I could\n",
    "# also obtain by wrapping the statement below in `len()`\n",
    "\n",
    "df[(df['location'].str.contains('texas'))|(df['location'].str.contains('tx'))]"
   ]
  },
  {
   "cell_type": "code",
   "execution_count": 279,
   "metadata": {},
   "outputs": [],
   "source": [
    "# Using Boolean methods, I can also get a count this way because False = 0 and True = 1\n",
    "df['location'].str.contains('texas').sum() + df['location'].str.contains('TX').sum()"
   ]
  },
  {
   "cell_type": "markdown",
   "metadata": {},
   "source": [
    "# Locations\n",
    "This will be the most time-consuming portion of data cleaning, and is something I'm working on elsewhere. The 39,662 unique locations below are actually many variant spellings and specificity of a smaller number of identical locations. Also, roughly 20% of people put a joke location like \"my kitchen\" as their current location. My goal is to condense location data to areas of different sizes, from large city to state/province to nation, when such information is available. \n",
    "\n",
    "For example, `df[199152]['location'] = 'k t boundary, tx'`. I'll re-classify that as Texas, USA. With `df[199273]['location'] = 'dallas, tx',` I can add additional information to classify it as Dallas, Texas, USA. For `df[199367]['location'] = 'satx'`, I'll have to decide how much work I want to put into decoding cities with common abbreviations such as San Antonio, Texas, USA, vs. just putting the state and nation, i.e., Texas, USA. In some cases, it may be useful to have city-level information when it's available. \n",
    "\n",
    "Additional exploratory analysis will be necessary."
   ]
  },
  {
   "cell_type": "code",
   "execution_count": 70,
   "metadata": {},
   "outputs": [
    {
     "data": {
      "text/plain": [
       "39662"
      ]
     },
     "execution_count": 70,
     "metadata": {},
     "output_type": "execute_result"
    }
   ],
   "source": [
    "# Unique locations\n",
    "df.location.nunique()"
   ]
  },
  {
   "cell_type": "markdown",
   "metadata": {},
   "source": [
    "# Cleaning Functions\n",
    "I'm using these so I can create extra columns in the dataframe and see if there's any correlation between these subsets of data and the location."
   ]
  },
  {
   "cell_type": "code",
   "execution_count": 266,
   "metadata": {},
   "outputs": [],
   "source": [
    "def no_urls(string):\n",
    "    \"\"\"\n",
    "    From a string, returns text that is cleaned of any URLs starting in 'http' or 'https'\n",
    "\n",
    "    \"\"\"\n",
    "    wordlist = string.split()\n",
    "    text = ' '.join(word for word in wordlist if not 'http' in word)\n",
    "    return text.lower()"
   ]
  },
  {
   "cell_type": "code",
   "execution_count": 276,
   "metadata": {},
   "outputs": [
    {
     "data": {
      "text/plain": [
       "'And yet asymptomati… https://t.co/dUlngepDQV\"'"
      ]
     },
     "execution_count": 276,
     "metadata": {},
     "output_type": "execute_result"
    }
   ],
   "source": [
    "# The 'before'\n",
    "df['tweet'][2]"
   ]
  },
  {
   "cell_type": "code",
   "execution_count": 275,
   "metadata": {},
   "outputs": [
    {
     "data": {
      "text/plain": [
       "'and yet asymptomati…'"
      ]
     },
     "execution_count": 275,
     "metadata": {},
     "output_type": "execute_result"
    }
   ],
   "source": [
    "# After\n",
    "no_urls(df['tweet'][2])"
   ]
  },
  {
   "cell_type": "code",
   "execution_count": 263,
   "metadata": {},
   "outputs": [],
   "source": [
    "def hashtags(string):\n",
    "    \"\"\"\n",
    "    From a string, returns any text that contains a hashtag\n",
    "\n",
    "    \"\"\"\n",
    "    wordlist = string.split()\n",
    "    text = ' '.join(word for word in wordlist if '#' in word)\n",
    "    return text.lower()"
   ]
  },
  {
   "cell_type": "code",
   "execution_count": 260,
   "metadata": {},
   "outputs": [],
   "source": [
    "def at_mention(string):\n",
    "    \"\"\"\n",
    "    From a string, returns any text that contains a @\n",
    "\n",
    "    \"\"\"\n",
    "    wordlist = string.split()\n",
    "    text = ' '.join(word for word in wordlist if '@' in word)\n",
    "    return text.lower()"
   ]
  },
  {
   "cell_type": "code",
   "execution_count": 238,
   "metadata": {},
   "outputs": [],
   "source": [
    "def cleaned_tweet(string):\n",
    "    \"\"\"\n",
    "    Removes URLs, hashtags, and @ mentions in tweets\n",
    "    \"\"\"\n",
    "    wordlist = string.split()\n",
    "    text = ' '.join(word for word in wordlist if 'http' not in word and '@' not in word and '#' not in word)\n",
    "    return text.lower()"
   ]
  },
  {
   "cell_type": "code",
   "execution_count": 268,
   "metadata": {},
   "outputs": [],
   "source": [
    "# The `apply` function lets me apply my function to every cell in the Pandas column\n",
    "df['no_url'] = df['tweet'].apply(no_urls)"
   ]
  },
  {
   "cell_type": "code",
   "execution_count": 264,
   "metadata": {},
   "outputs": [],
   "source": [
    "df['hashtags'] = df['tweet'].apply(hashtags)"
   ]
  },
  {
   "cell_type": "code",
   "execution_count": 261,
   "metadata": {},
   "outputs": [],
   "source": [
    "df['at_mention'] = df['tweet'].apply(at_mention)"
   ]
  },
  {
   "cell_type": "code",
   "execution_count": 239,
   "metadata": {},
   "outputs": [],
   "source": [
    "df['cleaned'] = df['tweet'].apply(cleaned_tweet)"
   ]
  },
  {
   "cell_type": "code",
   "execution_count": 265,
   "metadata": {},
   "outputs": [
    {
     "data": {
      "text/html": [
       "<div>\n",
       "<style scoped>\n",
       "    .dataframe tbody tr th:only-of-type {\n",
       "        vertical-align: middle;\n",
       "    }\n",
       "\n",
       "    .dataframe tbody tr th {\n",
       "        vertical-align: top;\n",
       "    }\n",
       "\n",
       "    .dataframe thead th {\n",
       "        text-align: right;\n",
       "    }\n",
       "</style>\n",
       "<table border=\"1\" class=\"dataframe\">\n",
       "  <thead>\n",
       "    <tr style=\"text-align: right;\">\n",
       "      <th></th>\n",
       "      <th>tweet</th>\n",
       "      <th>location</th>\n",
       "      <th>no_url</th>\n",
       "      <th>hashtags</th>\n",
       "      <th>at_mention</th>\n",
       "      <th>cleaned</th>\n",
       "    </tr>\n",
       "  </thead>\n",
       "  <tbody>\n",
       "    <tr>\n",
       "      <th>0</th>\n",
       "      <td>To each and every person celebrating this news...</td>\n",
       "      <td>far from home, wy</td>\n",
       "      <td>To each and every person celebrating this news...</td>\n",
       "      <td></td>\n",
       "      <td></td>\n",
       "      <td>to each and every person celebrating this news...</td>\n",
       "    </tr>\n",
       "    <tr>\n",
       "      <th>2</th>\n",
       "      <td>And yet asymptomati… https://t.co/dUlngepDQV\"</td>\n",
       "      <td>north dakota, usa</td>\n",
       "      <td>And yet asymptomati…</td>\n",
       "      <td></td>\n",
       "      <td></td>\n",
       "      <td>and yet asymptomati…</td>\n",
       "    </tr>\n",
       "    <tr>\n",
       "      <th>3</th>\n",
       "      <td>Coronavirus is one thing. We clearly can’t be ...</td>\n",
       "      <td>sacramento, ca</td>\n",
       "      <td>Coronavirus is one thing. We clearly can’t be ...</td>\n",
       "      <td></td>\n",
       "      <td></td>\n",
       "      <td>coronavirus is one thing. we clearly can’t be ...</td>\n",
       "    </tr>\n",
       "    <tr>\n",
       "      <th>4</th>\n",
       "      <td>With @ParentMail down, this also failed to be ...</td>\n",
       "      <td>balham</td>\n",
       "      <td>With @ParentMail down, this also failed to be ...</td>\n",
       "      <td></td>\n",
       "      <td>@parentmail</td>\n",
       "      <td>with down, this also failed to be sent out ear...</td>\n",
       "    </tr>\n",
       "    <tr>\n",
       "      <th>5</th>\n",
       "      <td>I don’t understand why famous people who “ fee...</td>\n",
       "      <td>south jersey</td>\n",
       "      <td>I don’t understand why famous people who “ fee...</td>\n",
       "      <td></td>\n",
       "      <td></td>\n",
       "      <td>i don’t understand why famous people who “ fee...</td>\n",
       "    </tr>\n",
       "  </tbody>\n",
       "</table>\n",
       "</div>"
      ],
      "text/plain": [
       "                                               tweet           location  \\\n",
       "0  To each and every person celebrating this news...  far from home, wy   \n",
       "2      And yet asymptomati… https://t.co/dUlngepDQV\"  north dakota, usa   \n",
       "3  Coronavirus is one thing. We clearly can’t be ...     sacramento, ca   \n",
       "4  With @ParentMail down, this also failed to be ...             balham   \n",
       "5  I don’t understand why famous people who “ fee...       south jersey   \n",
       "\n",
       "                                              no_url hashtags   at_mention  \\\n",
       "0  To each and every person celebrating this news...                         \n",
       "2                               And yet asymptomati…                         \n",
       "3  Coronavirus is one thing. We clearly can’t be ...                         \n",
       "4  With @ParentMail down, this also failed to be ...           @parentmail   \n",
       "5  I don’t understand why famous people who “ fee...                         \n",
       "\n",
       "                                             cleaned  \n",
       "0  to each and every person celebrating this news...  \n",
       "2                               and yet asymptomati…  \n",
       "3  coronavirus is one thing. we clearly can’t be ...  \n",
       "4  with down, this also failed to be sent out ear...  \n",
       "5  i don’t understand why famous people who “ fee...  "
      ]
     },
     "execution_count": 265,
     "metadata": {},
     "output_type": "execute_result"
    }
   ],
   "source": [
    "df.head()"
   ]
  },
  {
   "cell_type": "code",
   "execution_count": 272,
   "metadata": {},
   "outputs": [
    {
     "data": {
      "text/plain": [
       "tweet         143491\n",
       "location       39662\n",
       "no_url        131330\n",
       "hashtags       13319\n",
       "at_mention     21731\n",
       "cleaned       128825\n",
       "dtype: int64"
      ]
     },
     "execution_count": 272,
     "metadata": {},
     "output_type": "execute_result"
    }
   ],
   "source": [
    "# The number of unique hashtags and @ mentions is misleading; this is showing the unique ordering\n",
    "# and inclusion of each in any given row. NLTK tokenization will give me a real total count of each.\n",
    "df.nunique()"
   ]
  },
  {
   "cell_type": "code",
   "execution_count": 249,
   "metadata": {},
   "outputs": [
    {
     "data": {
      "text/plain": [
       "['and yet asymptomati…',\n",
       " 'coronavirus is one thing. we clearly can’t be closing down golf courses though.',\n",
       " 'with down, this also failed to be sent out earlier this afternoon (attachement to the letter)',\n",
       " 'i don’t understand why famous people who “ feel like they’re getting a cold “ can automatically get tested for coro…']"
      ]
     },
     "execution_count": 249,
     "metadata": {},
     "output_type": "execute_result"
    }
   ],
   "source": [
    "# Taking a look at the first five cleaned up tweets\n",
    "# For the purposes of modeling, this is one of the datasets I'll try out.\n",
    "[item for item in df['cleaned'][1:5]]"
   ]
  },
  {
   "cell_type": "code",
   "execution_count": 250,
   "metadata": {},
   "outputs": [],
   "source": [
    "# I'm joining the text with line returns so that the tweets will remain discrete.\n",
    "clean_text = '\\n'.join(tweet for tweet in df['cleaned'])"
   ]
  },
  {
   "cell_type": "code",
   "execution_count": 251,
   "metadata": {},
   "outputs": [
    {
     "data": {
      "text/plain": [
       "11270314"
      ]
     },
     "execution_count": 251,
     "metadata": {},
     "output_type": "execute_result"
    }
   ],
   "source": [
    "# These cleaned up texts for only 144,000 tweets still generate more than 11 million characters.\n",
    "len(clean_text)"
   ]
  },
  {
   "cell_type": "code",
   "execution_count": 259,
   "metadata": {},
   "outputs": [],
   "source": [
    "# Writing the text file for use elsewhere\n",
    "with open('clean_text.txt', 'w') as outfile:\n",
    "    outfile.write(clean_text)"
   ]
  }
 ],
 "metadata": {
  "kernelspec": {
   "display_name": "Python 3",
   "language": "python",
   "name": "python3"
  },
  "language_info": {
   "codemirror_mode": {
    "name": "ipython",
    "version": 3
   },
   "file_extension": ".py",
   "mimetype": "text/x-python",
   "name": "python",
   "nbconvert_exporter": "python",
   "pygments_lexer": "ipython3",
   "version": "3.6.8"
  }
 },
 "nbformat": 4,
 "nbformat_minor": 2
}
